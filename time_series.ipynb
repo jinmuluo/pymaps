{
 "cells": [
  {
   "cell_type": "code",
   "execution_count": 2,
   "metadata": {},
   "outputs": [],
   "source": [
    "import xarray as xr\n",
    "import numpy as np\n",
    "import matplotlib.pyplot as plt \n",
    "import cartopy\n",
    "import cartopy.crs as ccrs\n",
    "import cftime\n",
    "from datetime import date, timedelta"
   ]
  },
  {
   "cell_type": "code",
   "execution_count": 15,
   "metadata": {},
   "outputs": [
    {
     "name": "stdout",
     "output_type": "stream",
     "text": [
      "/scratch/jinmuluo/archive/fanv3_1th/lnd/hist/fanv3_1th.clm2.h6.2013-01-01-00000.nc\n"
     ]
    }
   ],
   "source": [
    "case = \"fanv3_1th\"\n",
    "path = \"/scratch/jinmuluo/archive/\" + case + \"/lnd/hist/\" \n",
    "start_date = date(2010, 1, 1)\n",
    "end_date = date(2013, 1, 1)\n",
    "delta = end_date - start_date\n",
    "fields = [\"N2O_DENITRIFY_TOTAL\", \"N2O_NITRIFY_TOTAL\", \"NOx_DENITRIFY_TOTAL\", \"NOx_NITRIFY_TOTAL\"]\n",
    "fanCLM = []\n",
    "for i in range(delta.days + 1):\n",
    "    day = start_date + timedelta(days=i)\n",
    "    day = day.strftime('%Y-%m-%d')\n",
    "    fanCLM.append(path + case + \".clm2.h6.\" + day +\"-00000.nc\")\n",
    "print(fanCLM[-1])"
   ]
  },
  {
   "cell_type": "code",
   "execution_count": null,
   "metadata": {},
   "outputs": [],
   "source": [
    "def preprocess (ds, fields = fields):\n",
    "    return(ds[fields])\n",
    "\n",
    "def fix_time(ds):  \n",
    "    ndays = len(ds.time)\n",
    "    yr0 = ds['time.year'][0].values\n",
    "    ds['time'] =xr.cftime_range(str(yr0),periods=ndays,freq='D')    \n",
    "    return ds\n",
    "\n",
    "dsCLM = fix_time(xr.open_mfdataset(fanCLM, decode_times=True, preprocess=preprocess))\n",
    "dsCLM"
   ]
  },
  {
   "cell_type": "code",
   "execution_count": null,
   "metadata": {},
   "outputs": [],
   "source": [
    "def sp_plot(ds, field, coords, show=False):\n",
    "    sp = ds.sel(lat=coords[0], lon=coords[1], method='nearest')    \n",
    "    # gN/m2/s to kg/day\n",
    "    result = sp[field] * ds['landfrac'] * ds['area'] * 1000 * 24 * 3600\n",
    "    result.plot(hue='sim', x='time')\n",
    "    if show:\n",
    "        result.plot(x='time')\n",
    "        plt.show()\n",
    "    return result"
   ]
  },
  {
   "cell_type": "code",
   "execution_count": null,
   "metadata": {},
   "outputs": [],
   "source": [
    "def tot_plot(ds, field, show=False):\n",
    "    # calculate global total emission (kg/day)\n",
    "    total = ds[field]*ds['area']* 1000 * 24 * 3600\n",
    "    total.sum(skipnan=True, dim=[1, 2])\n",
    "    if show:\n",
    "        total.plot(x='time')\n",
    "        plt.show()\n",
    "    return total"
   ]
  },
  {
   "cell_type": "code",
   "execution_count": null,
   "metadata": {},
   "outputs": [],
   "source": [
    "def regional_plot(ds, field, coords, show=False):\n",
    "    x = slice(coords['lower_lat'], coords['upper_lat'])\n",
    "    y = slice(coords['west_lon'], coords['east_lon'])\n",
    "    sp = ds[field].sel(lat=x, lon=y).sum(skipnan=True, dim=[1, 2])\n",
    "    if show:\n",
    "        sp.plot(x='time')\n",
    "        plt.show()\n",
    "    return 0"
   ]
  },
  {
   "cell_type": "code",
   "execution_count": null,
   "metadata": {},
   "outputs": [],
   "source": [
    "coordinates = [23.45, 130.25]\n",
    "sp_plot(ds=dsCLM, field=fields[0], coords=coordinates, show=True)"
   ]
  },
  {
   "cell_type": "code",
   "execution_count": null,
   "metadata": {},
   "outputs": [],
   "source": [
    "tot_plot(ds=dsCLM, field=fields[0], show=True)"
   ]
  },
  {
   "cell_type": "code",
   "execution_count": 3,
   "metadata": {},
   "outputs": [
    {
     "ename": "NameError",
     "evalue": "name 'regional_plot' is not defined",
     "output_type": "error",
     "traceback": [
      "\u001b[0;31m---------------------------------------------------------------------------\u001b[0m",
      "\u001b[0;31mNameError\u001b[0m                                 Traceback (most recent call last)",
      "Cell \u001b[0;32mIn [3], line 2\u001b[0m\n\u001b[1;32m      1\u001b[0m coordinates \u001b[39m=\u001b[39m {\u001b[39m'\u001b[39m\u001b[39mupper_lat\u001b[39m\u001b[39m'\u001b[39m:\u001b[39m45.50\u001b[39m, \u001b[39m'\u001b[39m\u001b[39mlower_lat\u001b[39m\u001b[39m'\u001b[39m:\u001b[39m25.35\u001b[39m, \u001b[39m'\u001b[39m\u001b[39mwest_lon\u001b[39m\u001b[39m'\u001b[39m: \u001b[39m100.00\u001b[39m, \u001b[39m'\u001b[39m\u001b[39meast_lon\u001b[39m\u001b[39m'\u001b[39m:\u001b[39m130.00\u001b[39m}\n\u001b[0;32m----> 2\u001b[0m regional_plot(ds\u001b[39m=\u001b[39mdsCLM, field\u001b[39m=\u001b[39mfields[\u001b[39m0\u001b[39m], coords\u001b[39m=\u001b[39mcoordinates, show\u001b[39m=\u001b[39m\u001b[39mTrue\u001b[39;00m)\n\u001b[1;32m      3\u001b[0m x \u001b[39m=\u001b[39m \u001b[39mslice\u001b[39m(coordinates[\u001b[39m'\u001b[39m\u001b[39mupper_lat\u001b[39m\u001b[39m'\u001b[39m], coordinates[\u001b[39m'\u001b[39m\u001b[39mlower_lat\u001b[39m\u001b[39m'\u001b[39m])\n\u001b[1;32m      4\u001b[0m x\n",
      "\u001b[0;31mNameError\u001b[0m: name 'regional_plot' is not defined"
     ]
    }
   ],
   "source": [
    "coordinates = {'upper_lat':45.50, 'lower_lat':25.35, 'west_lon': 100.00, 'east_lon':130.00}\n",
    "regional_plot(ds=dsCLM, field=fields[0], coords=coordinates, show=True)"
   ]
  }
 ],
 "metadata": {
  "kernelspec": {
   "display_name": "base",
   "language": "python",
   "name": "python3"
  },
  "language_info": {
   "codemirror_mode": {
    "name": "ipython",
    "version": 3
   },
   "file_extension": ".py",
   "mimetype": "text/x-python",
   "name": "python",
   "nbconvert_exporter": "python",
   "pygments_lexer": "ipython3",
   "version": "3.9.13 | packaged by conda-forge | (main, May 27 2022, 17:01:00) \n[Clang 13.0.1 ]"
  },
  "orig_nbformat": 4,
  "vscode": {
   "interpreter": {
    "hash": "d72940b3c77f8f7f15282de07229ee277c4441a1f0c746257ae1e112f6558483"
   }
  }
 },
 "nbformat": 4,
 "nbformat_minor": 2
}
