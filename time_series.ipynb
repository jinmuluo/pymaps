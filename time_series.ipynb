{
 "cells": [
  {
   "cell_type": "code",
   "execution_count": 2,
   "metadata": {},
   "outputs": [],
   "source": [
    "import xarray as xr\n",
    "import numpy as np\n",
    "import matplotlib.pyplot as plt \n",
    "import cartopy\n",
    "import cartopy.crs as ccrs\n",
    "import cftime\n",
    "from datetime import date, timedelta"
   ]
  },
  {
   "cell_type": "code",
   "execution_count": 15,
   "metadata": {},
   "outputs": [
    {
     "name": "stdout",
     "output_type": "stream",
     "text": [
      "/scratch/jinmuluo/archive/fanv3_1th/lnd/hist/fanv3_1th.clm2.h6.2013-01-01-00000.nc\n"
     ]
    }
   ],
   "source": [
    "case = \"fanv3_1th\"\n",
    "path = \"/scratch/jinmuluo/archive/\" + case + \"/lnd/hist/\" \n",
    "start_date = date(2010, 1, 1)\n",
    "end_date = date(2013, 1, 1)\n",
    "delta = end_date - start_date\n",
    "fields = [\"N2O_DENITRIFY_TOTAL\", \"N2O_NITRIFY_TOTAL\", \"NOx_DENITRIFY_TOTAL\", \"NOx_NITRIFY_TOTAL\"]\n",
    "fanCLM = []\n",
    "for i in range(delta.days + 1):\n",
    "    day = start_date + timedelta(days=i)\n",
    "    day = day.strftime('%Y-%m-%d')\n",
    "    fanCLM.append(path + case + \".clm2.h6.\" + day +\"-00000.nc\")\n",
    "print(fanCLM[-1])"
   ]
  },
  {
   "cell_type": "code",
   "execution_count": null,
   "metadata": {},
   "outputs": [],
   "source": [
    "def preprocess (ds, fields = fields):\n",
    "    return(ds[fields])\n",
    "\n",
    "def fix_time(ds):  \n",
    "    ndays = len(ds.time)\n",
    "    yr0 = ds['time.year'][0].values\n",
    "    ds['time'] =xr.cftime_range(str(yr0),periods=ndays,freq='D')    \n",
    "    return ds\n",
    "\n",
    "dsCLM = fix_time(xr.open_mfdataset(fanCLM, decode_times=True, preprocess=preprocess))\n",
    "dsCLM"
   ]
  },
  {
   "cell_type": "code",
   "execution_count": null,
   "metadata": {},
   "outputs": [],
   "source": [
    "def sp_plot(ds, field, coords, show=False):\n",
    "    sp = ds.sel(lat=coords[0], lon=coords[1], method='nearest')\n",
    "    \n",
    "    # gN/m2/s to kg/day\n",
    "    result = sp[field] * ds['area'] * 1000 * 24 * 3600\n",
    "    result.plot(hue='sim', x='time')\n",
    "    if show:\n",
    "        plt.show()\n",
    "    return result"
   ]
  },
  {
   "cell_type": "code",
   "execution_count": null,
   "metadata": {},
   "outputs": [],
   "source": [
    "def tot_plot(ds, field):\n",
    "    ds[field]\n"
   ]
  },
  {
   "cell_type": "code",
   "execution_count": null,
   "metadata": {},
   "outputs": [],
   "source": [
    "def country_plot(ds, field, country):\n",
    "    ds[field]"
   ]
  },
  {
   "cell_type": "code",
   "execution_count": null,
   "metadata": {},
   "outputs": [],
   "source": [
    "coordinates = [23.45, 130.25]\n",
    "sp_plot(ds=fanCLM, field=fields[0], coords=coordinates, show=True)"
   ]
  },
  {
   "cell_type": "code",
   "execution_count": null,
   "metadata": {},
   "outputs": [],
   "source": []
  },
  {
   "cell_type": "code",
   "execution_count": null,
   "metadata": {},
   "outputs": [],
   "source": [
    "country = \"US\""
   ]
  }
 ],
 "metadata": {
  "kernelspec": {
   "display_name": "base",
   "language": "python",
   "name": "python3"
  },
  "language_info": {
   "codemirror_mode": {
    "name": "ipython",
    "version": 3
   },
   "file_extension": ".py",
   "mimetype": "text/x-python",
   "name": "python",
   "nbconvert_exporter": "python",
   "pygments_lexer": "ipython3",
   "version": "3.9.13 | packaged by conda-forge | (main, May 27 2022, 17:01:00) \n[Clang 13.0.1 ]"
  },
  "orig_nbformat": 4,
  "vscode": {
   "interpreter": {
    "hash": "d72940b3c77f8f7f15282de07229ee277c4441a1f0c746257ae1e112f6558483"
   }
  }
 },
 "nbformat": 4,
 "nbformat_minor": 2
}
