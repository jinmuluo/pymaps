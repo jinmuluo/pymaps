{
 "cells": [
  {
   "cell_type": "code",
   "execution_count": 2,
   "metadata": {},
   "outputs": [],
   "source": [
    "import xarray as xr\n",
    "import numpy as np\n",
    "import matplotlib.pyplot as plt \n",
    "import matplotlib.pyplot as plt\n",
    "import cartopy\n",
    "import cartopy.crs as ccrs\n",
    "import cftime\n",
    "from datetime import date, timedelta"
   ]
  },
  {
   "cell_type": "code",
   "execution_count": 15,
   "metadata": {},
   "outputs": [
    {
     "name": "stdout",
     "output_type": "stream",
     "text": [
      "/scratch/jinmuluo/archive/fanv3_1th/lnd/hist/fanv3_1th.clm2.h6.2013-01-01-00000.nc\n"
     ]
    }
   ],
   "source": [
    "case = \"fanv3_1th\"\n",
    "path = \"/scratch/jinmuluo/archive/\" + case + \"/lnd/hist/\" \n",
    "start_date = date(2010, 1, 1)\n",
    "end_date = date(2013, 1, 1)\n",
    "delta = end_date - start_date\n",
    "fields = [\"N2O_DENITRIFY_TOTAL\", \"N2O_NITRIFY_TOTAL\", \"NOx_DENITRIFY_TOTAL\", \"NOx_NITRIFY_TOTAL\"]\n",
    "fanCTSM = []\n",
    "for i in range(delta.days + 1):\n",
    "    day = start_date + timedelta(days=i)\n",
    "    day = day.strftime('%Y-%m-%d')\n",
    "    fanCTSM.append(path + case + \".clm2.h6.\" + day +\"-00000.nc\")\n",
    "print(fanCTSM[-1])"
   ]
  },
  {
   "cell_type": "code",
   "execution_count": null,
   "metadata": {},
   "outputs": [],
   "source": [
    "def preprocess (ds, fields = fields):\n",
    "    return(ds[fields])\n",
    "\n",
    "def fix_time(ds):  \n",
    "    ndays = len(ds.time)\n",
    "    yr0 = ds['time.year'][0].values\n",
    "    ds['time'] =xr.cftime_range(str(yr0),periods=ndays,freq='D')    \n",
    "    return ds\n",
    "\n",
    "fix_time(xr.open_mfdataset(fanCTSM, decode_times=True, preprocess=preprocess))"
   ]
  },
  {
   "cell_type": "code",
   "execution_count": null,
   "metadata": {},
   "outputs": [],
   "source": [
    "def single_point(ds):\n",
    "    "
   ]
  },
  {
   "cell_type": "code",
   "execution_count": null,
   "metadata": {},
   "outputs": [],
   "source": [
    "def total(ds):"
   ]
  }
 ],
 "metadata": {
  "kernelspec": {
   "display_name": "base",
   "language": "python",
   "name": "python3"
  },
  "language_info": {
   "codemirror_mode": {
    "name": "ipython",
    "version": 3
   },
   "file_extension": ".py",
   "mimetype": "text/x-python",
   "name": "python",
   "nbconvert_exporter": "python",
   "pygments_lexer": "ipython3",
   "version": "3.9.13"
  },
  "orig_nbformat": 4,
  "vscode": {
   "interpreter": {
    "hash": "d72940b3c77f8f7f15282de07229ee277c4441a1f0c746257ae1e112f6558483"
   }
  }
 },
 "nbformat": 4,
 "nbformat_minor": 2
}
