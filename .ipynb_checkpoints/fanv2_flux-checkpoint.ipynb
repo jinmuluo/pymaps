{
 "cells": [
  {
   "cell_type": "code",
   "execution_count": 1,
   "id": "32d2b9af-0c7a-42a6-9e82-958ab5cce144",
   "metadata": {},
   "outputs": [],
   "source": [
    "import xarray as xr\n",
    "import numpy as np\n",
    "import pandas as pd\n",
    "from datetime import date, timedelta\n",
    "from dateutil.relativedelta import relativedelta"
   ]
  },
  {
   "cell_type": "code",
   "execution_count": 2,
   "id": "925aec54-5765-463e-9450-dd67899c5361",
   "metadata": {},
   "outputs": [],
   "source": [
    "case = \"fanclim-rcp85-f09-r1\"\n",
    "path = \"/glade/scratch/jinmuluo/archive/rcp/hist/\" \n",
    "start_date = date(2010, 1, 1)\n",
    "end_date = date(2010, 12, 1)\n",
    "delta = end_date - start_date\n",
    "\n",
    "variables = ['MANURE_N_GRZ', 'MANURE_N_BARNS', 'FERT_N_APP',\n",
    "            'NH3_TOTAL', 'NH3_MANURE_APP', 'NH3_GRZ', 'NH3_BARNS', 'NH3_STORES', 'NH3_FERT', \n",
    "            'FERT_TO_SMINN', 'MANURE_NH4_TO_SOIL', 'MANURE_NO3_TO_SOIL', \n",
    "            'FERT_NH4_TO_SOIL', 'FERT_NO3_TO_SOIL', \n",
    "            'MANURE_NH4_RUNOFF', 'FERT_NH4_RUNOFF', 'area', 'landfrac']\n",
    "\n",
    "CLM = []\n",
    "for i in range(delta.days//30 + 1):\n",
    "    month = start_date + relativedelta(months=i)\n",
    "    month = month.strftime('%Y-%m')\n",
    "    CLM.append(path + case + \".clm2.\" + \"h0\" + \".\" + month +\".nc4\")"
   ]
  },
  {
   "cell_type": "code",
   "execution_count": 3,
   "id": "097b25c9-2217-4a2c-ab3d-b8a9117aa5c6",
   "metadata": {},
   "outputs": [],
   "source": [
    "def preprocess(ds, fields=variables):\n",
    "    return(ds[fields])\n",
    "\n",
    "def fix_time(ds):  \n",
    "    date0 = ds['time'][0].values\n",
    "    date1 = ds['time'][-1].values\n",
    "    # ds['time'] =xr.cftime_range(str(yr0),periods=ndays,freq='D')\n",
    "    ds['time'] = pd.date_range(str(date0),str(date1),freq='MS') \n",
    "    return ds\n",
    "\n",
    "dsCLM = fix_time(xr.open_mfdataset(CLM, decode_times=True, preprocess=preprocess))"
   ]
  },
  {
   "cell_type": "code",
   "execution_count": 4,
   "id": "139fe7be-b78f-4675-bc09-559c37f5c212",
   "metadata": {},
   "outputs": [
    {
     "name": "stdout",
     "output_type": "stream",
     "text": [
      "Mamure grazing     Manure barns     Fertilizers\n",
      "68.889               60.045              83.634\n"
     ]
    }
   ],
   "source": [
    "MANURE_N_GRZ = (dsCLM[\"MANURE_N_GRZ\"].fillna(0) * dsCLM['area']*dsCLM['landfrac']*1e6).sum(dim=['lat', 'lon'])\n",
    "MANURE_N_BARNS = (dsCLM[\"MANURE_N_BARNS\"].fillna(0) * dsCLM['area']*dsCLM['landfrac']*1e6).sum(dim=['lat', 'lon'])\n",
    "FERT_N_APP   =   (dsCLM[\"FERT_N_APP\"].fillna(0) * dsCLM['area']*dsCLM['landfrac']*1e6).sum(dim=['lat', 'lon'])\n",
    "\n",
    "grz = 0.0; barns = 0.0; fert = 0.0\n",
    "\n",
    "# unit transfer form gN/s to Tg/year\n",
    "for i in range(len(dsCLM.time)):\n",
    "    t= start_date + relativedelta(months=i)\n",
    "    t2 = start_date + relativedelta(months=i+1)\n",
    "    day = (t2-t).days\n",
    "\n",
    "    grz = grz + MANURE_N_GRZ[i].values * day * 24 * 3600 * 1e-12\n",
    "    barns = barns + MANURE_N_BARNS[i].values * day * 24 * 3600 * 1e-12\n",
    "    fert = fert + FERT_N_APP[i].values * day * 24 * 3600 * 1e-12\n",
    "\n",
    "print(\"Mamure grazing     Manure barns     Fertilizers\")\n",
    "print(round(grz, 3), \"             \", round(barns,3), \"            \", round(fert,3))"
   ]
  },
  {
   "cell_type": "code",
   "execution_count": 5,
   "id": "682e0ed0-cf91-460f-8482-a0da6d84e486",
   "metadata": {},
   "outputs": [
    {
     "name": "stdout",
     "output_type": "stream",
     "text": [
      "54 53.901\n"
     ]
    }
   ],
   "source": [
    "NH3_TOTAL = (dsCLM[\"NH3_TOTAL\"].fillna(0) * dsCLM['area']*dsCLM['landfrac']*1e6).sum(dim=['lat', 'lon'])\n",
    "NH3_MANURE_APP = (dsCLM[\"NH3_MANURE_APP\"].fillna(0) * dsCLM['area']*dsCLM['landfrac']*1e6).sum(dim=['lat', 'lon'])\n",
    "NH3_GRZ = (dsCLM[\"NH3_GRZ\"].fillna(0) * dsCLM['area']*dsCLM['landfrac']*1e6).sum(dim=['lat', 'lon'])\n",
    "NH3_BARNS = (dsCLM[\"NH3_BARNS\"].fillna(0) * dsCLM['area']*dsCLM['landfrac']*1e6).sum(dim=['lat', 'lon'])\n",
    "NH3_STORES = (dsCLM[\"NH3_STORES\"].fillna(0) * dsCLM['area']*dsCLM['landfrac']*1e6).sum(dim=['lat', 'lon'])\n",
    "NH3_FERT = (dsCLM[\"NH3_FERT\"].fillna(0) * dsCLM['area']*dsCLM['landfrac']*1e6).sum(dim=['lat', 'lon'])\n",
    "\n",
    "nh3_total = 0.0; nh3_app = 0.0; nh3_grz = 0.0; nh3_barns = 0.0; nh3_stores=0.0; nh3_fert=0.0\n",
    "\n",
    "# unit transfer form gN/s to Tg/year\n",
    "for i in range(len(dsCLM.time)):\n",
    "    t= start_date + relativedelta(months=i)\n",
    "    t2 = start_date + relativedelta(months=i+1)\n",
    "    day = (t2-t).days\n",
    "    \n",
    "    nh3_total = nh3_total + NH3_TOTAL[i].values * day * 24 * 3600 * 1e-12\n",
    "    nh3_app = nh3_app + NH3_MANURE_APP[i].values * day * 24 * 3600 * 1e-12\n",
    "    nh3_grz = nh3_grz + NH3_GRZ[i].values * day * 24 * 3600 * 1e-12\n",
    "    nh3_barns = nh3_barns + NH3_BARNS[i].values * day * 24 * 3600 * 1e-12\n",
    "    nh3_stores = nh3_stores + NH3_STORES[i].values * day * 24 * 3600 * 1e-12\n",
    "    nh3_fert = nh3_fert + NH3_FERT[i].values * day * 24 * 3600 * 1e-12\n",
    "\n",
    "print(round(nh3_total), round(nh3_app+nh3_grz+nh3_barns+nh3_stores+nh3_fert,3))\n"
   ]
  },
  {
   "cell_type": "code",
   "execution_count": 6,
   "id": "3f271de8-e10b-4878-801a-bc37661ad9ea",
   "metadata": {},
   "outputs": [
    {
     "name": "stdout",
     "output_type": "stream",
     "text": [
      "112.306 156.395 1.197 1.218\n"
     ]
    }
   ],
   "source": [
    "FERT_TO_SMINN = (dsCLM[\"FERT_TO_SMINN\"].fillna(0) * dsCLM['area']*dsCLM['landfrac']*1e6).sum(dim=['lat', 'lon'])\n",
    "MANURE_NH4_TO_SOIL = (dsCLM[\"MANURE_NH4_TO_SOIL\"].fillna(0) * dsCLM['area']*dsCLM['landfrac']*1e6).sum(dim=['lat', 'lon'])\n",
    "MANURE_NO3_TO_SOIL = (dsCLM[\"MANURE_NO3_TO_SOIL\"].fillna(0) * dsCLM['area']*dsCLM['landfrac']*1e6).sum(dim=['lat', 'lon'])\n",
    "FERT_NH4_TO_SOIL = (dsCLM[\"FERT_NH4_TO_SOIL\"].fillna(0) * dsCLM['area']*dsCLM['landfrac']*1e6).sum(dim=['lat', 'lon'])\n",
    "FERT_NO3_TO_SOIL = (dsCLM[\"FERT_NO3_TO_SOIL\"].fillna(0) * dsCLM['area']*dsCLM['landfrac']*1e6).sum(dim=['lat', 'lon'])\n",
    "MANURE_NH4_RUNOFF = (dsCLM[\"MANURE_NH4_RUNOFF\"].fillna(0) * dsCLM['area']*dsCLM['landfrac']*1e6).sum(dim=['lat', 'lon'])\n",
    "FERT_NH4_RUNOFF = (dsCLM[\"FERT_NH4_RUNOFF\"].fillna(0) * dsCLM['area']*dsCLM['landfrac']*1e6).sum(dim=['lat', 'lon'])\n",
    "    \n",
    "fert_sminn = 0.0; manure_nh4_soil=0.0; manure_no3_soil=0.0;fert_nh4_soil=0.0; fert_no3_soil=0.0;\n",
    "manure_nh4_runoff=0.0; fert_nh4_runoff=0.0;\n",
    "\n",
    "# unit transfer form gN/s to Tg/year\n",
    "for i in range(len(dsCLM.time)):\n",
    "    t= start_date + relativedelta(months=i)\n",
    "    t2 = start_date + relativedelta(months=i+1)\n",
    "    day = (t2-t).days\n",
    "    fert_sminn = fert_sminn + FERT_TO_SMINN[i].values * day * 24 * 3600 * 1e-12\n",
    "    manure_nh4_soil = manure_nh4_soil + MANURE_NH4_TO_SOIL[i].values * day * 24 * 3600 * 1e-12\n",
    "    manure_no3_soil= manure_no3_soil + MANURE_NO3_TO_SOIL[i].values * day * 24 * 3600 * 1e-12\n",
    "    fert_nh4_soil = fert_nh4_soil + FERT_NH4_TO_SOIL[i].values * day * 24 * 3600 * 1e-12\n",
    "    fert_no3_soil = fert_no3_soil + FERT_NO3_TO_SOIL[i].values * day * 24 * 3600 * 1e-12\n",
    "    manure_nh4_runoff= manure_nh4_runoff + MANURE_NH4_RUNOFF[i].values * day * 24 * 3600 * 1e-12\n",
    "    fert_nh4_runoff = fert_nh4_runoff + FERT_NH4_RUNOFF[i].values * day * 24 * 3600 * 1e-12\n",
    "\n",
    "print(round(fert_sminn,3), round(manure_nh4_soil + manure_no3_soil + fert_nh4_soil + fert_no3_soil,3),\n",
    "      round(manure_nh4_runoff,3), round(fert_nh4_runoff, 3))"
   ]
  },
  {
   "cell_type": "code",
   "execution_count": 7,
   "id": "afe9b6e6-7c81-4c81-bf23-8bce83884b0b",
   "metadata": {},
   "outputs": [
    {
     "name": "stdout",
     "output_type": "stream",
     "text": [
      "-0.1429174244073712\n"
     ]
    }
   ],
   "source": [
    "fert_sminn2 = manure_nh4_soil + manure_no3_soil + fert_nh4_soil + fert_no3_soil\n",
    "balance = grz + barns + fert - nh3_total - fert_sminn2 - manure_nh4_runoff - fert_nh4_runoff\n",
    "print(balance)"
   ]
  },
  {
   "cell_type": "code",
   "execution_count": 12,
   "id": "0101957f-aa0e-4ec8-9db6-34738fe3d615",
   "metadata": {},
   "outputs": [
    {
     "name": "stdout",
     "output_type": "stream",
     "text": [
      "[1.6655878e+08 1.6655878e+08 1.6655878e+08 1.6655878e+08 1.6655878e+08\n",
      " 1.6655878e+08 1.6655878e+08 1.6655878e+08 1.6655878e+08 1.6655878e+08\n",
      " 1.6655878e+08 1.6655878e+08]\n",
      "[1.4881885e+08 1.4881885e+08 1.4881885e+08 1.4881885e+08 1.4881885e+08\n",
      " 1.4881885e+08 1.4881885e+08 1.4881885e+08 1.4881885e+08 1.4881885e+08\n",
      " 1.4881885e+08 1.4881885e+08]\n"
     ]
    }
   ],
   "source": [
    "print(dsCLM['area'].sum(dim=['lat', 'lon']).values)\n",
    "print((dsCLM['area']*dsCLM['landfrac']).sum(dim=['lat', 'lon']).values)"
   ]
  }
 ],
 "metadata": {
  "kernelspec": {
   "display_name": "NPL 2023a",
   "language": "python",
   "name": "npl-2023a"
  },
  "language_info": {
   "codemirror_mode": {
    "name": "ipython",
    "version": 3
   },
   "file_extension": ".py",
   "mimetype": "text/x-python",
   "name": "python",
   "nbconvert_exporter": "python",
   "pygments_lexer": "ipython3",
   "version": "3.9.15"
  }
 },
 "nbformat": 4,
 "nbformat_minor": 5
}
