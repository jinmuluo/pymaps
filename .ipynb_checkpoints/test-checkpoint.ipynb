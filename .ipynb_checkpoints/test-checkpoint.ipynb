{
 "cells": [
  {
   "cell_type": "code",
   "execution_count": 1,
   "id": "d902a7f9-e6da-4b04-af9c-aa20d3f610d8",
   "metadata": {},
   "outputs": [],
   "source": [
    "import xarray as xr\n",
    "import numpy as np\n",
    "import pandas as pd\n",
    "from datetime import date, timedelta\n",
    "from dateutil.relativedelta import relativedelta"
   ]
  },
  {
   "cell_type": "code",
   "execution_count": null,
   "id": "df7a831c-bb15-45cc-b3e5-02e3ab5db18f",
   "metadata": {},
   "outputs": [],
   "source": [
    "case = \"fanv3_improving\"\n",
    "path = \"/glade/scratch/jinmuluo/archive/nitrogen_cycle/hist/\" \n",
    "start_date = date(2010, 1, 1)\n",
    "end_date = date(2010, 12, 1)\n",
    "delta = end_date - start_date\n",
    "\n",
    "GAS=['NH3_TOTAL', 'NH3_GRZ', 'NH3_BARNS', 'NH3_STORES', 'NH3_FERT', 'area', 'landfrac']\n",
    "\n",
    "CLM = []\n",
    "for i in range(delta.days//30 + 1):\n",
    "    month = start_date + relativedelta(months=i)\n",
    "    month = month.strftime('%Y-%m')\n",
    "    CLM.append(path + case + \".clm2.\" + \"h0\" + \".\" + month +\".nc4\")"
   ]
  },
  {
   "cell_type": "code",
   "execution_count": null,
   "id": "8bb927af-7e0f-45f2-afb4-355020240729",
   "metadata": {},
   "outputs": [],
   "source": []
  }
 ],
 "metadata": {
  "kernelspec": {
   "display_name": "NPL 2023a",
   "language": "python",
   "name": "npl-2023a"
  },
  "language_info": {
   "codemirror_mode": {
    "name": "ipython",
    "version": 3
   },
   "file_extension": ".py",
   "mimetype": "text/x-python",
   "name": "python",
   "nbconvert_exporter": "python",
   "pygments_lexer": "ipython3",
   "version": "3.9.15"
  }
 },
 "nbformat": 4,
 "nbformat_minor": 5
}
