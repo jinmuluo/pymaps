{
 "cells": [
  {
   "cell_type": "code",
   "execution_count": 1,
   "id": "d902a7f9-e6da-4b04-af9c-aa20d3f610d8",
   "metadata": {},
   "outputs": [],
   "source": [
    "import xarray as xr\n",
    "import numpy as np\n",
    "import pandas as pd\n",
    "import os\n",
    "from datetime import date, timedelta\n",
    "from dateutil.relativedelta import relativedelta"
   ]
  },
  {
   "cell_type": "code",
   "execution_count": 58,
   "id": "7f1e8063-db8f-4091-a9c7-3b87051e1b6d",
   "metadata": {},
   "outputs": [],
   "source": [
    "file_location = \"/glade/collections/rda/data/ds313.3/0.9x1.25\"\n",
    "start_year=2020; end_year=2023\n",
    "name_list = []\n",
    "MERRA2_name = \"MERRA2_0.9x1.25_YYYYMMDD.nc\"\n",
    "start_date = date(start_year, 1, 1)\n",
    "end_date = date(end_year, 1, 1)\n",
    "delta_days = (end_date - start_date).days\n",
    "datasets = []\n",
    "for d in range(delta_days):\n",
    "    date_now = start_date + relativedelta(days=d)\n",
    "    folder = str(date_now.year)\n",
    "    date_now = str(date_now.strftime(\"%Y%m%d\"))\n",
    "    filename = os.path.join(file_location, folder, MERRA2_name.replace(\"YYYYMMDD\",date_now))\n",
    "    \n",
    "    if os.path.exists(filename):\n",
    "        f_in = xr.open_dataset(filename)\n",
    "    else:\n",
    "        err_msg = \"File not found : \" + filename\n",
    "        exit(err_msg)\n",
    "    datasets.append(f_in[['PS', 'SHFLX', 'FSDS', 'T']].sel(lat='43.888', lon='273.888', method='nearest'))\n",
    "    f_in.close()\n",
    "\n",
    "combined = xr.concat(datasets, dim='time')\n",
    "del datasets"
   ]
  },
  {
   "cell_type": "code",
   "execution_count": 2,
   "id": "291b111c-4177-415d-beec-3fbbbd7714bd",
   "metadata": {},
   "outputs": [],
   "source": [
    "def read_BOOI4(file_name, isname='TRUE'):\n",
    "    if (isname):\n",
    "       file_location = os.path.join(os.getcwd(), file_name)\n",
    "    else:\n",
    "       file_location = file_name\n",
    "\n",
    "    dsBOOI4 = pd.read_csv(file_location, sep=',')\n",
    "    dsBOOI4['valid'] = pd.to_datetime(dsBOOI4['valid'])\n",
    "    dsBOOI4 = dsBOOI4.set_index('valid')\n",
    "\n",
    "    # Calculate the specific humidity.\n",
    "    dsBOOI4['tmpk'] = (dsBOOI4['tmpf'] - 32) * 5/9 + 273.15\n",
    "\n",
    "    return dsBOOI4"
   ]
  },
  {
   "cell_type": "code",
   "execution_count": 15,
   "id": "d373ff99-01ca-4a32-ab31-fef816756bd4",
   "metadata": {},
   "outputs": [],
   "source": [
    "a = read_BOOI4(file_name = \"/glade/scratch/jinmuluo/MESOCOM_fluxtower_BOOI4/isusm_BOOI4.txt\", isname='FALSE')"
   ]
  },
  {
   "cell_type": "code",
   "execution_count": 16,
   "id": "ba37afb3-4c94-4530-8fd7-069b5641ba9e",
   "metadata": {},
   "outputs": [
    {
     "data": {
      "text/plain": [
       "DatetimeIndex(['2020-06-10 15:00:00+00:00', '2020-06-10 16:00:00+00:00',\n",
       "               '2020-06-10 17:00:00+00:00', '2020-06-10 18:00:00+00:00',\n",
       "               '2020-06-10 19:00:00+00:00', '2020-06-10 20:00:00+00:00',\n",
       "               '2020-06-10 21:00:00+00:00', '2020-06-10 22:00:00+00:00',\n",
       "               '2020-06-10 23:00:00+00:00', '2020-06-11 00:00:00+00:00',\n",
       "               '2020-06-11 01:00:00+00:00', '2020-06-20 13:00:00+00:00',\n",
       "               '2020-06-20 14:00:00+00:00', '2020-06-20 15:00:00+00:00',\n",
       "               '2020-06-20 16:00:00+00:00', '2020-06-20 17:00:00+00:00',\n",
       "               '2020-06-20 18:00:00+00:00', '2020-06-20 19:00:00+00:00',\n",
       "               '2020-06-20 20:00:00+00:00', '2020-06-20 21:00:00+00:00',\n",
       "               '2020-06-20 22:00:00+00:00', '2020-06-20 23:00:00+00:00',\n",
       "               '2020-06-21 00:00:00+00:00', '2020-06-21 01:00:00+00:00'],\n",
       "              dtype='datetime64[ns, UTC]', name='valid', freq=None)"
      ]
     },
     "execution_count": 16,
     "metadata": {},
     "output_type": "execute_result"
    }
   ],
   "source": [
    "test = a.index[a['solar'].values > 3600*5000]\n",
    "test"
   ]
  },
  {
   "cell_type": "code",
   "execution_count": 17,
   "id": "53ed7af5-313a-4411-bd26-ad7c5d600e12",
   "metadata": {},
   "outputs": [
    {
     "data": {
      "text/plain": [
       "DatetimeIndex(['2020-06-09 15:00:00+00:00', '2020-06-09 16:00:00+00:00',\n",
       "               '2020-06-09 17:00:00+00:00', '2020-06-09 18:00:00+00:00',\n",
       "               '2020-06-09 19:00:00+00:00', '2020-06-09 20:00:00+00:00',\n",
       "               '2020-06-09 21:00:00+00:00', '2020-06-09 22:00:00+00:00',\n",
       "               '2020-06-09 23:00:00+00:00', '2020-06-10 00:00:00+00:00',\n",
       "               '2020-06-10 01:00:00+00:00', '2020-06-19 13:00:00+00:00',\n",
       "               '2020-06-19 14:00:00+00:00', '2020-06-19 15:00:00+00:00',\n",
       "               '2020-06-19 16:00:00+00:00', '2020-06-19 17:00:00+00:00',\n",
       "               '2020-06-19 18:00:00+00:00', '2020-06-19 19:00:00+00:00',\n",
       "               '2020-06-19 20:00:00+00:00', '2020-06-19 21:00:00+00:00',\n",
       "               '2020-06-19 22:00:00+00:00', '2020-06-19 23:00:00+00:00',\n",
       "               '2020-06-20 00:00:00+00:00', '2020-06-20 01:00:00+00:00'],\n",
       "              dtype='datetime64[ns, UTC]', name='valid', freq=None)"
      ]
     },
     "execution_count": 17,
     "metadata": {},
     "output_type": "execute_result"
    }
   ],
   "source": [
    "test2 = test - pd.DateOffset(1)\n",
    "test2"
   ]
  },
  {
   "cell_type": "code",
   "execution_count": 24,
   "id": "3fc248fe-449a-48cf-ba21-7e8325957078",
   "metadata": {},
   "outputs": [],
   "source": [
    "a.loc[test, 'solar'] = a.loc[test2, 'solar'].values"
   ]
  },
  {
   "cell_type": "code",
   "execution_count": 7,
   "id": "472bb23f-9ea7-48d8-b10a-b6c520e368e6",
   "metadata": {},
   "outputs": [
    {
     "data": {
      "text/plain": [
       "DatetimeIndex(['2020-06-10 14:00:00+00:00', '2020-06-10 15:00:00+00:00',\n",
       "               '2020-06-10 16:00:00+00:00', '2020-06-10 17:00:00+00:00',\n",
       "               '2020-06-10 18:00:00+00:00', '2020-06-10 19:00:00+00:00',\n",
       "               '2020-06-10 20:00:00+00:00', '2020-06-10 21:00:00+00:00',\n",
       "               '2020-06-10 22:00:00+00:00', '2020-06-10 23:00:00+00:00',\n",
       "               '2020-06-11 00:00:00+00:00', '2020-06-11 01:00:00+00:00',\n",
       "               '2020-06-11 02:00:00+00:00', '2020-06-20 13:00:00+00:00',\n",
       "               '2020-06-20 14:00:00+00:00', '2020-06-20 15:00:00+00:00',\n",
       "               '2020-06-20 16:00:00+00:00', '2020-06-20 17:00:00+00:00',\n",
       "               '2020-06-20 18:00:00+00:00', '2020-06-20 19:00:00+00:00',\n",
       "               '2020-06-20 20:00:00+00:00', '2020-06-20 21:00:00+00:00',\n",
       "               '2020-06-20 22:00:00+00:00', '2020-06-20 23:00:00+00:00',\n",
       "               '2020-06-21 00:00:00+00:00', '2020-06-21 01:00:00+00:00',\n",
       "               '2020-06-21 02:00:00+00:00'],\n",
       "              dtype='datetime64[ns, UTC]', name='valid', freq=None)"
      ]
     },
     "execution_count": 7,
     "metadata": {},
     "output_type": "execute_result"
    }
   ],
   "source": [
    "test = a.index[a['solar'].values > 1060*5000]\n",
    "test"
   ]
  },
  {
   "cell_type": "code",
   "execution_count": 9,
   "id": "4f727e35-230f-4767-9ed9-03ff70f40a20",
   "metadata": {},
   "outputs": [
    {
     "data": {
      "text/plain": [
       "(144,)"
      ]
     },
     "execution_count": 9,
     "metadata": {},
     "output_type": "execute_result"
    }
   ],
   "source": [
    "a.index.values[a['tmpf'].values == -99].shape"
   ]
  },
  {
   "cell_type": "code",
   "execution_count": 13,
   "id": "0a414c15-1b49-4454-b5d6-e847dc718eaf",
   "metadata": {},
   "outputs": [
    {
     "data": {
      "text/plain": [
       "<AxesSubplot:xlabel='valid'>"
      ]
     },
     "execution_count": 13,
     "metadata": {},
     "output_type": "execute_result"
    },
    {
     "data": {
      "image/png": "[encoded data removed]",
      "text/plain": [
       "<Figure size 432x288 with 1 Axes>"
      ]
     },
     "metadata": {
      "needs_background": "light"
     },
     "output_type": "display_data"
    }
   ],
   "source": [
    "a.index.values[a['relh'].values == -99]\n",
    "a['relh'].plot()"
   ]
  },
  {
   "cell_type": "code",
   "execution_count": 62,
   "id": "e6a33438-acb2-4ddf-b708-2bec0af0e328",
   "metadata": {},
   "outputs": [],
   "source": [
    "# Make sure the last year of MERRA2 has 23:00 hours.  \n",
    "t_hourly = pd.date_range(combined['time'].min().values, combined['time'].max().values + np.timedelta64(2,'h'), freq='H')\n",
    "combined_hourly = combined.interp(time=t_hourly, method=\"linear\")\n",
    "combined_hourly = combined_hourly.interpolate_na(dim=\"time\", method=\"linear\", fill_value=\"extrapolate\")\n",
    "combined_hourly"
   ]
  },
  {
   "cell_type": "code",
   "execution_count": 67,
   "id": "dd3254cc-d78b-4da3-b46a-a27c6212fcb4",
   "metadata": {},
   "outputs": [
    {
     "name": "stdout",
     "output_type": "stream",
     "text": [
      "2020-01-01T00:00:00.000000000 2022-12-31T23:00:00.000000000\n"
     ]
    },
    {
     "data": {
      "text/plain": [
       "<bound method Mapping.values of <xarray.Dataset>\n",
       "Dimensions:  (time: 4645)\n",
       "Coordinates:\n",
       "    lat      float32 43.82\n",
       "    lon      float32 273.7\n",
       "  * time     (time) datetime64[ns] 2020-12-08T21:00:00 ... 2021-06-29T19:00:00\n",
       "Data variables:\n",
       "    PS       (time) float64 9.768e+04 9.754e+04 ... 9.854e+04 9.853e+04\n",
       "    SHFLX    (time) float64 -21.55 -16.45 -18.52 -20.58 ... 62.82 72.46 52.76\n",
       "Attributes:\n",
       "    Conventions:  CF-1.6>"
      ]
     },
     "execution_count": 67,
     "metadata": {},
     "output_type": "execute_result"
    }
   ],
   "source": [
    "print(combined_hourly['time'].min().values, combined_hourly['time'].max().values)\n",
    "combined_hourly.sel(time=slice('2014-01-01', '2014-01-31'))\n",
    "combined_hourly.sel(time=a.index.values[a['relh'].values == -99])"
   ]
  },
  {
   "cell_type": "code",
   "execution_count": null,
   "id": "2b736a56-136c-4984-8e59-67aafd21ff36",
   "metadata": {},
   "outputs": [],
   "source": []
  }
 ],
 "metadata": {
  "kernelspec": {
   "display_name": "CMIP6 2019.10",
   "language": "python",
   "name": "cmip6-201910"
  },
  "language_info": {
   "codemirror_mode": {
    "name": "ipython",
    "version": 3
   },
   "file_extension": ".py",
   "mimetype": "text/x-python",
   "name": "python",
   "nbconvert_exporter": "python",
   "pygments_lexer": "ipython3",
   "version": "3.7.10"
  }
 },
 "nbformat": 4,
 "nbformat_minor": 5
}
