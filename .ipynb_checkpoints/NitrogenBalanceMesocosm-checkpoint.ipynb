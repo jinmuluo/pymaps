{
 "cells": [
  {
   "cell_type": "code",
   "execution_count": null,
   "metadata": {},
   "outputs": [],
   "source": [
    "import xarray as xr\n",
    "import numpy as np\n",
    "import matplotlib.pyplot as plt\n",
    "from matplotlib import image\n",
    "import pandas as pd\n",
    "from datetime import date, timedelta\n",
    "from dateutil.relativedelta import relativedelta"
   ]
  },
  {
   "cell_type": "code",
   "execution_count": null,
   "metadata": {},
   "outputs": [],
   "source": [
    "case = \"clarion168kgN\"\n",
    "path = \"/glade/derecho/scratch/jinmuluo/archive/\"+case+\"/lnd/hist/\" \n",
    "h = 'h0'\n",
    "start_date = date(2014, 1, 1)\n",
    "end_date = date(2022, 12, 1)\n",
    "delta = end_date - start_date\n",
    "roiVars = ['SMINN', 'SMINN_vr', 'SMIN_NH4', 'SMIN_NO3', 'F_NIT', 'F_DENIT',\n",
    "           'MANURE_N_GRZ', 'MANURE_N_BARNS', 'FERT_N_APP', 'NDEP_TO_SMINN', 'NFIX', 'FFIX_TO_SMINN',\n",
    "           'NH3_TOTAL', 'NOx_NITRIFY_TOTAL', 'N2O_NITRIFY_TOTAL', 'NOx_DENITRIFY_TOTAL', 'N2O_DENITRIFY_TOTAL', 'N2_TOTAL', \n",
    "           'F_N2O_NIT', 'F_NOx_NIT', 'F_N2O_DENIT', 'F_NOx_DENIT', 'F_N2_DENIT', \n",
    "           'SMIN_NO3_RUNOFF', 'SMIN_NO3_LEACHED', 'MANURE_NH4_RUNOFF', 'FERT_NH4_RUNOFF', 'MANURE_NITRATE_RUNOFF', 'FERT_NITRATE_RUNOFF',\n",
    "           'SMINN_TO_PLANT_FUN', 'ACTUAL_IMMOB', 'GROSS_NMIN',\n",
    "           'WOOD_HARVESTN', 'CROPPROD1N_LOSS', 'COL_FIRE_NLOSS', 'LEAFN', 'FROOTN', 'QOVER']\n",
    "\n",
    "\n",
    "delta_months = (end_date.year - start_date.year)*12 + end_date.month - start_date.month + 1\n",
    "fanCLM = []\n",
    "for i in range(delta_months):\n",
    "    month = start_date + relativedelta(months=i)\n",
    "    month = month.strftime('%Y-%m')\n",
    "    fanCLM.append(path + case + \".clm2.\" + h + \".\" + month +\".nc\")"
   ]
  },
  {
   "cell_type": "code",
   "execution_count": null,
   "metadata": {},
   "outputs": [],
   "source": [
    "def preprocess(ds, fields = roiVars):\n",
    "    return(ds[fields])\n",
    "\n",
    "def fix_time(ds):  \n",
    "    date0 = ds['time'][0].values\n",
    "    date1 = ds['time'][-1].values\n",
    "    # ds['time'] =xr.cftime_range(str(yr0),periods=ndays,freq='D')\n",
    "    ds['time'] = pd.date_range(str(date0),str(date1),freq='MS') \n",
    "    \n",
    "    return ds\n",
    "\n",
    "dsCLM = fix_time(xr.open_mfdataset(fanCLM, decode_times=True, preprocess=preprocess))\n",
    "dsCLM"
   ]
  },
  {
   "cell_type": "code",
   "execution_count": null,
   "metadata": {},
   "outputs": [],
   "source": [
    "Ninput =  dsCLM['MANURE_N_GRZ'] + dsCLM['MANURE_N_BARNS'] + dsCLM['FERT_N_APP'] + dsCLM['NDEP_TO_SMINN'] \\\n",
    "          + dsCLM['NFIX'] + dsCLM['FFIX_TO_SMINN']\n",
    "Noutput = dsCLM['NH3_TOTAL'] + dsCLM['NOx_NITRIFY_TOTAL'] + dsCLM['NOx_DENITRIFY_TOTAL'] \\\n",
    "         + dsCLM['N2O_NITRIFY_TOTAL'] + dsCLM['N2O_DENITRIFY_TOTAL'] + dsCLM['N2_TOTAL'] \\\n",
    "         + dsCLM['F_N2O_NIT'] + dsCLM['F_NOx_NIT'] \\\n",
    "         + dsCLM['F_N2O_DENIT'] + dsCLM['F_NOx_DENIT'] + dsCLM['F_N2_DENIT']  \\\n",
    "         + dsCLM['SMIN_NO3_RUNOFF'] + dsCLM['SMIN_NO3_LEACHED'] \\\n",
    "         + dsCLM['WOOD_HARVESTN'] + dsCLM['CROPPROD1N_LOSS'] + dsCLM['COL_FIRE_NLOSS']"
   ]
  },
  {
   "cell_type": "code",
   "execution_count": null,
   "metadata": {},
   "outputs": [],
   "source": [
    "Ninput.plot(label='N input')\n",
    "Noutput.plot(label='N output')\n",
    "plt.legend()"
   ]
  },
  {
   "cell_type": "markdown",
   "metadata": {},
   "source": [
    "## Budget (unit is in gN/m2/elected time period)"
   ]
  },
  {
   "cell_type": "code",
   "execution_count": null,
   "metadata": {},
   "outputs": [],
   "source": [
    "def GetCula(stry, endy, dsVar):\n",
    "    dsTerm = dsVar.sel(time=slice(stry, endy))\n",
    "    seconds = np.zeros(len(dsTerm))\n",
    "    for i, t in enumerate(dsTerm.time):\n",
    "        term = str(t.values)\n",
    "        date_end = date\n",
    "        date_end = date(int(term[0:4]), int(term[5:7]), int(term[8:10]))\n",
    "        date_begin = date_end - relativedelta(months=1)\n",
    "        # from gN/m2/s to gN/m2, in this period of time\n",
    "        seconds[i] = (date_end - date_begin).days*24*3600\n",
    "    result = np.sum(dsTerm.values.reshape(len(dsTerm))*seconds)\n",
    "    return result\n",
    "    "
   ]
  },
  {
   "cell_type": "code",
   "execution_count": null,
   "metadata": {},
   "outputs": [],
   "source": [
    "print(GetCula('2022-01-01', '2023-01-01', dsCLM['NH3_TOTAL']))\n",
    "print('NOx from nitrification:', GetCula('2022-01-01', '2023-01-01', dsCLM['NOx_NITRIFY_TOTAL']) + GetCula('2022-01-01', '2023-01-01', dsCLM['F_NOx_NIT']))\n",
    "print('NOx from Denitrification:', GetCula('2022-01-01', '2023-01-01', dsCLM['NOx_DENITRIFY_TOTAL']) + GetCula('2022-01-01', '2023-01-01', dsCLM['F_NOx_DENIT']))\n",
    "print('N2O from nitrification:', GetCula('2022-01-01', '2023-01-01', dsCLM['N2O_NITRIFY_TOTAL']) + GetCula('2022-01-01', '2023-01-01', dsCLM['F_N2O_NIT']))\n",
    "print('N2O from denitrification:', GetCula('2022-01-01', '2023-01-01', dsCLM['N2O_DENITRIFY_TOTAL']) + GetCula('2022-01-01', '2023-01-01', dsCLM['F_N2O_DENIT']))\n",
    "print('N2:', GetCula('2022-01-01', '2023-01-01', dsCLM['N2_TOTAL']) + GetCula('2022-01-01', '2023-01-01', dsCLM['F_N2_DENIT']))\n",
    "print('Plant uptake', GetCula('2022-01-01', '2023-01-01', dsCLM['SMINN_TO_PLANT_FUN']) )\n",
    "print('Runoff and leached:', GetCula('2022-01-01', '2023-01-01', dsCLM['SMIN_NO3_RUNOFF']) + GetCula('2022-01-01', '2023-01-01', dsCLM['SMIN_NO3_LEACHED'])+\n",
    "      GetCula('2022-01-01', '2023-01-01', dsCLM['MANURE_NH4_RUNOFF']) + GetCula('2022-01-01', '2023-01-01', dsCLM['FERT_NH4_RUNOFF']) +\n",
    "      GetCula('2022-01-01', '2023-01-01', dsCLM['MANURE_NITRATE_RUNOFF']) + GetCula('2022-01-01', '2023-01-01', dsCLM['FERT_NITRATE_RUNOFF']))\n",
    "\n",
    "print('Crop product', GetCula('2022-01-01', '2023-01-01', dsCLM['CROPPROD1N_LOSS']))\n",
    "print('Immobilization', GetCula('2022-01-01', '2023-01-01', dsCLM['ACTUAL_IMMOB']))\n",
    "print('Mineralization', GetCula('2022-01-01', '2023-01-01', dsCLM['GROSS_NMIN']))\n",
    "\n",
    "print('Fixation', GetCula('2022-01-01', '2023-01-01', dsCLM['NFIX']) + GetCula('2022-01-01', '2023-01-01', dsCLM['FFIX_TO_SMINN']))\n",
    "print('Deposition', GetCula('2022-01-01', '2023-01-01', dsCLM['NDEP_TO_SMINN']))\n",
    "print('Fire', GetCula('2022-01-01', '2023-01-01', dsCLM['COL_FIRE_NLOSS']))"
   ]
  },
  {
   "cell_type": "markdown",
   "metadata": {},
   "source": [
    "## Vertical plot of soil profile"
   ]
  },
  {
   "cell_type": "code",
   "execution_count": null,
   "metadata": {},
   "outputs": [],
   "source": [
    "dsMESOCOSM = pd.read_csv(\"/glade/work/jinmuluo/MESONET/measurements/mescocosm_extracted_soil_nitrogen_2022.csv\")\n",
    "dsMESOCOSM['date'] = ['20' + str(t) for t in dsMESOCOSM['date'].values]\n",
    "dsMESOCOSM['date'] = pd.to_datetime(dsMESOCOSM['date']) + pd.Timedelta(hours=0, minutes=0, seconds=0)\n",
    "dsMESOCOSM['soil_sminn'] = dsMESOCOSM['soil_nitrate_mgN_kg'] + dsMESOCOSM['soil_ammonium_mgN_kg']\n",
    "dsMESOCOSM .set_index(['soil', 'N_rate_kg_ha', 'block', 'date'], inplace=True)\n",
    "dsMESOCOSM = dsMESOCOSM.sort_index()"
   ]
  },
  {
   "cell_type": "markdown",
   "metadata": {},
   "source": [
    "## Nitrification/Denitrification"
   ]
  },
  {
   "cell_type": "code",
   "execution_count": null,
   "metadata": {},
   "outputs": [],
   "source": [
    "dsCLM['F_NIT'].plot()\n",
    "print(GetCula('2022-01-01', '2023-01-01', dsCLM['F_NIT']))"
   ]
  },
  {
   "cell_type": "code",
   "execution_count": null,
   "metadata": {},
   "outputs": [],
   "source": [
    "dsCLM['F_DENIT'].plot()\n",
    "print(GetCula('2022-01-01', '2023-01-01', dsCLM['F_DENIT']))"
   ]
  }
 ],
 "metadata": {
  "kernelspec": {
   "display_name": "NPL 2023a",
   "language": "python",
   "name": "npl-2023a"
  },
  "language_info": {
   "codemirror_mode": {
    "name": "ipython",
    "version": 3
   },
   "file_extension": ".py",
   "mimetype": "text/x-python",
   "name": "python",
   "nbconvert_exporter": "python",
   "pygments_lexer": "ipython3",
   "version": "3.9.16"
  },
  "vscode": {
   "interpreter": {
    "hash": "d72940b3c77f8f7f15282de07229ee277c4441a1f0c746257ae1e112f6558483"
   }
  }
 },
 "nbformat": 4,
 "nbformat_minor": 4
}
