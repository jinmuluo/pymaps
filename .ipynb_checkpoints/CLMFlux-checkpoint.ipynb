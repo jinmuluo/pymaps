{
 "cells": [
  {
   "cell_type": "code",
   "execution_count": 24,
   "id": "347620f0-a7d0-4fff-9a64-ac86781c91d4",
   "metadata": {},
   "outputs": [],
   "source": [
    "import xarray as xr\n",
    "import numpy as np\n",
    "import pandas as pd\n",
    "from datetime import date, timedelta\n",
    "from dateutil.relativedelta import relativedelta"
   ]
  },
  {
   "cell_type": "markdown",
   "id": "fbb953d8-3c9f-47af-adbb-4b1b221cdc3a",
   "metadata": {},
   "source": [
    "## Define dataset and variables"
   ]
  },
  {
   "cell_type": "code",
   "execution_count": 25,
   "id": "fbef7a58-4b5e-434f-b6d0-93d95af9744f",
   "metadata": {},
   "outputs": [],
   "source": [
    "case = \"CLM_Standard\"\n",
    "path = \"/glade/scratch/jinmuluo/archive/CLM_Standard/lnd/hist/\" \n",
    "start_date = date(2017, 1, 1)\n",
    "end_date = date(2017, 12, 1)\n",
    "\n",
    "# Because out model simulation results are in monthly average\n",
    "delta_months = (end_date.year - start_date.year)*12 + end_date.month - start_date.month + 1"
   ]
  },
  {
   "cell_type": "code",
   "execution_count": 26,
   "id": "d79866ce-c43e-441f-8828-f1e4fde57eca",
   "metadata": {},
   "outputs": [],
   "source": [
    "clmvar = ['NDEP_TO_SMINN', 'NFIX_TO_SMINN', 'FFIX_TO_SMINN', 'FERT_TO_SMINN', 'NITRATE_N_TO_SMINN', 'F_CANOPY_TO_SOIL',\n",
    "          'F_N2O_NIT', 'F_NOx_NIT', 'F_N2O_DENIT', 'F_NOx_DENIT', 'F_N2_DENIT', 'SMIN_NO3_RUNOFF', 'SMIN_NO3_LEACHED', \n",
    "          'WOOD_HARVESTN', 'CROPPROD1N_LOSS', 'COL_FIRE_NLOSS',\n",
    "          'F_NIT', 'F_DENIT', 'F_N2_DENIT', 'area', 'landfrac']"
   ]
  },
  {
   "cell_type": "markdown",
   "id": "257ed199-3b9f-4182-91d2-ec476e3d2bd4",
   "metadata": {},
   "source": [
    "## Read NetCDF"
   ]
  },
  {
   "cell_type": "code",
   "execution_count": 27,
   "id": "4c9968e3-c4f0-4c19-9165-d5979c5b8a83",
   "metadata": {},
   "outputs": [],
   "source": [
    "CLM = []\n",
    "for i in range(delta_months):\n",
    "    month = start_date + relativedelta(months=i)\n",
    "    month = month.strftime('%Y-%m')\n",
    "    CLM.append(path + case + \".clm2.\" + \"h0\" + \".\" + month +\".nc\")\n",
    "    \n",
    "def preprocess(ds, fields = clmvar):\n",
    "    return(ds[fields])\n",
    "\n",
    "def fix_time(ds):  \n",
    "    date0 = ds['time'][0].values\n",
    "    date1 = ds['time'][-1].values\n",
    "    # ds['time'] =xr.cftime_range(str(yr0),periods=ndays,freq='D')\n",
    "    ds['time'] = pd.date_range(str(date0),str(date1),freq='MS') \n",
    "    \n",
    "    return ds\n",
    "\n",
    "ds_MID = fix_time(xr.open_mfdataset(CLM, decode_times=True, preprocess=preprocess))"
   ]
  },
  {
   "cell_type": "markdown",
   "id": "f3b540f9-75a8-4461-8c1c-781c568cd7bf",
   "metadata": {},
   "source": [
    "## Nitrogen Input"
   ]
  },
  {
   "cell_type": "code",
   "execution_count": 30,
   "id": "729b0700-39af-47e4-8dee-a0e637bc5dfd",
   "metadata": {},
   "outputs": [
    {
     "name": "stdout",
     "output_type": "stream",
     "text": [
      "Depostion:  18.4606568667 TgN/year\n",
      "Nfixation:  84.3766847784 TgN/year\n",
      "NH4 fertilizer:  116.09044695956251 TgN/year\n",
      "NO3 fertilizer:  0.0 TgN/year\n",
      "CANOPY recycle:  0.0 TgN/year\n"
     ]
    }
   ],
   "source": [
    "DEP = (ds_MID[\"NDEP_TO_SMINN\"] * ds_MID['area']*ds_MID ['landfrac']*1e6).sum(dim=['lat', 'lon'])\n",
    "NFIX = (ds_MID[\"NFIX_TO_SMINN\"] * ds_MID['area']*ds_MID ['landfrac']*1e6).sum(dim=['lat', 'lon'])\n",
    "FERT = (ds_MID[\"FERT_TO_SMINN\"] * ds_MID['area']*ds_MID ['landfrac']*1e6).sum(dim=['lat', 'lon'])\n",
    "FERT2 = (ds_MID[\"NITRATE_N_TO_SMINN\"] * ds_MID['area']*ds_MID ['landfrac']*1e6).sum(dim=['lat', 'lon'])\n",
    "CANOPY = (ds_MID[\"F_CANOPY_TO_SOIL\"] * ds_MID['area']*ds_MID ['landfrac']*1e6).sum(dim=['lat', 'lon'])\n",
    "\n",
    "dep = 0.0; nfix = 0.0; fert=0.0; fert2=0.0; canopy=0.0;\n",
    "\n",
    "# unit transfer form gN/s to Tg/year\n",
    "for i in range(len(ds_MID.time)):\n",
    "    t= start_date + relativedelta(months=i)\n",
    "    t2 = start_date + relativedelta(months=i+1)\n",
    "    seconds = (t2-t).days * 24 * 3600\n",
    "    \n",
    "    dep = dep + DEP[i].values * seconds* 1e-12\n",
    "    nfix = nfix + NFIX[i].values * seconds* 1e-12\n",
    "    fert = fert + FERT[i].values * seconds* 1e-12\n",
    "    fert2 = fert2 + FERT2[i].values * seconds* 1e-12\n",
    "    canopy = canopy + CANOPY[i].values * seconds* 1e-12\n",
    "    \n",
    "print(\"Depostion: \", dep, \"TgN/year\")\n",
    "print(\"Nfixation: \", nfix, \"TgN/year\")\n",
    "print(\"NH4 fertilizer: \", fert, \"TgN/year\")\n",
    "print(\"NO3 fertilizer: \", fert2, \"TgN/year\")\n",
    "print(\"CANOPY recycle: \", canopy, \"TgN/year\")"
   ]
  },
  {
   "cell_type": "markdown",
   "id": "df707b3c-5140-496e-9af2-9acd3b6fd6e7",
   "metadata": {},
   "source": [
    "## NOx emission"
   ]
  },
  {
   "cell_type": "code",
   "execution_count": 31,
   "id": "105688f6-d4b5-43ba-b270-f18705519b68",
   "metadata": {},
   "outputs": [
    {
     "name": "stdout",
     "output_type": "stream",
     "text": [
      "NOx from nitrification:  5.328143614125 TgN/year\n",
      "NOx from denitrification:  6.3246569229 TgN/year\n",
      "Total NOx emission: 11.652800537025 TgN/year\n"
     ]
    }
   ],
   "source": [
    "ds_nit = dsCLM[\"F_NOx_NIT\"] * dsCLM['area']*dsCLM['landfrac']*1e6\n",
    "ds_nit = ds_nit.sum(dim=['lat', 'lon'])\n",
    "\n",
    "ds_denit = dsCLM[\"F_NOx_DENIT\"] * dsCLM['area']*dsCLM['landfrac']*1e6\n",
    "ds_denit = ds_denit.sum(dim=['lat', 'lon'])\n",
    "\n",
    "NOx_nit = 0.0\n",
    "NOx_denit = 0.0\n",
    "\n",
    "# unit transfer form gN/s to Tg/year\n",
    "for i in range(len(dsCLM.time)):\n",
    "    t= start_date + relativedelta(months=i)\n",
    "    t2 = start_date + relativedelta(months=i+1)\n",
    "    day = (t2-t).days\n",
    "    NOx_nit = NOx_nit + ds_nit[i].values * day * 24 * 3600\n",
    "    NOx_denit = NOx_denit + ds_denit[i].values * day * 24 * 3600\n",
    "    \n",
    "NOx_nit = NOx_nit * 1e-12\n",
    "NOx_denit = NOx_denit * 1e-12\n",
    "print(\"NOx from nitrification: \", NOx_nit, \"TgN/year\")\n",
    "print(\"NOx from denitrification: \", NOx_denit, \"TgN/year\")\n",
    "print(\"Total NOx emission:\", NOx_nit + NOx_denit, \"TgN/year\")"
   ]
  },
  {
   "cell_type": "markdown",
   "id": "a1fad574-c1b5-4d53-a404-b4a6df77e2ac",
   "metadata": {},
   "source": [
    "## N2O emission"
   ]
  },
  {
   "cell_type": "code",
   "execution_count": 32,
   "id": "ac052ccc-707a-4763-a32f-a5c1c6a14ac6",
   "metadata": {},
   "outputs": [
    {
     "name": "stdout",
     "output_type": "stream",
     "text": [
      "N2O from nitrification:  4.961832525 TgN/year\n",
      "N2O from denitrification:  7.52331527145 TgN/year\n",
      "Total N2O emisison:  12.48514779645 TgN/year\n"
     ]
    }
   ],
   "source": [
    "ds_nit = dsCLM[\"F_N2O_NIT\"] * dsCLM['area']*dsCLM['landfrac']*1e6\n",
    "ds_nit = ds_nit.sum(dim=['lat', 'lon'])\n",
    "\n",
    "ds_denit = dsCLM[\"F_N2O_DENIT\"] * dsCLM['area']*dsCLM['landfrac']*1e6\n",
    "ds_denit = ds_denit.sum(dim=['lat', 'lon'])\n",
    "\n",
    "N2O_nit = 0.0\n",
    "N2O_denit = 0.0\n",
    "\n",
    "# unit transfer form gN/s to Tg/year\n",
    "for i in range(len(dsCLM.time)):\n",
    "    t= start_date + relativedelta(months=i)\n",
    "    t2 = start_date + relativedelta(months=i+1)\n",
    "    day = (t2-t).days\n",
    "    N2O_nit = N2O_nit + ds_nit[i].values * day * 24 * 3600\n",
    "    N2O_denit = N2O_denit + ds_denit[i].values * day * 24 * 3600\n",
    "    \n",
    "N2O_nit = N2O_nit * 1e-12\n",
    "N2O_denit = N2O_denit * 1e-12\n",
    "print(\"N2O from nitrification: \", N2O_nit, \"TgN/year\")\n",
    "print(\"N2O from denitrification: \", N2O_denit, \"TgN/year\")\n",
    "print(\"Total N2O emisison: \", N2O_nit + N2O_denit, \"TgN/year\")"
   ]
  },
  {
   "cell_type": "markdown",
   "id": "87528cb8-ff3d-40e7-89de-be62bbf9b9fb",
   "metadata": {},
   "source": [
    "## N2 emission"
   ]
  },
  {
   "cell_type": "code",
   "execution_count": 33,
   "id": "cf537978-eeb2-4fef-834f-980822344b79",
   "metadata": {},
   "outputs": [
    {
     "name": "stdout",
     "output_type": "stream",
     "text": [
      "N2 from denitrification:  84.1882257504 TgN/year\n"
     ]
    }
   ],
   "source": [
    "ds_denit = dsCLM[\"F_N2_DENIT\"] * dsCLM['area']*dsCLM['landfrac']*1e6\n",
    "ds_denit = ds_denit.sum(dim=['lat', 'lon'])\n",
    "\n",
    "N2_denit = 0.0\n",
    "\n",
    "# unit transfer form gN/s to Tg/year\n",
    "for i in range(len(dsCLM.time)):\n",
    "    t= start_date + relativedelta(months=i)\n",
    "    t2 = start_date + relativedelta(months=i+1)\n",
    "    day = (t2-t).days\n",
    "    N2_denit = N2_denit + ds_denit[i].values * day * 24 * 3600\n",
    "    \n",
    "N2_denit = N2_denit * 1e-12\n",
    "print(\"N2 from denitrification: \", N2_denit, \"TgN/year\")"
   ]
  }
 ],
 "metadata": {
  "kernelspec": {
   "display_name": "NPL 2023a",
   "language": "python",
   "name": "npl-2023a"
  },
  "language_info": {
   "codemirror_mode": {
    "name": "ipython",
    "version": 3
   },
   "file_extension": ".py",
   "mimetype": "text/x-python",
   "name": "python",
   "nbconvert_exporter": "python",
   "pygments_lexer": "ipython3",
   "version": "3.9.16"
  }
 },
 "nbformat": 4,
 "nbformat_minor": 5
}
