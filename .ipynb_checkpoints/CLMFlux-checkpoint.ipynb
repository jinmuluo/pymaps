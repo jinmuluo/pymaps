{
 "cells": [
  {
   "cell_type": "code",
   "execution_count": 1,
   "id": "347620f0-a7d0-4fff-9a64-ac86781c91d4",
   "metadata": {},
   "outputs": [],
   "source": [
    "import xarray as xr\n",
    "import numpy as np\n",
    "import pandas as pd\n",
    "from datetime import date, timedelta\n",
    "from dateutil.relativedelta import relativedelta"
   ]
  },
  {
   "cell_type": "markdown",
   "id": "fbb953d8-3c9f-47af-adbb-4b1b221cdc3a",
   "metadata": {},
   "source": [
    "## Define dataset and variables"
   ]
  },
  {
   "cell_type": "code",
   "execution_count": 2,
   "id": "fbef7a58-4b5e-434f-b6d0-93d95af9744f",
   "metadata": {},
   "outputs": [],
   "source": [
    "case = \"fanv3_improving\"\n",
    "path = \"/glade/scratch/jinmuluo/archive/fanv3_improving/lnd/hist/\" \n",
    "start_date = date(2010, 1, 1)\n",
    "end_date = date(2015, 12, 1)\n",
    "\n",
    "# Because out model simulation results are in monthly average\n",
    "delta_months = (end_date.year - start_date.year)*12 + end_date.month - start_date.month + 1"
   ]
  },
  {
   "cell_type": "code",
   "execution_count": 3,
   "id": "d79866ce-c43e-441f-8828-f1e4fde57eca",
   "metadata": {},
   "outputs": [],
   "source": [
    "clmvar = ['F_NOx_NIT', 'F_NOx_DENIT', 'F_N2O_NIT', 'F_N2O_DENIT',  'F_N2_DENIT', 'area', 'landfrac',\n",
    "          'F_NOx_AGR_NIT', 'F_NOx_AGR_DENIT', 'F_N2O_AGR_NIT', 'F_N2O_AGR_DENIT',  'F_N2_AGR_DENIT']"
   ]
  },
  {
   "cell_type": "markdown",
   "id": "257ed199-3b9f-4182-91d2-ec476e3d2bd4",
   "metadata": {},
   "source": [
    "## Read NetCDF"
   ]
  },
  {
   "cell_type": "code",
   "execution_count": 4,
   "id": "78482f1c-12d0-4b5a-a06a-41c764571e71",
   "metadata": {},
   "outputs": [],
   "source": [
    "CLM = []\n",
    "for i in range(delta_months):\n",
    "    month = start_date + relativedelta(months=i)\n",
    "    month = month.strftime('%Y-%m')\n",
    "    CLM.append(path + case + \".clm2.\" + \"h1\" + \".\" + month +\".nc\")"
   ]
  },
  {
   "cell_type": "code",
   "execution_count": 5,
   "id": "b0176118-692d-4902-af6f-bd74c75b196b",
   "metadata": {},
   "outputs": [],
   "source": [
    "def preprocess(ds, fields = clmvar):\n",
    "    return(ds[fields])\n",
    "\n",
    "def fix_time(ds):  \n",
    "    date0 = ds['time'][0].values\n",
    "    date1 = ds['time'][-1].values\n",
    "    # ds['time'] =xr.cftime_range(str(yr0),periods=ndays,freq='D')\n",
    "    ds['time'] = pd.date_range(str(date0),str(date1),freq='MS') \n",
    "    \n",
    "    return ds\n",
    "\n",
    "dsCLM = fix_time(xr.open_mfdataset(CLM, decode_times=True, preprocess=preprocess))"
   ]
  },
  {
   "cell_type": "markdown",
   "id": "f3b540f9-75a8-4461-8c1c-781c568cd7bf",
   "metadata": {},
   "source": [
    "## Denitrification flux in soil"
   ]
  },
  {
   "cell_type": "code",
   "execution_count": 7,
   "id": "4c9968e3-c4f0-4c19-9165-d5979c5b8a83",
   "metadata": {},
   "outputs": [],
   "source": [
    "CLM = []\n",
    "for i in range(delta_months):\n",
    "    month = start_date + relativedelta(months=i)\n",
    "    month = month.strftime('%Y-%m')\n",
    "    CLM.append(path + case + \".clm2.\" + \"h2\" + \".\" + month +\".nc\")\n",
    "    \n",
    "def preprocess(ds, fields = ['F_DENIT', 'area', 'landfrac']):\n",
    "    return(ds[fields])\n",
    "\n",
    "def fix_time(ds):  \n",
    "    date0 = ds['time'][0].values\n",
    "    date1 = ds['time'][-1].values\n",
    "    # ds['time'] =xr.cftime_range(str(yr0),periods=ndays,freq='D')\n",
    "    ds['time'] = pd.date_range(str(date0),str(date1),freq='MS') \n",
    "    \n",
    "    return ds\n",
    "\n",
    "ds_MID = fix_time(xr.open_mfdataset(CLM, decode_times=True, preprocess=preprocess))"
   ]
  },
  {
   "cell_type": "code",
   "execution_count": 8,
   "id": "729b0700-39af-47e4-8dee-a0e637bc5dfd",
   "metadata": {},
   "outputs": [
    {
     "name": "stdout",
     "output_type": "stream",
     "text": [
      "704.8282858883999 TgN/year\n"
     ]
    }
   ],
   "source": [
    "ds = ds_MID [\"F_DENIT\"] * dsCLM['area']*ds_MID ['landfrac']*1e6\n",
    "ds = ds.sum(dim=['lat', 'lon'])\n",
    "denit_flux = 0.0\n",
    "\n",
    "# unit transfer form gN/s to Tg/year\n",
    "for i in range(len(ds_MID.time)):\n",
    "    t= start_date + relativedelta(months=i)\n",
    "    t2 = start_date + relativedelta(months=i+1)\n",
    "    day = (t2-t).days\n",
    "    denit_flux = denit_flux + ds[i].values * day * 24 * 3600\n",
    "    \n",
    "denit_flux = denit_flux * 1e-12\n",
    "print(denit_flux, \"TgN/year\")"
   ]
  },
  {
   "cell_type": "markdown",
   "id": "df707b3c-5140-496e-9af2-9acd3b6fd6e7",
   "metadata": {},
   "source": [
    "## NOx emission"
   ]
  },
  {
   "cell_type": "code",
   "execution_count": 9,
   "id": "105688f6-d4b5-43ba-b270-f18705519b68",
   "metadata": {},
   "outputs": [
    {
     "name": "stdout",
     "output_type": "stream",
     "text": [
      "NOx from nitrification:  25.2794079279 TgN/year\n",
      "NOx from denitrification:  38.330641344374996 TgN/year\n",
      "Total NOx emission: 63.61004927227499 TgN/year\n"
     ]
    }
   ],
   "source": [
    "ds_nit = dsCLM[\"F_NOx_NIT\"] * dsCLM['area']*dsCLM['landfrac']*1e6\n",
    "ds_nit = ds_nit.sum(dim=['lat', 'lon'])\n",
    "\n",
    "ds_denit = dsCLM[\"F_NOx_DENIT\"] * dsCLM['area']*dsCLM['landfrac']*1e6\n",
    "ds_denit = ds_denit.sum(dim=['lat', 'lon'])\n",
    "\n",
    "NOx_nit = 0.0\n",
    "NOx_denit = 0.0\n",
    "\n",
    "# unit transfer form gN/s to Tg/year\n",
    "for i in range(len(dsCLM.time)):\n",
    "    t= start_date + relativedelta(months=i)\n",
    "    t2 = start_date + relativedelta(months=i+1)\n",
    "    day = (t2-t).days\n",
    "    NOx_nit = NOx_nit + ds_nit[i].values * day * 24 * 3600\n",
    "    NOx_denit = NOx_denit + ds_denit[i].values * day * 24 * 3600\n",
    "    \n",
    "NOx_nit = NOx_nit * 1e-12\n",
    "NOx_denit = NOx_denit * 1e-12\n",
    "print(\"NOx from nitrification: \", NOx_nit, \"TgN/year\")\n",
    "print(\"NOx from denitrification: \", NOx_denit, \"TgN/year\")\n",
    "print(\"Total NOx emission:\", NOx_nit + NOx_denit, \"TgN/year\")"
   ]
  },
  {
   "cell_type": "markdown",
   "id": "a1fad574-c1b5-4d53-a404-b4a6df77e2ac",
   "metadata": {},
   "source": [
    "## N2O emission"
   ]
  },
  {
   "cell_type": "code",
   "execution_count": 10,
   "id": "ac052ccc-707a-4763-a32f-a5c1c6a14ac6",
   "metadata": {},
   "outputs": [
    {
     "name": "stdout",
     "output_type": "stream",
     "text": [
      "N2O from nitrification:  25.440074472825 TgN/year\n",
      "N2O from denitrification:  50.2237243719 TgN/year\n",
      "Total N2O emisison:  75.663798844725 TgN/year\n"
     ]
    }
   ],
   "source": [
    "ds_nit = dsCLM[\"F_N2O_NIT\"] * dsCLM['area']*dsCLM['landfrac']*1e6\n",
    "ds_nit = ds_nit.sum(dim=['lat', 'lon'])\n",
    "\n",
    "ds_denit = dsCLM[\"F_N2O_DENIT\"] * dsCLM['area']*dsCLM['landfrac']*1e6\n",
    "ds_denit = ds_denit.sum(dim=['lat', 'lon'])\n",
    "\n",
    "N2O_nit = 0.0\n",
    "N2O_denit = 0.0\n",
    "\n",
    "# unit transfer form gN/s to Tg/year\n",
    "for i in range(len(dsCLM.time)):\n",
    "    t= start_date + relativedelta(months=i)\n",
    "    t2 = start_date + relativedelta(months=i+1)\n",
    "    day = (t2-t).days\n",
    "    N2O_nit = N2O_nit + ds_nit[i].values * day * 24 * 3600\n",
    "    N2O_denit = N2O_denit + ds_denit[i].values * day * 24 * 3600\n",
    "    \n",
    "N2O_nit = N2O_nit * 1e-12\n",
    "N2O_denit = N2O_denit * 1e-12\n",
    "print(\"N2O from nitrification: \", N2O_nit, \"TgN/year\")\n",
    "print(\"N2O from denitrification: \", N2O_denit, \"TgN/year\")\n",
    "print(\"Total N2O emisison: \", N2O_nit + N2O_denit, \"TgN/year\")"
   ]
  },
  {
   "cell_type": "markdown",
   "id": "87528cb8-ff3d-40e7-89de-be62bbf9b9fb",
   "metadata": {},
   "source": [
    "## N2 emission"
   ]
  },
  {
   "cell_type": "code",
   "execution_count": 11,
   "id": "cf537978-eeb2-4fef-834f-980822344b79",
   "metadata": {},
   "outputs": [
    {
     "name": "stdout",
     "output_type": "stream",
     "text": [
      "N2 from denitrification:  606.07211796 TgN/year\n"
     ]
    }
   ],
   "source": [
    "ds_denit = dsCLM[\"F_N2_DENIT\"] * dsCLM['area']*dsCLM['landfrac']*1e6\n",
    "ds_denit = ds_denit.sum(dim=['lat', 'lon'])\n",
    "\n",
    "N2_denit = 0.0\n",
    "\n",
    "# unit transfer form gN/s to Tg/year\n",
    "for i in range(len(dsCLM.time)):\n",
    "    t= start_date + relativedelta(months=i)\n",
    "    t2 = start_date + relativedelta(months=i+1)\n",
    "    day = (t2-t).days\n",
    "    N2_denit = N2_denit + ds_denit[i].values * day * 24 * 3600\n",
    "    \n",
    "N2_denit = N2_denit * 1e-12\n",
    "print(\"N2 from denitrification: \", N2_denit, \"TgN/year\")"
   ]
  },
  {
   "cell_type": "markdown",
   "id": "c7434374-3b8c-44e2-af10-845140aa0016",
   "metadata": {},
   "source": [
    "## N2O from Agriculture"
   ]
  },
  {
   "cell_type": "code",
   "execution_count": 12,
   "id": "26fceb06-815a-4db1-aa3b-49dc7159fc24",
   "metadata": {},
   "outputs": [
    {
     "name": "stdout",
     "output_type": "stream",
     "text": [
      "N2O from agriculture nitrification:  11.916507298725 TgN/year\n",
      "N2O from agriculture denitrification:  26.322162130575 TgN/year\n",
      "Total N2O emisison from agriculture:  38.238669429299996 TgN/year\n"
     ]
    }
   ],
   "source": [
    "ds_nit = dsCLM[\"F_N2O_AGR_NIT\"] * dsCLM['area']*dsCLM['landfrac']*1e6\n",
    "ds_nit = ds_nit.sum(dim=['lat', 'lon'])\n",
    "\n",
    "ds_denit = dsCLM[\"F_N2O_AGR_DENIT\"] * dsCLM['area']*dsCLM['landfrac']*1e6\n",
    "ds_denit = ds_denit.sum(dim=['lat', 'lon'])\n",
    "\n",
    "N2O_nit = 0.0\n",
    "N2O_denit = 0.0\n",
    "\n",
    "# unit transfer form gN/s to Tg/year\n",
    "for i in range(len(dsCLM.time)):\n",
    "    t= start_date + relativedelta(months=i)\n",
    "    t2 = start_date + relativedelta(months=i+1)\n",
    "    day = (t2-t).days\n",
    "    N2O_nit = N2O_nit + ds_nit[i].values * day * 24 * 3600\n",
    "    N2O_denit = N2O_denit + ds_denit[i].values * day * 24 * 3600\n",
    "    \n",
    "N2O_nit = N2O_nit * 1e-12\n",
    "N2O_denit = N2O_denit * 1e-12\n",
    "print(\"N2O from agriculture nitrification: \", N2O_nit, \"TgN/year\")\n",
    "print(\"N2O from agriculture denitrification: \", N2O_denit, \"TgN/year\")\n",
    "print(\"Total N2O emisison from agriculture: \", N2O_nit + N2O_denit, \"TgN/year\")"
   ]
  },
  {
   "cell_type": "markdown",
   "id": "e11df94d-44f3-47b0-b038-2be45aab18c5",
   "metadata": {},
   "source": [
    "## NOx from agriculture"
   ]
  },
  {
   "cell_type": "code",
   "execution_count": 13,
   "id": "054412bb-ae42-42ce-a6d4-7ac022fdbffd",
   "metadata": {},
   "outputs": [
    {
     "name": "stdout",
     "output_type": "stream",
     "text": [
      "NOx from nitrification:  9.04333926526875 TgN/year\n",
      "NOx from denitrification:  16.8391133722125 TgN/year\n",
      "Total NOx emission: 25.88245263748125 TgN/year\n"
     ]
    }
   ],
   "source": [
    "ds_nit = dsCLM[\"F_NOx_AGR_NIT\"] * dsCLM['area']*dsCLM['landfrac']*1e6\n",
    "ds_nit = ds_nit.sum(dim=['lat', 'lon'])\n",
    "\n",
    "ds_denit = dsCLM[\"F_NOx_AGR_DENIT\"] * dsCLM['area']*dsCLM['landfrac']*1e6\n",
    "ds_denit = ds_denit.sum(dim=['lat', 'lon'])\n",
    "\n",
    "NOx_nit = 0.0\n",
    "NOx_denit = 0.0\n",
    "\n",
    "# unit transfer form gN/s to Tg/year\n",
    "for i in range(len(dsCLM.time)):\n",
    "    t= start_date + relativedelta(months=i)\n",
    "    t2 = start_date + relativedelta(months=i+1)\n",
    "    day = (t2-t).days\n",
    "    NOx_nit = NOx_nit + ds_nit[i].values * day * 24 * 3600\n",
    "    NOx_denit = NOx_denit + ds_denit[i].values * day * 24 * 3600\n",
    "    \n",
    "NOx_nit = NOx_nit * 1e-12\n",
    "NOx_denit = NOx_denit * 1e-12\n",
    "print(\"NOx from nitrification: \", NOx_nit, \"TgN/year\")\n",
    "print(\"NOx from denitrification: \", NOx_denit, \"TgN/year\")\n",
    "print(\"Total NOx emission:\", NOx_nit + NOx_denit, \"TgN/year\")"
   ]
  }
 ],
 "metadata": {
  "kernelspec": {
   "display_name": "NPL 2023a",
   "language": "python",
   "name": "npl-2023a"
  },
  "language_info": {
   "codemirror_mode": {
    "name": "ipython",
    "version": 3
   },
   "file_extension": ".py",
   "mimetype": "text/x-python",
   "name": "python",
   "nbconvert_exporter": "python",
   "pygments_lexer": "ipython3",
   "version": "3.9.15"
  }
 },
 "nbformat": 4,
 "nbformat_minor": 5
}
