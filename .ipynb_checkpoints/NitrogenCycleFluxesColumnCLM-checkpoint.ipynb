{
 "cells": [
  {
   "cell_type": "code",
   "execution_count": 2,
   "id": "533be0a3-b866-42af-9c3b-fe4e92b624b6",
   "metadata": {},
   "outputs": [],
   "source": [
    "import xarray as xr\n",
    "import numpy as np\n",
    "import pandas as pd\n",
    "from datetime import date, timedelta\n",
    "from dateutil.relativedelta import relativedelta"
   ]
  },
  {
   "cell_type": "code",
   "execution_count": 3,
   "id": "308ffac1-a80f-4e1f-85f2-759a460c4ce5",
   "metadata": {},
   "outputs": [],
   "source": [
    "case = \"CLM_default\"\n",
    "path = \"/glade/scratch/jinmuluo/archive/CLM_default/lnd/hist/\" \n",
    "LandType = 'natural'\n",
    "start_date = date(2010, 1, 1)\n",
    "end_date = date(2017, 12, 1)\n",
    "delta_months = (end_date.year - start_date.year)*12 + end_date.month - start_date.month + 1"
   ]
  },
  {
   "cell_type": "code",
   "execution_count": 4,
   "id": "95fbab66-8064-46f0-bb91-55fdf72786c4",
   "metadata": {},
   "outputs": [],
   "source": [
    "def ds_filter(idx, ds, DataArray, landunit=\"crop\"):\n",
    "    if landunit == \"crop\":\n",
    "        clunit = 2.0\n",
    "    elif landunit == \"natural\":\n",
    "        clunit = 1.0 \n",
    "    # select the columns are activated and belong to interested landunit.\n",
    "    result = DataArray[(ds.cols1d_active.values[idx, :] == 1.0) & (ds.cols1d_itype_lunit.values[idx, :] == clunit)]\n",
    "    return result\n",
    "\n",
    "def global_sum(idx, ds, var, landunit=\"crop\"):\n",
    "    lon_i = ds_filter(idx, ds, ds.cols1d_ixy.values[idx, :], landunit=landunit).astype(int) - 1 \n",
    "    lat_j = ds_filter(idx, ds, ds.cols1d_jxy.values[idx, :], landunit=landunit).astype(int) - 1\n",
    "    wtgcell = ds_filter(idx, ds, ds.cols1d_wtgcell.values[idx, :], landunit=landunit)\n",
    "    val = ds_filter(idx, ds, var[idx, :], landunit=landunit)\n",
    "    result = 0.0\n",
    "    \n",
    "    # gN/m2/s to TgN/s\n",
    "    result = result + val * wtgcell * ds.area.values[idx, lat_j, lon_i] *1e-6 *ds.landfrac.values[idx, lat_j, lon_i]\n",
    "    return sum(result)"
   ]
  },
  {
   "cell_type": "markdown",
   "id": "f0d7dd57-777e-40e7-b6e7-5afe8c42dec1",
   "metadata": {},
   "source": [
    "## Nitrogen Input"
   ]
  },
  {
   "cell_type": "code",
   "execution_count": 8,
   "id": "7207007c-1a07-4771-a2e2-e833d5514479",
   "metadata": {},
   "outputs": [],
   "source": [
    "Input_vars = ['NDEP_TO_SMINN', 'NFIX_TO_SMINN', 'FERT_TO_SMINN', 'NITRATE_N_TO_SMINN', 'F_CANOPY_TO_SOIL', 'area', 'landfrac',\n",
    "              'cols1d_ixy', 'cols1d_jxy', 'cols1d_wtgcell', 'cols1d_active', 'cols1d_itype_lunit']\n",
    "\n",
    "CLM = []\n",
    "for i in range(delta_months):\n",
    "    month = start_date + relativedelta(months=i)\n",
    "    month = month.strftime('%Y-%m')\n",
    "    CLM.append(path + case + \".clm2.\" + \"h3\" + \".\" + month +\".nc\")"
   ]
  },
  {
   "cell_type": "code",
   "execution_count": 9,
   "id": "1416fdba-459c-42f7-9256-78bb3e733c9e",
   "metadata": {},
   "outputs": [],
   "source": [
    "def preprocess(ds, fields=Input_vars):\n",
    "    return(ds[fields])\n",
    "\n",
    "def fix_time(ds):  \n",
    "    date0 = ds['time'][0].values\n",
    "    date1 = ds['time'][-1].values\n",
    "    # ds['time'] =xr.cftime_range(str(yr0),periods=ndays,freq='D')\n",
    "    ds['time'] = pd.date_range(str(date0),str(date1),freq='MS') \n",
    "    return ds\n",
    "\n",
    "dsCLM = fix_time(xr.open_mfdataset(CLM, decode_times=True, preprocess=preprocess))"
   ]
  },
  {
   "cell_type": "code",
   "execution_count": null,
   "id": "4229564a-a34a-4e3d-8446-55864c6e9b00",
   "metadata": {},
   "outputs": [],
   "source": [
    "ndep = 0.0; nfix = 0.0; fert_sminn = 0.0; nitrate_sminn = 0.0; \n",
    "canopy_soil = 0.0\n",
    "\n",
    "# unit transfer form gN/s to Tg/year\n",
    "for i in range(len(dsCLM.time)):\n",
    "    t= start_date + relativedelta(months=i)\n",
    "    t2 = start_date + relativedelta(months=i+1)\n",
    "    seconds = (t2-t).days * 24 * 3600\n",
    "    \n",
    "    ndep = ndep + seconds * global_sum(i, dsCLM, dsCLM.NDEP_TO_SMINN.values, landunit=LandType)\n",
    "    nfix  = nfix + seconds * global_sum(i, dsCLM, dsCLM.NFIX_TO_SMINN.values, landunit=LandType)\n",
    "    fert_sminn = fert_sminn + seconds * global_sum(i, dsCLM, dsCLM.FERT_TO_SMINN.values, landunit=LandType)\n",
    "    nitrate_sminn = nitrate_sminn + seconds * global_sum(i, dsCLM, dsCLM.NITRATE_N_TO_SMINN.values, landunit=LandType)\n",
    "    canopy_soil = canopy_soil + seconds * global_sum(i, dsCLM, dsCLM.F_CANOPY_TO_SOIL.values, landunit=LandType)\n",
    "       \n",
    "\n",
    "print(\"atm depostion:  \", round(ndep, 2))\n",
    "print(\"nfixation:      \", round(nfix, 2))\n",
    "print(\"NH4+ diffusion: \", round(fert_sminn, 2))\n",
    "print(\"NO3- diffusion: \", round(nitrate_sminn, 2))\n",
    "print(\"canopy recycle: \", round(canopy_soil, 2))\n",
    "\n",
    "print(\"N input to CLM is \", ndep + nfix + fert_sminn + nfix + canopy_soil, \"TgN/year\")"
   ]
  },
  {
   "cell_type": "markdown",
   "id": "a8694f72-b268-451b-82b1-adc2fe384848",
   "metadata": {},
   "source": [
    "## Nitrogen Output"
   ]
  },
  {
   "cell_type": "code",
   "execution_count": 30,
   "id": "41d8840e-d0ad-4437-bd79-abc421de3582",
   "metadata": {},
   "outputs": [],
   "source": [
    "Output_vars = ['F_N2O_NIT', 'F_NOx_NIT', 'F_N2O_DENIT', 'F_NOx_DENIT', 'F_N2_DENIT', \n",
    "               'SMIN_NO3_RUNOFF', 'SMIN_NO3_LEACHED', \n",
    "               'WOOD_HARVESTN', 'CROPPROD1N_LOSS', 'COL_FIRE_NLOSS', 'area', 'landfrac',\n",
    "               'cols1d_ixy', 'cols1d_jxy', 'cols1d_wtgcell', 'cols1d_active', 'cols1d_itype_lunit']\n",
    "\n",
    "CLM = []\n",
    "for i in range(delta_months):\n",
    "    month = start_date + relativedelta(months=i)\n",
    "    month = month.strftime('%Y-%m')\n",
    "    CLM.append(path + case + \".clm2.\" + \"h4\" + \".\" + month +\".nc\")"
   ]
  },
  {
   "cell_type": "code",
   "execution_count": 31,
   "id": "9200a936-4a74-4668-8a3a-de97691ba576",
   "metadata": {},
   "outputs": [],
   "source": [
    "def preprocess(ds, fields=Output_vars):\n",
    "    return(ds[fields])\n",
    "\n",
    "def fix_time(ds):  \n",
    "    date0 = ds['time'][0].values\n",
    "    date1 = ds['time'][-1].values\n",
    "    # ds['time'] =xr.cftime_range(str(yr0),periods=ndays,freq='D')\n",
    "    ds['time'] = pd.date_range(str(date0),str(date1),freq='MS') \n",
    "    return ds\n",
    "\n",
    "dsCLM = fix_time(xr.open_mfdataset(CLM, decode_times=True, preprocess=preprocess))"
   ]
  },
  {
   "cell_type": "code",
   "execution_count": 32,
   "id": "fbb3250b-1bb1-48fc-bf88-d0e34a679f6c",
   "metadata": {},
   "outputs": [
    {
     "name": "stdout",
     "output_type": "stream",
     "text": [
      "For FAN loss fluxes: Tg/yr\n",
      "For NOx comparision:       0.717 0.717\n",
      "For N2O comparision:       0.373 0.373\n",
      "For NH3 comparision:       14.605 14.605\n",
      "N2:                        0.01\n",
      "NH4 to deep soil:  136.3147\n",
      "NO3 to deep soil:  16.9131\n",
      "NH4 runoff:        6.489\n",
      "NO3 runoff:        1.7375\n",
      "Canopy recycle:    0.1674\n",
      "For CLM loss fluxes: Tg/yr\n",
      "NOx_NIT:       2.1552\n",
      "NOx_DENIT:     2.8355\n",
      "N2O_NIT:       1.8468\n",
      "N2O_DENIT:     3.1595\n",
      "N2:            48.6333\n",
      "NO3 runoff:    7.3321\n",
      "NO3 leached:   2.121\n",
      "Wood product:  2.3201\n",
      "crop product:  19.1354\n",
      "fire loss:     40.8136\n"
     ]
    }
   ],
   "source": [
    "f_n2o_nit = 0.0; f_nox_nit=0.0; f_n2o_denit = 0.0; f_nox_denit = 0.0; \n",
    "f_n2_denit = 0.0; f_no3_runoff = 0.0; f_no3_leached=0.0;\n",
    "wood_har = 0.0; crop_har = 0.0; fire_loss = 0.0;\n",
    "\n",
    "# unit transfer form gN/s to Tg/year\n",
    "for i in range(len(dsCLM.time)):\n",
    "    t= start_date + relativedelta(months=i)\n",
    "    t2 = start_date + relativedelta(months=i+1)\n",
    "    seconds = (t2-t).days * 24 * 3600\n",
    "    \n",
    "    f_n2o_nit = f_n2o_nit + seconds * global_sum(i, dsCLM, dsCLM.F_N2O_NIT.values, landunit = LandType)\n",
    "    f_nox_nit = f_nox_nit + seconds * global_sum(i, dsCLM, dsCLM.F_NOx_NIT.values, landunit = LandType)\n",
    "    f_n2o_denit = f_n2o_denit + seconds * global_sum(i, dsCLM, dsCLM.F_N2O_DENIT.values, landunit = LandType)\n",
    "    f_nox_denit = f_nox_denit + seconds * global_sum(i, dsCLM, dsCLM.F_NOx_DENIT.values, landunit = LandType)\n",
    "    f_n2_denit = f_n2_denit + seconds * global_sum(i, dsCLM, dsCLM.F_N2_DENIT.values, landunit = LandType)\n",
    "    f_no3_runoff = f_no3_runoff + seconds * global_sum(i, dsCLM, dsCLM.SMIN_NO3_RUNOFF.values, landunit = LandType)\n",
    "    f_no3_leached = f_no3_leached + seconds * global_sum(i, dsCLM, dsCLM.SMIN_NO3_LEACHED.values, landunit = LandType)\n",
    "    \n",
    "    wood_har = wood_har + seconds * global_sum(i, dsCLM, dsCLM.WOOD_HARVESTN.values, landunit = LandType)\n",
    "    crop_har = crop_har + seconds * global_sum(i, dsCLM, dsCLM.CROPPROD1N_LOSS.values, landunit = LandType)\n",
    "    fire_loss = fire_loss + seconds * global_sum(i, dsCLM, dsCLM.COL_FIRE_NLOSS.values, landunit = LandType)\n",
    "    \n",
    "    \n",
    "print(\"For CLM loss fluxes: Tg/yr\")\n",
    "print(\"NOx_NIT:      \", round(f_nox_nit, 4))\n",
    "print(\"NOx_DENIT:    \", round(f_nox_denit, 4))\n",
    "print(\"N2O_NIT:      \", round(f_n2o_nit, 4))\n",
    "print(\"N2O_DENIT:    \", round(f_n2o_denit, 4))\n",
    "print(\"N2:           \", round(f_n2_denit, 4),)\n",
    "print(\"NO3 runoff:   \", round(f_no3_runoff, 4))\n",
    "print(\"NO3 leached:  \", round(f_no3_leached, 4))\n",
    "print(\"Wood product: \", round(wood_har, 4))\n",
    "print(\"crop product: \", round(crop_har, 4))\n",
    "print(\"fire loss:    \", round(fire_loss, 4))"
   ]
  },
  {
   "cell_type": "markdown",
   "id": "f06b9731-8214-4698-9b6a-53e62bf861a7",
   "metadata": {},
   "source": [
    "## Some mid-terms"
   ]
  },
  {
   "cell_type": "code",
   "execution_count": 33,
   "id": "6ba45c48-6a57-499b-998b-d9417d6e24de",
   "metadata": {},
   "outputs": [],
   "source": [
    "mt_vars = ['F_NIT', 'F_DENIT', 'ACTUAL_IMMOB_NO3', 'ACTUAL_IMMOB_NH4', 'GROSS_NMIN', \n",
    "           'SMINN_TO_PLANT_FUN_NH4', 'SMINN_TO_PLANT_FUN_NO3', 'area', 'landfrac', 'levdcmp', \n",
    "           'cols1d_ixy', 'cols1d_jxy', 'cols1d_wtgcell', 'cols1d_active', 'cols1d_itype_lunit']\n",
    "\n",
    "CLM = []\n",
    "for i in range(delta_months):\n",
    "    month = start_date + relativedelta(months=i)\n",
    "    month = month.strftime('%Y-%m')\n",
    "    CLM.append(path + case + \".clm2.\" + \"h4\" + \".\" + month +\".nc\")"
   ]
  },
  {
   "cell_type": "code",
   "execution_count": 34,
   "id": "4ac9fc7c-67c6-4aec-87c1-4a8a0500085c",
   "metadata": {},
   "outputs": [],
   "source": [
    "def preprocess(ds, fields=mt_vars):\n",
    "    return(ds[fields])\n",
    "\n",
    "def fix_time(ds):  \n",
    "    date0 = ds['time'][0].values\n",
    "    date1 = ds['time'][-1].values\n",
    "    # ds['time'] =xr.cftime_range(str(yr0),periods=ndays,freq='D')\n",
    "    ds['time'] = pd.date_range(str(date0),str(date1),freq='MS') \n",
    "    return ds\n",
    "\n",
    "dsCLM = fix_time(xr.open_mfdataset(CLM, decode_times=True, preprocess=preprocess))"
   ]
  },
  {
   "cell_type": "code",
   "execution_count": 35,
   "id": "327885af-ac9f-45fd-a8b0-9da8aad79fae",
   "metadata": {},
   "outputs": [
    {
     "name": "stdout",
     "output_type": "stream",
     "text": [
      "For FAN fluxes\n",
      "Nitrification: 19.87761581263896 Tg/yr\n",
      "Denitrification: 0.011152448799884545 Tg/yr\n",
      "ammonium upward from CLM: 110.46430595648638 Tg/yr\n",
      "For CLM fluxes\n",
      "Nitrification: 92.33987362491149 Tg/yr\n",
      "Denitrification: 55.67345356743798 Tg/yr\n",
      "Immobilization from NH4+: 0.9925548474690483 Tg/yr   from NO3- 1625.6469701478804 Tg/yr\n",
      "mineralization from organic pool: 2447.970166933607 Tg/yr\n",
      "plant uptake, NH4+: 809.0010690243232 Tg/yr    NO3-: 43.84783862108498 Tg/yr\n"
     ]
    }
   ],
   "source": [
    "x = np.zeros(len(dsCLM['levdcmp']))\n",
    "for i in range(len(x)):\n",
    "    if i == 0 :\n",
    "        x[i] = dsCLM['levdcmp'][i].values * 2\n",
    "    else:\n",
    "        x[i] = (dsCLM['levdcmp'][i].values - dsCLM['levdcmp'][i-1].values - x[i-1]/2)*2\n",
    "\n",
    "dsCLM = dsCLM.assign(depth=(dsCLM['levdcmp'].coords, x))\n",
    "\n",
    "ACTUAL_IMMOB_NH4 = (dsCLM[\"ACTUAL_IMMOB_NH4\"].fillna(0) * dsCLM['depth']).sum(dim='levdcmp')\n",
    "ACTUAL_IMMOB_NO3 = (dsCLM[\"ACTUAL_IMMOB_NO3\"].fillna(0) * dsCLM['depth']).sum(dim='levdcmp')\n",
    "\n",
    "SMIN_NH4_TO_PLANT = (dsCLM[\"SMINN_TO_PLANT_FUN_NH4\"].fillna(0) * dsCLM['depth']).sum(dim='levdcmp')\n",
    "SMIN_NO3_TO_PLANT = (dsCLM[\"SMINN_TO_PLANT_FUN_NO3\"].fillna(0) * dsCLM['depth']).sum(dim='levdcmp')\n",
    "\n",
    "clm_nit = 0.0; clm_denit = 0.0; \n",
    "immob_no3 = 0.0; immob_nh4 = 0.0; mineralization=0.0; nh4_plant=0.0; no3_plant=0.0;\n",
    "\n",
    "# unit transfer form gN/s to Tg/year\n",
    "for i in range(len(dsCLM.time)):\n",
    "    t= start_date + relativedelta(months=i)\n",
    "    t2 = start_date + relativedelta(months=i+1)\n",
    "    seconds = (t2-t).days * 24 *3600\n",
    "\n",
    "    clm_nit = clm_nit + seconds * global_sum(i, dsCLM, dsCLM.F_NIT.values, landunit = LandType)\n",
    "    clm_denit = clm_denit + seconds * global_sum(i, dsCLM, dsCLM.F_DENIT.values, landunit = LandType)\n",
    "    immob_no3 = immob_no3 + seconds * global_sum(i, dsCLM, ACTUAL_IMMOB_NH4 .values, landunit = LandType)\n",
    "    immob_nh4 = immob_nh4 + seconds * global_sum(i, dsCLM, ACTUAL_IMMOB_NO3.values, landunit = LandType)\n",
    "    mineralization = mineralization + seconds * global_sum(i, dsCLM, dsCLM.GROSS_NMIN.values, landunit = LandType)\n",
    "    nh4_plant = nh4_plant + seconds * global_sum(i, dsCLM, SMIN_NH4_TO_PLANT.values, landunit = LandType)\n",
    "    no3_plant = no3_plant + seconds * global_sum(i, dsCLM, SMIN_NO3_TO_PLANT.values, landunit = LandType)\n",
    "\n",
    "\n",
    "print(\"For CLM fluxes\")\n",
    "print(\"Nitrification:\", clm_nit, \"Tg/yr\")\n",
    "print(\"Denitrification:\", clm_denit, \"Tg/yr\")\n",
    "print(\"Immobilization from NH4+:\", immob_nh4, \"Tg/yr   from NO3-\", immob_no3,\"Tg/yr\")\n",
    "print(\"mineralization from organic pool:\", mineralization, \"Tg/yr\")\n",
    "print(\"plant uptake, NH4+:\", nh4_plant, \"Tg/yr    NO3-:\", no3_plant, \"Tg/yr\")"
   ]
  }
 ],
 "metadata": {
  "kernelspec": {
   "display_name": "NPL 2023a",
   "language": "python",
   "name": "npl-2023a"
  },
  "language_info": {
   "codemirror_mode": {
    "name": "ipython",
    "version": 3
   },
   "file_extension": ".py",
   "mimetype": "text/x-python",
   "name": "python",
   "nbconvert_exporter": "python",
   "pygments_lexer": "ipython3",
   "version": "3.9.16"
  }
 },
 "nbformat": 4,
 "nbformat_minor": 5
}
