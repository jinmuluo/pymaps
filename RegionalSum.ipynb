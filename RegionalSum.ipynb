{
 "cells": [
  {
   "cell_type": "code",
   "execution_count": null,
   "id": "4e39d48f-ad32-4d98-b7ff-b7bcf204f9ea",
   "metadata": {},
   "outputs": [],
   "source": [
    "def sp_plot(ds, field, coords, show=False):\n",
    "    sp = ds.sel(lat=coords[0], lon=coords[1], method='nearest')\n",
    "    if show:\n",
    "        sp[field].plot(x='time')\n",
    "        plt.show()\n",
    "    return sp"
   ]
  },
  {
   "cell_type": "code",
   "execution_count": null,
   "id": "c7833574-fb85-4495-9e06-53afa2df067f",
   "metadata": {},
   "outputs": [],
   "source": [
    "def tot_plot(ds, field, show=False, zerol=False, savefig=False):\n",
    "    # calculate global total emission\n",
    "    if len(field) > 1:\n",
    "        for i, var in enumerate(field):\n",
    "            if i == 0:\n",
    "                total = ds[var] * ds['area'] * ds['landfrac']\n",
    "            else:\n",
    "                total = total + ds[var] * ds['area'] * ds['landfrac']\n",
    "        total = total.sum(dim=['lat', 'lon'])*0.36*24*30\n",
    "        total.attrs['units'] = 'GgN/month'\n",
    "    else:\n",
    "        var = field[0]\n",
    "        total = ds[var] * ds['area'] * ds['landfrac']\n",
    "        total = total.sum(dim=['lat', 'lon'])*0.36*24*30\n",
    "        total.attrs['units'] = 'GgN/month'\n",
    "    \n",
    "    if show:\n",
    "        total.plot(x='time')\n",
    "        if zerol:\n",
    "            x = total.time\n",
    "            y = np.zeros(len(x))\n",
    "            plt.plot(x, y, linestyle='dashed', c='black', alpha=0.5)\n",
    "        plt.title(field)\n",
    "        plt.ylabel(total.attrs['units'])\n",
    "        plt.show()\n",
    "            \n",
    "    if savefig:\n",
    "        plt.savefig(field, dpi=150)\n",
    "    \n",
    "    return total"
   ]
  },
  {
   "cell_type": "code",
   "execution_count": null,
   "id": "3098a33e-9267-4cb8-9bd0-b653e5c46119",
   "metadata": {},
   "outputs": [],
   "source": [
    "def regional_plot(ds, field, coords, show=False):\n",
    "    x = slice(coords['lower_lat'], coords['upper_lat'])\n",
    "    y = slice(coords['west_lon'], coords['east_lon'])\n",
    "    # gN/m2/s to TonN/s\n",
    "    rp = (ds[field].sel(lat=x, lon=y) * ds['area'].sel(lat=x, lon=y))* ds['landfrac'].sel(lat=x, lon=y).sum(dim=['lat', 'lon'])\n",
    "    rp.attrs['units'] = 'Tons N/sec'\n",
    "    if show:\n",
    "        rp.plot(x='time')\n",
    "        plt.title(field)\n",
    "        plt.ylabel(rp.attrs['units'])\n",
    "        plt.show()\n",
    "    return rp"
   ]
  }
 ],
 "metadata": {
  "kernelspec": {
   "display_name": "Python 3 (ipykernel)",
   "language": "python",
   "name": "python3"
  },
  "language_info": {
   "codemirror_mode": {
    "name": "ipython",
    "version": 3
   },
   "file_extension": ".py",
   "mimetype": "text/x-python",
   "name": "python",
   "nbconvert_exporter": "python",
   "pygments_lexer": "ipython3",
   "version": "3.9.12"
  }
 },
 "nbformat": 4,
 "nbformat_minor": 5
}
