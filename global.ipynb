{
 "cells": [
  {
   "cell_type": "code",
   "execution_count": null,
   "metadata": {},
   "outputs": [],
   "source": [
    "import numpy as np\n",
    "import cartopy.feature as cfeature\n",
    "import cartopy.crs as ccrs\n",
    "import matplotlib.pyplot as plt\n",
    "from cartopy.util import add_cyclic_point\n",
    "import copy\n",
    "import xarray as xr"
   ]
  },
  {
   "cell_type": "code",
   "execution_count": null,
   "metadata": {},
   "outputs": [],
   "source": [
    "ds = xr.open_mfdataset()"
   ]
  },
  {
   "cell_type": "code",
   "execution_count": null,
   "metadata": {},
   "outputs": [],
   "source": [
    "def map_function(da, cb=0, cmap='viridis', panel=None,  ax=None, title=None, vmax=None, vmin=None, units=None,nbins=200):\n",
    "    '''a function to make one subplot'''\n",
    "    wrap_data, wrap_lon = add_cyclic_point(da.values, coord=da.lon)\n",
    "\n",
    "    if ax is None: ax = plt.gca()\n",
    "\n",
    "    # define the colormap, including the number of bins\n",
    "    cmap = copy.copy(plt.get_cmap(cmap,nbins))\n",
    "    im = ax.pcolormesh(wrap_lon,da.lat,wrap_data,transform=ccrs.PlateCarree(), vmax=vmax,vmin=vmin,cmap=cmap)\n",
    "\n",
    "    # set the bounds of your plot\n",
    "    ax.set_extent([-180,180,-90,90], crs=ccrs.PlateCarree())\n",
    "\n",
    "    # add title & panel labels\n",
    "    ax.set_title(title,loc='left', fontsize='large', fontweight='bold')\n",
    "    ax.annotate(panel, xy=(0.05, 0.90), xycoords=ax.transAxes, ha='center', va='center',fontsize=16)    \n",
    "\n",
    "    # add plotting features\n",
    "    ax.coastlines()\n",
    "    ocean = ax.add_feature(cfeature.NaturalEarthFeature('physical','ocean','110m', facecolor='white'))\n",
    "    \n",
    "    # control colorbars on each plot & their location\n",
    "    if cb == 1:\n",
    "        cbar = fig.colorbar(im, ax=ax,pad=0.02, fraction = 0.03, orientation='horizontal')\n",
    "        cbar.set_label(units,size=12,fontweight='bold')\n",
    "    if cb == 2:\n",
    "        cbar = fig.colorbar(im, ax=ax,pad=0.02, fraction = 0.05, orientation='vertical')    \n",
    "        cbar.set_label(units,size=12)#,weight='bold')"
   ]
  },
  {
   "cell_type": "code",
   "execution_count": null,
   "metadata": {},
   "outputs": [],
   "source": [
    "i = 0\n",
    "fig, axes = plt.subplots(nrows=2, ncols=1, figsize=(13,6), constrained_layout=True,\n",
    "                         subplot_kw=dict(projection=ccrs.Robinson()))\n",
    "for index, ax in np.ndenumerate(axes):\n",
    "    if i == 0:\n",
    "        plotData = dsAnn.ELAI.isel(sim=1,time=0).drop(['sim','time'])\n",
    "        map_function(plotData, ax=ax,cb=2, panel='(a)', nbins=10,\n",
    "                     vmax=5,vmin=0, units='FATESsp, Annual ELAI')\n",
    "    if i == 1:\n",
    "        plotData = (dsAnn.ELAI.isel(sim=1,time=0)-dsAnn.ELAI.isel(sim=0,time=0))\n",
    "        map_function(plotData, ax=ax,cb=2,panel='(b)',\n",
    "                     units='Differences FATESsp-CTSM5.1',\n",
    "                     cmap='bwr',nbins=7, vmax=0.75,vmin=-0.75)    \n",
    "                     \n",
    "    i = i+1"
   ]
  }
 ],
 "metadata": {
  "kernelspec": {
   "display_name": "base",
   "language": "python",
   "name": "python3"
  },
  "language_info": {
   "name": "python",
   "version": "3.9.13 | packaged by conda-forge | (main, May 27 2022, 17:01:00) \n[Clang 13.0.1 ]"
  },
  "orig_nbformat": 4,
  "vscode": {
   "interpreter": {
    "hash": "d72940b3c77f8f7f15282de07229ee277c4441a1f0c746257ae1e112f6558483"
   }
  }
 },
 "nbformat": 4,
 "nbformat_minor": 2
}
