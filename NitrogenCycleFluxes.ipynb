{
 "cells": [
  {
   "cell_type": "code",
   "execution_count": 1,
   "id": "6d163035-11bf-4622-8e29-23e5ff77811b",
   "metadata": {},
   "outputs": [],
   "source": [
    "import xarray as xr\n",
    "import numpy as np\n",
    "import pandas as pd\n",
    "from datetime import date, timedelta\n",
    "from dateutil.relativedelta import relativedelta"
   ]
  },
  {
   "cell_type": "code",
   "execution_count": 2,
   "id": "13b68a72-b651-4333-93cb-3514d358141d",
   "metadata": {},
   "outputs": [],
   "source": [
    "case = \"fanv3_improving\"\n",
    "path = \"/glade/scratch/jinmuluo/archive/nitrogen_cycle/lnd/hist/\" \n",
    "start_date = date(2011, 1, 1)\n",
    "end_date = date(2011, 12, 1)\n",
    "delta = end_date - start_date"
   ]
  },
  {
   "cell_type": "markdown",
   "id": "3e2e90cb-c980-48eb-8f72-cc02329c8f20",
   "metadata": {},
   "source": [
    "## Nitrogen Input"
   ]
  },
  {
   "cell_type": "code",
   "execution_count": 3,
   "id": "53153902-81f0-48a3-a5ed-bbc2abbae326",
   "metadata": {},
   "outputs": [],
   "source": [
    "Input_vars = ['MANURE_N_APP', 'MANURE_N_GRZ', 'MANURE_N_MIX', 'FERT_N_APP', 'NDEP_TO_SMINN', 'NFIX_TO_SMINN', \n",
    "              'FFIX_TO_SMINN', 'FERT_TO_SMINN', 'NITRATE_N_TO_SMINN', 'F_CANOPY_TO_SOIL', 'area', 'landfrac']\n",
    "\n",
    "CLM = []\n",
    "for i in range(delta.days//30 + 1):\n",
    "    month = start_date + relativedelta(months=i)\n",
    "    month = month.strftime('%Y-%m')\n",
    "    CLM.append(path + case + \".clm2.\" + \"h0\" + \".\" + month +\".nc\")"
   ]
  },
  {
   "cell_type": "code",
   "execution_count": 4,
   "id": "40a9e7d8-2113-46a8-a2e9-7673653e6efe",
   "metadata": {},
   "outputs": [],
   "source": [
    "def preprocess(ds, fields=Input_vars):\n",
    "    return(ds[fields])\n",
    "\n",
    "def fix_time(ds):  \n",
    "    date0 = ds['time'][0].values\n",
    "    date1 = ds['time'][-1].values\n",
    "    # ds['time'] =xr.cftime_range(str(yr0),periods=ndays,freq='D')\n",
    "    ds['time'] = pd.date_range(str(date0),str(date1),freq='MS') \n",
    "    return ds\n",
    "\n",
    "dsCLM = fix_time(xr.open_mfdataset(CLM, decode_times=True, preprocess=preprocess))"
   ]
  },
  {
   "cell_type": "code",
   "execution_count": 5,
   "id": "d11751d2-70f6-470d-bd5f-459dd7addde9",
   "metadata": {},
   "outputs": [
    {
     "name": "stdout",
     "output_type": "stream",
     "text": [
      "manure applicaiton: 36.67   manure from grazing 65.56   manure in mix system: 92.64   synth fertilizers: 80.08\n",
      "N input to FAN is  182.31566285469376 TgN/year\n",
      "atm depostion: 81.98   nfixation: 114.71   ffxtion 39   NH4+ diffusion 101.05   NO3- diffusion 0.23   canopy recycle 2.36\n",
      "N input to CLM is  339.9698889487406 TgN/year\n"
     ]
    }
   ],
   "source": [
    "MANURE_N_APP = (dsCLM[\"MANURE_N_APP\"].fillna(0) * dsCLM['area']*dsCLM['landfrac']*1e6).sum(dim=['lat', 'lon'])\n",
    "MANURE_N_GRZ = (dsCLM[\"MANURE_N_GRZ\"].fillna(0) * dsCLM['area']*dsCLM['landfrac']*1e6).sum(dim=['lat', 'lon'])\n",
    "MANURE_N_MIX = (dsCLM[\"MANURE_N_MIX\"].fillna(0) * dsCLM['area']*dsCLM['landfrac']*1e6).sum(dim=['lat', 'lon'])\n",
    "FERT_N_APP   =   (dsCLM[\"FERT_N_APP\"].fillna(0) * dsCLM['area']*dsCLM['landfrac']*1e6).sum(dim=['lat', 'lon'])\n",
    "\n",
    "NDEP_TO_SMINN = (dsCLM[\"NDEP_TO_SMINN\"].fillna(0) * dsCLM['area']*dsCLM['landfrac']*1e6).sum(dim=['lat', 'lon'])\n",
    "NFIX_TO_SMINN = (dsCLM[\"NFIX_TO_SMINN\"].fillna(0) * dsCLM['area']*dsCLM['landfrac']*1e6).sum(dim=['lat', 'lon'])\n",
    "FERT_TO_SMINN = (dsCLM[\"FERT_TO_SMINN\"].fillna(0) * dsCLM['area']*dsCLM['landfrac']*1e6).sum(dim=['lat', 'lon'])\n",
    "NITRATE_N_TO_SMINN = (dsCLM[\"NITRATE_N_TO_SMINN\"].fillna(0) * dsCLM['area']*dsCLM['landfrac']*1e6).sum(dim=['lat', 'lon'])\n",
    "FFIX_TO_SMINN = (dsCLM[\"FFIX_TO_SMINN\"].fillna(0) * dsCLM['area']*dsCLM['landfrac']*1e6).sum(dim=['lat', 'lon'])\n",
    "F_CANOPY_TO_SOIL = (dsCLM[\"F_CANOPY_TO_SOIL\"].fillna(0) * dsCLM['area']*dsCLM['landfrac']*1e6).sum(dim=['lat', 'lon'])\n",
    "\n",
    "\n",
    "manure_app = 0.0; manure_grz = 0.0; manure_mix = 0.0; fert_app = 0.0\n",
    "ndep = 0.0; nfix = 0.0; fert_sminn = 0.0; nitrate_sminn=0.0; ffix = 0.0; canopy_soil = 0.0\n",
    "\n",
    "# unit transfer form gN/s to Tg/year\n",
    "for i in range(len(dsCLM.time)):\n",
    "    t= start_date + relativedelta(months=i)\n",
    "    t2 = start_date + relativedelta(months=i+1)\n",
    "    day = (t2-t).days\n",
    "    manure_app = manure_app + MANURE_N_APP[i].values * day * 24 * 3600 * 1e-12\n",
    "    manure_grz = manure_grz + MANURE_N_GRZ[i].values * day * 24 * 3600 * 1e-12\n",
    "    manure_mix = manure_mix + MANURE_N_MIX[i].values * day * 24 * 3600 * 1e-12\n",
    "    fert_app = fert_app + FERT_N_APP[i].values * day * 24 * 3600 * 1e-12\n",
    "    ndep = ndep + NDEP_TO_SMINN[i].values * day * 24 * 3600 * 1e-12\n",
    "    nfix = nfix + NFIX_TO_SMINN[i].values * day * 24 * 3600 * 1e-12\n",
    "    fert_sminn = fert_sminn + FERT_TO_SMINN[i].values * day * 24 * 3600 * 1e-12\n",
    "    nitrate_sminn = nitrate_sminn + NITRATE_N_TO_SMINN[i].values * day * 24 * 3600 * 1e-12\n",
    "    ffix = ffix + FFIX_TO_SMINN[i].values * day * 24 * 3600 * 1e-12 \n",
    "    canopy_soil = canopy_soil + F_CANOPY_TO_SOIL[i].values * day * 24 * 3600 * 1e-12\n",
    "    \n",
    "print(\"manure applicaiton:\", round(manure_app, 2), \"  manure from grazing\", round(manure_grz, 2), \n",
    "      \"  manure in mix system:\", round(manure_mix, 2), \"  synth fertilizers:\", round(fert_app, 2))\n",
    "print(\"N input to FAN is \", manure_app + manure_grz + fert_app, \"TgN/year\")\n",
    "\n",
    "print(\"atm depostion:\", round(ndep, 2),  '  nfixation:', round(nfix, 2), \"  ffxtion\", int(ffix), \n",
    "      \"  NH4+ diffusion\", round(fert_sminn, 2), \"  NO3- diffusion\", round(nitrate_sminn, 2), \n",
    "    \"  canopy recycle\", round(canopy_soil, 2))\n",
    "print(\"N input to CLM is \", ndep + nfix + fert_sminn + ffix + canopy_soil, \"TgN/year\")"
   ]
  },
  {
   "cell_type": "markdown",
   "id": "c998b840-ff9e-4597-a794-2cc12d35be2a",
   "metadata": {},
   "source": [
    "## Nitrogen Ouput"
   ]
  },
  {
   "cell_type": "code",
   "execution_count": 6,
   "id": "53c55aa2-4b9c-4e7a-887c-5b6df891039c",
   "metadata": {},
   "outputs": [],
   "source": [
    "Output_vars = ['NH3_TOTAL', 'NOx_NITRIFY_TOTAL', 'N2O_NITRIFY_TOTAL', 'NOx_DENITRIFY_TOTAL', 'N2O_DENITRIFY_TOTAL', \n",
    "              'N2_TOTAL', 'MANURE_N_TO_SMINN', 'SYNTHFERT_N_TO_SMINN', 'CANOPY_TO_SOIL', 'MANURE_NITRATE_TO_SOIL', \n",
    "              'FERT_NITRATE_TO_SOIL', 'MANURE_NH4_RUNOFF', 'FERT_NH4_RUNOFF', 'MANURE_NITRATE_RUNOFF', 'FERT_NITRATE_RUNOFF',\n",
    "              'F_N2O_NIT', 'F_NOx_NIT', 'F_N2O_DENIT', 'F_NOx_DENIT', 'F_N2_DENIT', 'SMIN_NO3_RUNOFF', \n",
    "               'SMIN_NO3_LEACHED', 'area', 'landfrac']\n",
    "\n",
    "CLM = []\n",
    "for i in range(delta.days//30 + 1):\n",
    "    month = start_date + relativedelta(months=i)\n",
    "    month = month.strftime('%Y-%m')\n",
    "    CLM.append(path + case + \".clm2.\" + \"h1\" + \".\" + month +\".nc\")"
   ]
  },
  {
   "cell_type": "code",
   "execution_count": 7,
   "id": "0e14de03-6092-4cb4-8a19-ceba4890a8a4",
   "metadata": {},
   "outputs": [],
   "source": [
    "def preprocess(ds, fields=Output_vars):\n",
    "    return(ds[fields])\n",
    "\n",
    "def fix_time(ds):  \n",
    "    date0 = ds['time'][0].values\n",
    "    date1 = ds['time'][-1].values\n",
    "    # ds['time'] =xr.cftime_range(str(yr0),periods=ndays,freq='D')\n",
    "    ds['time'] = pd.date_range(str(date0),str(date1),freq='MS') \n",
    "    return ds\n",
    "\n",
    "dsCLM = fix_time(xr.open_mfdataset(CLM, decode_times=True, preprocess=preprocess))"
   ]
  },
  {
   "cell_type": "code",
   "execution_count": 8,
   "id": "4080f2b7-fdbf-4403-bf70-3559e6a442ec",
   "metadata": {},
   "outputs": [
    {
     "name": "stdout",
     "output_type": "stream",
     "text": [
      "For FAN loss fluxes: Tg/yr\n",
      "NH3: 47.9001   NOx_NIT: 0.6088   NOx_DENIT: 0.0007   N2O_NIT: 0.5407   N2O_DENIT: 0.0006   N2: 0.0082\n",
      "NH4 to deep soil: 107.4859   NO3 to deep soil: 12.5275\n",
      "NH4 runoff: 2.1058   NO3 runoff: 1.4534   Canopy recycle: 0.0688\n",
      "For CLM loss fluxes: Tg/yr\n",
      "NOx_NIT: 0.0826   NOx_DENIT: 6.0528   N2O_NIT: 0.062   N2O_DENIT: 4.024   N2: 41.9971\n",
      "NO3 runoff: 7.6968   NO3 leached: 2.0234\n"
     ]
    }
   ],
   "source": [
    "NH3_TOTAL = (dsCLM[\"NH3_TOTAL\"].fillna(0) * dsCLM['area']*dsCLM['landfrac']*1e6).sum(dim=['lat', 'lon'])\n",
    "NOx_NITRIFY_TOTAL = (dsCLM[\"NOx_NITRIFY_TOTAL\"].fillna(0) * dsCLM['area']*dsCLM['landfrac']*1e6).sum(dim=['lat', 'lon'])\n",
    "N2O_NITRIFY_TOTAL = (dsCLM[\"N2O_NITRIFY_TOTAL\"].fillna(0) * dsCLM['area']*dsCLM['landfrac']*1e6).sum(dim=['lat', 'lon'])\n",
    "NOx_DENITRIFY_TOTAL = (dsCLM[\"NOx_DENITRIFY_TOTAL\"].fillna(0) * dsCLM['area']*dsCLM['landfrac']*1e6).sum(dim=['lat', 'lon'])\n",
    "N2O_DENITRIFY_TOTAL = (dsCLM[\"N2O_DENITRIFY_TOTAL\"].fillna(0) * dsCLM['area']*dsCLM['landfrac']*1e6).sum(dim=['lat', 'lon'])\n",
    "N2_TOTAL = (dsCLM[\"N2_TOTAL\"].fillna(0) * dsCLM['area']*dsCLM['landfrac']*1e6).sum(dim=['lat', 'lon'])\n",
    "MANURE_N_TO_SMINN = (dsCLM[\"MANURE_N_TO_SMINN\"].fillna(0) * dsCLM['area']*dsCLM['landfrac']*1e6).sum(dim=['lat', 'lon'])\n",
    "SYNTHFERT_N_TO_SMINN = (dsCLM[\"SYNTHFERT_N_TO_SMINN\"].fillna(0)* dsCLM['area']*dsCLM['landfrac']*1e6).sum(dim=['lat', 'lon'])\n",
    "CANOPY_TO_SOIL = (dsCLM[\"CANOPY_TO_SOIL\"].fillna(0) * dsCLM['area']*dsCLM['landfrac']*1e6).sum(dim=['lat', 'lon'])\n",
    "MANURE_NITRATE_TO_SOIL = (dsCLM[\"MANURE_NITRATE_TO_SOIL\"].fillna(0) * dsCLM['area']*dsCLM['landfrac']*1e6).sum(dim=['lat', 'lon'])\n",
    "FERT_NITRATE_TO_SOIL = (dsCLM[\"FERT_NITRATE_TO_SOIL\"].fillna(0)* dsCLM['area']*dsCLM['landfrac']*1e6).sum(dim=['lat', 'lon'])\n",
    "NH4_RUNOFF = ((dsCLM[\"MANURE_NH4_RUNOFF\"].fillna(0) + dsCLM[\"FERT_NH4_RUNOFF\"].fillna(0))* dsCLM['area']*dsCLM['landfrac']*1e6).sum(dim=['lat', 'lon'])\n",
    "NITRATE_RUNOFF = ((dsCLM[\"MANURE_NITRATE_RUNOFF\"].fillna(0) +dsCLM[\"FERT_NITRATE_RUNOFF\"].fillna(0))* dsCLM['area']*dsCLM['landfrac']*1e6).sum(dim=['lat', 'lon'])\n",
    "\n",
    "F_N2O_NIT = (dsCLM[\"F_N2O_NIT\"].fillna(0) * dsCLM['area']*dsCLM['landfrac']*1e6).sum(dim=['lat', 'lon'])\n",
    "F_NOx_NIT = (dsCLM[\"F_NOx_NIT\"].fillna(0) * dsCLM['area']*dsCLM['landfrac']*1e6).sum(dim=['lat', 'lon'])\n",
    "F_N2O_DENIT = (dsCLM[\"F_N2O_DENIT\"].fillna(0) * dsCLM['area']*dsCLM['landfrac']*1e6).sum(dim=['lat', 'lon'])\n",
    "F_NOx_DENIT = (dsCLM[\"F_NOx_DENIT\"].fillna(0) * dsCLM['area']*dsCLM['landfrac']*1e6).sum(dim=['lat', 'lon'])\n",
    "F_N2_DENIT = (dsCLM[\"F_N2_DENIT\"].fillna(0) * dsCLM['area']*dsCLM['landfrac']*1e6).sum(dim=['lat', 'lon'])\n",
    "SMIN_NO3_RUNOFF = (dsCLM[\"SMIN_NO3_RUNOFF\"].fillna(0) * dsCLM['area']*dsCLM['landfrac']*1e6).sum(dim=['lat', 'lon'])\n",
    "SMIN_NO3_LEACHED = (dsCLM[\"SMIN_NO3_LEACHED\"].fillna(0) * dsCLM['area']*dsCLM['landfrac']*1e6).sum(dim=['lat', 'lon'])\n",
    "\n",
    "nh3 = 0.0; nox_nit = 0.0; n2o_nit = 0.0; nox_denit = 0.0; n2o_denit=0.0; n2_total = 0.0; \n",
    "manure_nh4_soil = 0.0; synthfert_nh4_soil = 0.0;\n",
    "canopy_soil = 0.0; manure_no3_soil = 0.0; fert_no3_soil = 0.0 ;nh4_runoff = 0.0; no3_runoff = 0.0;\n",
    "f_n2o_nit = 0.0; f_nox_nit=0.0; f_n2o_denit = 0.0; f_nox_denit = 0.0; \n",
    "f_n2_denit = 0.0; f_no3_runoff = 0.0; f_no3_leached=0.0;\n",
    "\n",
    "# unit transfer form gN/s to Tg/year\n",
    "for i in range(len(dsCLM.time)):\n",
    "    t= start_date + relativedelta(months=i)\n",
    "    t2 = start_date + relativedelta(months=i+1)\n",
    "    day = (t2-t).days\n",
    "    \n",
    "    nh3 = nh3 + NH3_TOTAL[i].values * day * 24 * 3600 * 1e-12\n",
    "    nox_nit = nox_nit + NOx_NITRIFY_TOTAL[i].values * day * 24 * 3600 * 1e-12\n",
    "    n2o_nit = n2o_nit + N2O_NITRIFY_TOTAL[i].values * day * 24 * 3600 * 1e-12\n",
    "    nox_denit = nox_denit + NOx_DENITRIFY_TOTAL[i].values * day * 24 * 3600 * 1e-12\n",
    "    n2o_denit = n2o_denit + N2O_DENITRIFY_TOTAL[i].values * day * 24 * 3600 * 1e-12\n",
    "    n2_total = n2_total + N2_TOTAL[i].values * day * 24 * 3600 * 1e-12\n",
    "    manure_nh4_soil = manure_nh4_soil + MANURE_N_TO_SMINN[i].values * day * 24 * 3600 * 1e-12\n",
    "    synthfert_nh4_soil = synthfert_nh4_soil + SYNTHFERT_N_TO_SMINN[i].values * day * 24 * 3600 * 1e-12\n",
    "    canopy_soil = canopy_soil + CANOPY_TO_SOIL[i].values * day * 24 * 3600 * 1e-12\n",
    "    manure_no3_soil = manure_no3_soil + MANURE_NITRATE_TO_SOIL[i].values * day * 24 * 3600 * 1e-12\n",
    "    fert_no3_soil = fert_no3_soil + FERT_NITRATE_TO_SOIL[i].values * day * 24 * 3600 * 1e-12\n",
    "    nh4_runoff = nh4_runoff + NH4_RUNOFF[i].values * day * 24 * 3600 * 1e-12\n",
    "    no3_runoff = no3_runoff + NITRATE_RUNOFF[i].values * day * 24 * 3600 * 1e-12\n",
    "    \n",
    "    f_n2o_nit = f_n2o_nit + F_N2O_NIT[i].values * day * 24 * 3600 * 1e-12\n",
    "    f_nox_nit = f_nox_nit + F_NOx_NIT[i].values * day * 24 * 3600 * 1e-12\n",
    "    f_n2o_denit = f_n2o_denit + F_N2O_DENIT[i].values * day * 24 * 3600 * 1e-12\n",
    "    f_nox_denit = f_nox_denit + F_NOx_DENIT[i].values * day * 24 * 3600 * 1e-12\n",
    "    f_n2_denit = f_n2_denit + F_N2_DENIT[i].values * day * 24 * 3600 * 1e-12\n",
    "    f_no3_runoff = f_no3_runoff + SMIN_NO3_RUNOFF[i].values * day * 24 * 3600 * 1e-12\n",
    "    f_no3_leached = f_no3_leached + SMIN_NO3_LEACHED[i].values * day * 24 * 3600 * 1e-12\n",
    "\n",
    "print(\"For FAN loss fluxes: Tg/yr\")\n",
    "print(\"NH3:\", round(nh3, 4), \"  NOx_NIT:\", round(nox_nit, 4), \"  NOx_DENIT:\", round(nox_denit, 4),\n",
    "      \"  N2O_NIT:\", round(n2o_nit, 4), \"  N2O_DENIT:\", round(n2o_denit, 4),\"  N2:\", round(n2_total, 4),)\n",
    "print(\"NH4 to deep soil:\", round(manure_nh4_soil + synthfert_nh4_soil, 4), \n",
    "      \"  NO3 to deep soil:\", round(fert_no3_soil + manure_no3_soil, 4),)\n",
    "print(\"NH4 runoff:\", round(nh4_runoff, 4), \"  NO3 runoff:\", round(no3_runoff, 4), \"  Canopy recycle:\", round(canopy_soil, 4))\n",
    "\n",
    "print(\"For CLM loss fluxes: Tg/yr\")\n",
    "print(\"NOx_NIT:\", round(f_nox_nit, 4), \"  NOx_DENIT:\", round(f_nox_denit, 4),\n",
    "      \"  N2O_NIT:\", round(f_n2o_nit, 4), \"  N2O_DENIT:\", round(f_n2o_denit, 4),\"  N2:\", round(f_n2_denit, 4),)\n",
    "print(\"NO3 runoff:\", round(f_no3_runoff, 4), \"  NO3 leached:\", round(f_no3_leached, 4))"
   ]
  },
  {
   "cell_type": "code",
   "execution_count": 9,
   "id": "4ff32900-ade3-4059-b019-60422b24fd04",
   "metadata": {},
   "outputs": [
    {
     "name": "stdout",
     "output_type": "stream",
     "text": [
      "For FAN loss fluxes: Tg/yr\n",
      "NH3: 69.2357   NOx_NIT: 0.882   NOx_DENIT: 0.001   N2O_NIT: 0.7356   N2O_DENIT: 0.0008   N2: 0.0082\n",
      "NH4 to deep soil: 145.7933   NO3 to deep soil: 18.9966\n",
      "NH4 runoff: 2.7276   NO3 runoff: 2.1477   Canopy recycle: 0.13\n",
      "For CLM loss fluxes: Tg/yr\n",
      "NOx_NIT: 0.1006   NOx_DENIT: 7.2777   N2O_NIT: 0.0741   N2O_DENIT: 4.8964   N2: 51.6344\n",
      "NO3 runoff: 10.0166   NO3 leached: 2.3029\n"
     ]
    }
   ],
   "source": [
    "NH3_TOTAL = (dsCLM[\"NH3_TOTAL\"].fillna(0) * dsCLM['area']*1e6).sum(dim=['lat', 'lon'])\n",
    "NOx_NITRIFY_TOTAL = (dsCLM[\"NOx_NITRIFY_TOTAL\"].fillna(0) * dsCLM['area']*1e6).sum(dim=['lat', 'lon'])\n",
    "N2O_NITRIFY_TOTAL = (dsCLM[\"N2O_NITRIFY_TOTAL\"].fillna(0) * dsCLM['area']*1e6).sum(dim=['lat', 'lon'])\n",
    "NOx_DENITRIFY_TOTAL = (dsCLM[\"NOx_DENITRIFY_TOTAL\"].fillna(0) * dsCLM['area']*1e6).sum(dim=['lat', 'lon'])\n",
    "N2O_DENITRIFY_TOTAL = (dsCLM[\"N2O_DENITRIFY_TOTAL\"].fillna(0) * dsCLM['area']*1e6).sum(dim=['lat', 'lon'])\n",
    "N2_TOTAL = (dsCLM[\"N2_TOTAL\"].fillna(0) * dsCLM['area']*dsCLM['landfrac']*1e6).sum(dim=['lat', 'lon'])\n",
    "NH4_TO_SMINN = ((dsCLM[\"MANURE_N_TO_SMINN\"].fillna(0) + dsCLM[\"SYNTHFERT_N_TO_SMINN\"].fillna(0)) * dsCLM['area']*1e6).sum(dim=['lat', 'lon'])\n",
    "CANOPY_TO_SOIL = (dsCLM[\"CANOPY_TO_SOIL\"].fillna(0) * dsCLM['area']*1e6).sum(dim=['lat', 'lon'])\n",
    "NITRATE_TO_SOIL = ((dsCLM[\"MANURE_NITRATE_TO_SOIL\"].fillna(0)+dsCLM[\"FERT_NITRATE_TO_SOIL\"].fillna(0)) * dsCLM['area']*1e6).sum(dim=['lat', 'lon'])\n",
    "NH4_RUNOFF = ((dsCLM[\"MANURE_NH4_RUNOFF\"].fillna(0) + dsCLM[\"FERT_NH4_RUNOFF\"].fillna(0))* dsCLM['area']*1e6).sum(dim=['lat', 'lon'])\n",
    "NITRATE_RUNOFF = ((dsCLM[\"MANURE_NITRATE_RUNOFF\"].fillna(0) +dsCLM[\"FERT_NITRATE_RUNOFF\"].fillna(0))* dsCLM['area']*1e6).sum(dim=['lat', 'lon'])\n",
    "\n",
    "F_N2O_NIT = (dsCLM[\"F_N2O_NIT\"].fillna(0) * dsCLM['area']*1e6).sum(dim=['lat', 'lon'])\n",
    "F_NOx_NIT = (dsCLM[\"F_NOx_NIT\"].fillna(0) * dsCLM['area']*1e6).sum(dim=['lat', 'lon'])\n",
    "F_N2O_DENIT = (dsCLM[\"F_N2O_DENIT\"].fillna(0) * dsCLM['area']*1e6).sum(dim=['lat', 'lon'])\n",
    "F_NOx_DENIT = (dsCLM[\"F_NOx_DENIT\"].fillna(0) * dsCLM['area']*1e6).sum(dim=['lat', 'lon'])\n",
    "F_N2_DENIT = (dsCLM[\"F_N2_DENIT\"].fillna(0) * dsCLM['area']*1e6).sum(dim=['lat', 'lon'])\n",
    "SMIN_NO3_RUNOFF = (dsCLM[\"SMIN_NO3_RUNOFF\"].fillna(0) * dsCLM['area']*1e6).sum(dim=['lat', 'lon'])\n",
    "SMIN_NO3_LEACHED = (dsCLM[\"SMIN_NO3_LEACHED\"].fillna(0) * dsCLM['area']*1e6).sum(dim=['lat', 'lon'])\n",
    "\n",
    "nh3 = 0.0; nox_nit = 0.0; n2o_nit = 0.0; nox_denit = 0.0; n2o_denit=0.0; n2_total = 0.0; nh4_soil = 0.0;\n",
    "canopy_soil = 0.0; no3_soil = 0.0; nh4_runoff = 0.0; no3_runoff = 0.0;\n",
    "f_n2o_nit = 0.0; f_nox_nit=0.0; f_n2o_denit = 0.0; f_nox_denit = 0.0; \n",
    "f_n2_denit = 0.0; f_no3_runoff = 0.0; f_no3_leached=0.0;\n",
    "\n",
    "# unit transfer form gN/s to Tg/year\n",
    "for i in range(len(dsCLM.time)):\n",
    "    t= start_date + relativedelta(months=i)\n",
    "    t2 = start_date + relativedelta(months=i+1)\n",
    "    day = (t2-t).days\n",
    "    \n",
    "    nh3 = nh3 + NH3_TOTAL[i].values * day * 24 * 3600 * 1e-12\n",
    "    nox_nit = nox_nit + NOx_NITRIFY_TOTAL[i].values * day * 24 * 3600 * 1e-12\n",
    "    n2o_nit = n2o_nit + N2O_NITRIFY_TOTAL[i].values * day * 24 * 3600 * 1e-12\n",
    "    nox_denit = nox_denit + NOx_DENITRIFY_TOTAL[i].values * day * 24 * 3600 * 1e-12\n",
    "    n2o_denit = n2o_denit + N2O_DENITRIFY_TOTAL[i].values * day * 24 * 3600 * 1e-12\n",
    "    n2_total = n2_total + N2_TOTAL[i].values * day * 24 * 3600 * 1e-12\n",
    "    nh4_soil = nh4_soil + NH4_TO_SMINN[i].values * day * 24 * 3600 * 1e-12\n",
    "    canopy_soil = canopy_soil + CANOPY_TO_SOIL[i].values * day * 24 * 3600 * 1e-12\n",
    "    no3_soil = no3_soil + NITRATE_TO_SOIL[i].values * day * 24 * 3600 * 1e-12\n",
    "    nh4_runoff = nh4_runoff + NH4_RUNOFF[i].values * day * 24 * 3600 * 1e-12\n",
    "    no3_runoff = no3_runoff + NITRATE_RUNOFF[i].values * day * 24 * 3600 * 1e-12\n",
    "    \n",
    "    f_n2o_nit = f_n2o_nit + F_N2O_NIT[i].values * day * 24 * 3600 * 1e-12\n",
    "    f_nox_nit = f_nox_nit + F_NOx_NIT[i].values * day * 24 * 3600 * 1e-12\n",
    "    f_n2o_denit = f_n2o_denit + F_N2O_DENIT[i].values * day * 24 * 3600 * 1e-12\n",
    "    f_nox_denit = f_nox_denit + F_NOx_DENIT[i].values * day * 24 * 3600 * 1e-12\n",
    "    f_n2_denit = f_n2_denit + F_N2_DENIT[i].values * day * 24 * 3600 * 1e-12\n",
    "    f_no3_runoff = f_no3_runoff + SMIN_NO3_RUNOFF[i].values * day * 24 * 3600 * 1e-12\n",
    "    f_no3_leached = f_no3_leached + SMIN_NO3_LEACHED[i].values * day * 24 * 3600 * 1e-12\n",
    "\n",
    "print(\"For FAN loss fluxes: Tg/yr\")\n",
    "print(\"NH3:\", round(nh3, 4), \"  NOx_NIT:\", round(nox_nit, 4), \"  NOx_DENIT:\", round(nox_denit, 4),\n",
    "      \"  N2O_NIT:\", round(n2o_nit, 4), \"  N2O_DENIT:\", round(n2o_denit, 4),\"  N2:\", round(n2_total, 4),)\n",
    "print(\"NH4 to deep soil:\", round(nh4_soil, 4), \"  NO3 to deep soil:\", round(no3_soil, 4),)\n",
    "print(\"NH4 runoff:\", round(nh4_runoff, 4), \"  NO3 runoff:\", round(no3_runoff, 4), \"  Canopy recycle:\", round(canopy_soil, 4))\n",
    "\n",
    "print(\"For CLM loss fluxes: Tg/yr\")\n",
    "print(\"NOx_NIT:\", round(f_nox_nit, 4), \"  NOx_DENIT:\", round(f_nox_denit, 4),\n",
    "      \"  N2O_NIT:\", round(f_n2o_nit, 4), \"  N2O_DENIT:\", round(f_n2o_denit, 4),\"  N2:\", round(f_n2_denit, 4),)\n",
    "print(\"NO3 runoff:\", round(f_no3_runoff, 4), \"  NO3 leached:\", round(f_no3_leached, 4))"
   ]
  },
  {
   "cell_type": "markdown",
   "id": "58d019a5-c416-497f-bfab-a219cf455cf3",
   "metadata": {},
   "source": [
    "## Some Mid-terms"
   ]
  },
  {
   "cell_type": "code",
   "execution_count": 10,
   "id": "18167f2c-c6b7-4bba-8d8c-8954e68dba5f",
   "metadata": {},
   "outputs": [],
   "source": [
    "mt_vars = ['MANURE_NO3_TO_SOIL', 'FERT_NO3_TO_SOIL', 'F_NIT', 'F_DENIT', 'ACTUAL_IMMOB_NO3', 'ACTUAL_IMMOB_NH4', 'GROSS_NMIN', \n",
    "           'SMIN_NH4_TO_PLANT', 'SMIN_NO3_TO_PLANT', 'area', 'landfrac', 'levdcmp']\n",
    "\n",
    "CLM = []\n",
    "for i in range(delta.days//30 + 1):\n",
    "    month = start_date + relativedelta(months=i)\n",
    "    month = month.strftime('%Y-%m')\n",
    "    CLM.append(path + case + \".clm2.\" + \"h2\" + \".\" + month +\".nc\")"
   ]
  },
  {
   "cell_type": "code",
   "execution_count": 12,
   "id": "acfd9e0f-177f-4e38-973b-d9bc046ce161",
   "metadata": {},
   "outputs": [],
   "source": [
    "def preprocess(ds, fields=mt_vars):\n",
    "    return(ds[fields])\n",
    "\n",
    "def fix_time(ds):  \n",
    "    date0 = ds['time'][0].values\n",
    "    date1 = ds['time'][-1].values\n",
    "    # ds['time'] =xr.cftime_range(str(yr0),periods=ndays,freq='D')\n",
    "    ds['time'] = pd.date_range(str(date0),str(date1),freq='MS') \n",
    "    return ds\n",
    "\n",
    "dsCLM = fix_time(xr.open_mfdataset(CLM, decode_times=True, preprocess=preprocess))"
   ]
  },
  {
   "cell_type": "code",
   "execution_count": 13,
   "id": "1c194570-6331-4a82-96da-a0a0b779140f",
   "metadata": {},
   "outputs": [
    {
     "name": "stdout",
     "output_type": "stream",
     "text": [
      "For FAN fluxes\n",
      "Nitrification: 38.65461428885625 Tg/yr\n",
      "Denitrification: 0.01004077155022888 Tg/yr\n",
      "For CLM fluxes\n",
      "Nitrification: 103.38871876200001 Tg/yr\n",
      "Denitrification: 54.403824090600004 Tg/yr\n",
      "Immobilization from NH4+: 1778.3288637636333 Tg/yr   from NO3- 0.5345960642278597 Tg/yr\n",
      "mineralization from organic pool: 2768.2844020991997 Tg/yr\n",
      "plant uptake, NH4+: 1008953.8956665437 Tg/yr    NO3-: 27775791.964747034 Tg/yr\n"
     ]
    }
   ],
   "source": [
    "x = np.zeros(len(dsCLM['levdcmp']))\n",
    "for i in range(len(x)):\n",
    "    if i == 0 :\n",
    "        x[i] = dsCLM['levdcmp'][i].values * 2\n",
    "    else:\n",
    "        x[i] = (dsCLM['levdcmp'][i].values - dsCLM['levdcmp'][i-1].values - x[i-1]/2)*2\n",
    "\n",
    "dsCLM = dsCLM.assign(depth=(dsCLM['levdcmp'].coords, x))\n",
    "\n",
    "MANURE_NO3_TO_SOIL = (dsCLM[\"MANURE_NO3_TO_SOIL\"].fillna(0) * dsCLM['area']*dsCLM['landfrac']*1e6).sum(dim=['lat', 'lon'])\n",
    "FERT_NO3_TO_SOIL = (dsCLM[\"FERT_NO3_TO_SOIL\"].fillna(0) * dsCLM['area']*dsCLM['landfrac']*1e6).sum(dim=['lat', 'lon'])\n",
    "F_NIT = (dsCLM[\"F_NIT\"].fillna(0) * dsCLM['area']*dsCLM['landfrac']*1e6).sum(dim=['lat', 'lon'])\n",
    "F_DENIT = (dsCLM[\"F_DENIT\"].fillna(0) * dsCLM['area']*dsCLM['landfrac']*1e6).sum(dim=['lat', 'lon'])\n",
    "\n",
    "ACTUAL_IMMOB_NH4 = dsCLM[\"ACTUAL_IMMOB_NH4\"].fillna(0) * dsCLM['depth']\n",
    "ACTUAL_IMMOB_NH4 = (ACTUAL_IMMOB_NH4 * dsCLM['area']*dsCLM['landfrac']*1e6).sum(dim=['levdcmp', 'lat', 'lon'])\n",
    "ACTUAL_IMMOB_NO3 = dsCLM[\"ACTUAL_IMMOB_NO3\"].fillna(0) * dsCLM['depth']\n",
    "ACTUAL_IMMOB_NO3 = (ACTUAL_IMMOB_NO3 * dsCLM['area']*dsCLM['landfrac']*1e6).sum(dim=['levdcmp', 'lat', 'lon'])\n",
    "\n",
    "GROSS_NMIN = (dsCLM[\"GROSS_NMIN\"].fillna(0) * dsCLM['area']*dsCLM['landfrac']*1e6).sum(dim=['lat', 'lon'])\n",
    "\n",
    "SMIN_NH4_TO_PLANT = dsCLM[\"SMIN_NH4_TO_PLANT\"].fillna(0) * dsCLM['depth']\n",
    "SMIN_NH4_TO_PLANT = (SMIN_NH4_TO_PLANT  * dsCLM['area']*dsCLM['landfrac']*1e6).sum(dim=['levdcmp', 'lat', 'lon'])\n",
    "\n",
    "SMIN_NO3_TO_PLANT = dsCLM[\"SMIN_NO3_TO_PLANT\"].fillna(0) * dsCLM['depth']\n",
    "SMIN_NO3_TO_PLANT = (SMIN_NO3_TO_PLANT * dsCLM['area']*dsCLM['landfrac']*1e6).sum(dim=['levdcmp', 'lat', 'lon'])\n",
    "\n",
    "\n",
    "manure_no3_soil = 0.0; fert_no3_soil = 0.0; clm_nit = 0.0; clm_denit = 0.0; \n",
    "immob_no3 = 0.0; immob_nh4 = 0.0; mineralization=0.0; nh4_plant=0.0; no3_plant=0.0;\n",
    "\n",
    "# unit transfer form gN/s to Tg/year\n",
    "for i in range(len(dsCLM.time)):\n",
    "    t= start_date + relativedelta(months=i)\n",
    "    t2 = start_date + relativedelta(months=i+1)\n",
    "    day = (t2-t).days\n",
    "    \n",
    "    manure_no3_soil = manure_no3_soil + MANURE_NO3_TO_SOIL[i].values * day * 24 * 3600 * 1e-12\n",
    "    fert_no3_soil = fert_no3_soil + FERT_NO3_TO_SOIL[i].values * day * 24 * 3600 * 1e-12\n",
    "    clm_nit = clm_nit + F_NIT[i].values * day * 24 * 3600 * 1e-12\n",
    "    clm_denit = clm_denit + F_DENIT[i].values * day * 24 * 3600 * 1e-12\n",
    "    immob_no3 = immob_no3 + ACTUAL_IMMOB_NO3[i].values * day * 24 * 3600 * 1e-12\n",
    "    immob_nh4 = immob_nh4 + ACTUAL_IMMOB_NH4[i].values * day * 24 * 3600 * 1e-12\n",
    "    mineralization = mineralization + GROSS_NMIN[i].values * day * 24 * 3600 * 1e-12\n",
    "    nh4_plant = nh4_plant + SMIN_NH4_TO_PLANT[i].values * day * 24 * 3600 * 1e-12\n",
    "    no3_plant = no3_plant + SMIN_NO3_TO_PLANT[i].values * day * 24 * 3600 * 1e-12\n",
    "\n",
    "print(\"For FAN fluxes\")\n",
    "print(\"Nitrification:\", manure_no3_soil+fert_no3_soil, \"Tg/yr\")\n",
    "print(\"Denitrification:\", n2o_denit+nox_denit+n2_total, \"Tg/yr\")\n",
    "\n",
    "print(\"For CLM fluxes\")\n",
    "print(\"Nitrification:\", clm_nit, \"Tg/yr\")\n",
    "print(\"Denitrification:\", clm_denit, \"Tg/yr\")\n",
    "print(\"Immobilization from NH4+:\", immob_nh4, \"Tg/yr   from NO3-\", immob_no3,\"Tg/yr\")\n",
    "print(\"mineralization from organic pool:\", mineralization, \"Tg/yr\")\n",
    "print(\"plant uptake, NH4+:\", nh4_plant, \"Tg/yr    NO3-:\", no3_plant, \"Tg/yr\")"
   ]
  },
  {
   "cell_type": "markdown",
   "id": "ae970d9a-5115-4f49-ac06-b2324c85103f",
   "metadata": {},
   "source": [
    "## Comparing the results from FUN"
   ]
  },
  {
   "cell_type": "code",
   "execution_count": 14,
   "id": "2939792e-6f8b-4b04-b78c-4b46d6e162a3",
   "metadata": {},
   "outputs": [],
   "source": [
    "fun_vars = ['SMINN_TO_PLANT', 'SMINN_TO_PLANT_FUN', 'area', 'landfrac', 'levdcmp']\n",
    "\n",
    "CLM = []\n",
    "for i in range(delta.days//30 + 1):\n",
    "    month = start_date + relativedelta(months=i)\n",
    "    month = month.strftime('%Y-%m')\n",
    "    CLM.append(path + case + \".clm2.\" + \"h0\" + \".\" + month +\".nc\")"
   ]
  },
  {
   "cell_type": "code",
   "execution_count": 15,
   "id": "bd885e20-2b91-484b-8c13-4ee22c8327c3",
   "metadata": {},
   "outputs": [],
   "source": [
    "def preprocess(ds, fields=fun_vars):\n",
    "    return(ds[fields])\n",
    "\n",
    "def fix_time(ds):  \n",
    "    date0 = ds['time'][0].values\n",
    "    date1 = ds['time'][-1].values\n",
    "    # ds['time'] =xr.cftime_range(str(yr0),periods=ndays,freq='D')\n",
    "    ds['time'] = pd.date_range(str(date0),str(date1),freq='MS') \n",
    "    return ds\n",
    "\n",
    "dsCLM = fix_time(xr.open_mfdataset(CLM, decode_times=True, preprocess=preprocess))"
   ]
  },
  {
   "cell_type": "code",
   "execution_count": 16,
   "id": "42f0cb9d-3013-4f45-a468-25a401fcc77b",
   "metadata": {},
   "outputs": [
    {
     "name": "stdout",
     "output_type": "stream",
     "text": [
      "normal scheme: 19010827.368529916 Tg/yr\n",
      "FUN scheme: 783.6595926335999 Tg/yr\n"
     ]
    }
   ],
   "source": [
    "SMINN_TO_PLANT = (dsCLM[\"SMINN_TO_PLANT\"].fillna(0) * dsCLM['area']*dsCLM['landfrac']*1e6).sum(dim=['lat', 'lon'])\n",
    "SMINN_TO_PLANT_FUN = (dsCLM[\"SMINN_TO_PLANT_FUN\"].fillna(0) * dsCLM['area']*dsCLM['landfrac']*1e6).sum(dim=['lat', 'lon'])\n",
    "\n",
    "normal_plant = 0.0; fun_plant = 0.0; \n",
    "\n",
    "# unit transfer form gN/s to Tg/year\n",
    "for i in range(len(dsCLM.time)):\n",
    "    t= start_date + relativedelta(months=i)\n",
    "    t2 = start_date + relativedelta(months=i+1)\n",
    "    day = (t2-t).days\n",
    "    \n",
    "    normal_plant = normal_plant + SMINN_TO_PLANT[i].values * day * 24 * 3600 * 1e-12\n",
    "    fun_plant = fun_plant + SMINN_TO_PLANT_FUN[i].values * day * 24 * 3600 * 1e-12\n",
    "\n",
    "print(\"normal scheme:\", normal_plant, \"Tg/yr\")\n",
    "print(\"FUN scheme:\", fun_plant, \"Tg/yr\")"
   ]
  },
  {
   "cell_type": "code",
   "execution_count": 17,
   "id": "561086f1-9e5c-4f69-92a8-7f6c63dd6005",
   "metadata": {},
   "outputs": [
    {
     "data": {
      "text/plain": [
       "9773918.491883662"
      ]
     },
     "execution_count": 17,
     "metadata": {},
     "output_type": "execute_result"
    }
   ],
   "source": [
    "nh4_plant + no3_plant - normal_plant"
   ]
  }
 ],
 "metadata": {
  "kernelspec": {
   "display_name": "NPL 2023a",
   "language": "python",
   "name": "npl-2023a"
  },
  "language_info": {
   "codemirror_mode": {
    "name": "ipython",
    "version": 3
   },
   "file_extension": ".py",
   "mimetype": "text/x-python",
   "name": "python",
   "nbconvert_exporter": "python",
   "pygments_lexer": "ipython3",
   "version": "3.9.15"
  }
 },
 "nbformat": 4,
 "nbformat_minor": 5
}
