{
 "cells": [
  {
   "cell_type": "code",
   "execution_count": 1,
   "id": "d902a7f9-e6da-4b04-af9c-aa20d3f610d8",
   "metadata": {},
   "outputs": [],
   "source": [
    "import xarray as xr\n",
    "import numpy as np\n",
    "import pandas as pd\n",
    "import os\n",
    "from datetime import date, timedelta\n",
    "from dateutil.relativedelta import relativedelta\n",
    "import cftime"
   ]
  },
  {
   "cell_type": "code",
   "execution_count": 2,
   "id": "51c174c4-0fbd-47a7-834d-fd2fef613a2d",
   "metadata": {},
   "outputs": [],
   "source": [
    "case = \"MESOCOM\"\n",
    "path = \"/glade/scratch/jinmuluo/archive/MESOCOM_1hourly_forcing/lnd/hist/\" \n",
    "start_date = date(2014, 1, 1)\n",
    "end_date = date(2023, 1, 1)\n",
    "NO_LEAP = True\n",
    "\n",
    "# Because out model simulation results are in daily average\n",
    "delta_months = (end_date.year - start_date.year)*12 + end_date.month - start_date.month + 1"
   ]
  }
 ],
 "metadata": {
  "kernelspec": {
   "display_name": "CMIP6 2019.10",
   "language": "python",
   "name": "cmip6-201910"
  },
  "language_info": {
   "codemirror_mode": {
    "name": "ipython",
    "version": 3
   },
   "file_extension": ".py",
   "mimetype": "text/x-python",
   "name": "python",
   "nbconvert_exporter": "python",
   "pygments_lexer": "ipython3",
   "version": "3.7.10"
  }
 },
 "nbformat": 4,
 "nbformat_minor": 5
}
