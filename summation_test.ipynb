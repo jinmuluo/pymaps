{
 "cells": [
  {
   "cell_type": "code",
   "execution_count": 1,
   "id": "751a2715-7dce-4d97-be07-0d64e07eadf5",
   "metadata": {},
   "outputs": [],
   "source": [
    "import xarray as xr\n",
    "import numpy as np\n",
    "import pandas as pd\n",
    "from datetime import date, timedelta\n",
    "from dateutil.relativedelta import relativedelta"
   ]
  },
  {
   "cell_type": "code",
   "execution_count": 2,
   "id": "3187ed52-6955-449f-ac38-136e97e3c3b2",
   "metadata": {},
   "outputs": [],
   "source": [
    "case = \"fanv3_improving\"\n",
    "path = \"/glade/scratch/jinmuluo/archive/nitrogen_cycle/lnd/hist/\" \n",
    "start_date = date(2000, 1, 1)\n",
    "end_date = date(2000, 12, 1)\n",
    "delta = end_date - start_date"
   ]
  },
  {
   "cell_type": "code",
   "execution_count": 3,
   "id": "31311ab2-4752-43bb-a09e-1cece13e48fe",
   "metadata": {},
   "outputs": [],
   "source": [
    "NOx_sector = ['NOx_NITRIFY_GRZ', 'NOx_DENITRIFY_GRZ', 'NOx_NITRIFY_APP', 'NOx_DENITRIFY_APP',  \n",
    "              'NOx_NITRIFY_FERT', 'NOx_DENITRIFY_FERT','NOx_NITRIFY_OTHERFERT', 'NOx_DENITRIFY_OTHERFERT']\n",
    "N2O_sector = ['N2O_NITRIFY_GRZ', 'N2O_DENITRIFY_GRZ', 'N2O_NITRIFY_APP', 'N2O_DENITRIFY_APP',\n",
    "              'N2O_NITRIFY_FERT', 'N2O_DENITRIFY_FERT','N2O_NITRIFY_OTHERFERT', 'N2O_DENITRIFY_OTHERFERT',]\n",
    "N2_sector = ['N2_DENITRIFY_GRZ', 'N2_DENITRIFY_APP','N2_DENITRIFY_FERT', 'N2_DENITRIFY_OTHERFERT']\n",
    "\n",
    "NOx_process = ['NOx_NITRIFY_TOTAL','NOx_DENITRIFY_TOTAL',]\n",
    "\n",
    "N2O_process = ['N2O_NITRIFY_TOTAL', 'N2O_DENITRIFY_TOTAL']\n",
    "\n",
    "gas_total = ['NOx_TOTAL', 'N2O_TOTAL', 'N2_TOTAL', 'area', 'landfrac']\n",
    "\n",
    "CLM = []\n",
    "for i in range(delta.days//30 + 1):\n",
    "    month = start_date + relativedelta(months=i)\n",
    "    month = month.strftime('%Y-%m')\n",
    "    CLM.append(path + case + \".clm2.\" + \"h0\" + \".\" + month +\".nc\")"
   ]
  },
  {
   "cell_type": "code",
   "execution_count": 4,
   "id": "6479e7eb-1876-4132-b378-250488e17d46",
   "metadata": {},
   "outputs": [],
   "source": [
    "def preprocess(ds, fields = NOx_sector + N2O_sector + N2_sector + NOx_process + N2O_process + gas_total):\n",
    "    return(ds[fields])\n",
    "\n",
    "def fix_time(ds):  \n",
    "    date0 = ds['time'][0].values\n",
    "    date1 = ds['time'][-1].values\n",
    "    # ds['time'] =xr.cftime_range(str(yr0),periods=ndays,freq='D')\n",
    "    ds['time'] = pd.date_range(str(date0),str(date1),freq='MS') \n",
    "    return ds\n",
    "\n",
    "dsCLM = fix_time(xr.open_mfdataset(CLM, decode_times=True, preprocess=preprocess))"
   ]
  },
  {
   "cell_type": "code",
   "execution_count": 5,
   "id": "f62cfd5b-fac5-4540-8265-d91d5db23517",
   "metadata": {},
   "outputs": [
    {
     "name": "stdout",
     "output_type": "stream",
     "text": [
      "1.0603929329437498 Tg/year\n"
     ]
    }
   ],
   "source": [
    "NOxall=0.0\n",
    "\n",
    "ds_term = (dsCLM[\"NOx_TOTAL\"].fillna(0) * dsCLM['area']*dsCLM['landfrac']*1e6).sum(dim=['lat', 'lon'])\n",
    "for i in range(len(dsCLM.time)):\n",
    "    t= start_date + relativedelta(months=i)\n",
    "    t2 = start_date + relativedelta(months=i+1)\n",
    "    day = (t2-t).days\n",
    "    NOxall = NOxall + ds_term[i].values * day * 24 * 3600 * 1e-12\n",
    "        \n",
    "print(NOxall, \"Tg/year\")"
   ]
  },
  {
   "cell_type": "code",
   "execution_count": 6,
   "id": "e77378ef-66a0-461c-9221-6134be7254a4",
   "metadata": {},
   "outputs": [
    {
     "name": "stdout",
     "output_type": "stream",
     "text": [
      "1.060392951291188 Tg/year\n"
     ]
    }
   ],
   "source": [
    "NOxall=0.0\n",
    "for gas in NOx_sector:\n",
    "    ds_term = (dsCLM[gas].fillna(0) * dsCLM['area']*dsCLM['landfrac']*1e6).sum(dim=['lat', 'lon'])\n",
    "    for i in range(len(dsCLM.time)):\n",
    "        t= start_date + relativedelta(months=i)\n",
    "        t2 = start_date + relativedelta(months=i+1)\n",
    "        day = (t2-t).days\n",
    "        NOxall = NOxall + ds_term[i].values * day * 24 * 3600 * 1e-12\n",
    "        # print(gas, ds_term[i].values * day * 24 * 3600 * 1e-12)\n",
    "print(NOxall, \"Tg/year\")"
   ]
  },
  {
   "cell_type": "code",
   "execution_count": 7,
   "id": "b22aa35a-36a8-47bc-8cdf-8858574caebd",
   "metadata": {},
   "outputs": [
    {
     "name": "stdout",
     "output_type": "stream",
     "text": [
      "1.0603929159841279 Tg/year\n"
     ]
    }
   ],
   "source": [
    "NOxall=0.0\n",
    "for gas in NOx_process:\n",
    "    ds_term = (dsCLM[gas].fillna(0) * dsCLM['area']*dsCLM['landfrac']*1e6).sum(dim=['lat', 'lon'])\n",
    "    for i in range(len(dsCLM.time)):\n",
    "        t= start_date + relativedelta(months=i)\n",
    "        t2 = start_date + relativedelta(months=i+1)\n",
    "        day = (t2-t).days\n",
    "        NOxall = NOxall + ds_term[i].values * day * 24 * 3600 * 1e-12\n",
    "        # print(gas, ds_term[i].values * day * 24 * 3600 * 1e-12)\n",
    "print(NOxall, \"Tg/year\")"
   ]
  },
  {
   "cell_type": "code",
   "execution_count": 8,
   "id": "8983671b-5b93-47f3-bebc-bf98e531a781",
   "metadata": {},
   "outputs": [
    {
     "name": "stdout",
     "output_type": "stream",
     "text": [
      "0.4459368164625 Tg/year\n"
     ]
    }
   ],
   "source": [
    "N2Oall=0.0\n",
    "\n",
    "ds_term = (dsCLM[\"N2O_TOTAL\"].fillna(0) * dsCLM['area']*dsCLM['landfrac']*1e6).sum(dim=['lat', 'lon'])\n",
    "for i in range(len(dsCLM.time)):\n",
    "    t= start_date + relativedelta(months=i)\n",
    "    t2 = start_date + relativedelta(months=i+1)\n",
    "    day = (t2-t).days\n",
    "    N2Oall = N2Oall + ds_term[i].values * day * 24 * 3600 * 1e-12\n",
    "        \n",
    "print(N2Oall, \"Tg/year\")"
   ]
  },
  {
   "cell_type": "code",
   "execution_count": 9,
   "id": "b9ce1bc6-84dd-45f9-bafa-8148108c90ec",
   "metadata": {},
   "outputs": [
    {
     "name": "stdout",
     "output_type": "stream",
     "text": [
      "0.44593680800711977 Tg/year\n"
     ]
    }
   ],
   "source": [
    "N2Oall=0.0\n",
    "for gas in N2O_process:\n",
    "    ds_term = (dsCLM[gas].fillna(0) * dsCLM['area']*dsCLM['landfrac']*1e6).sum(dim=['lat', 'lon'])\n",
    "    for i in range(len(dsCLM.time)):\n",
    "        t= start_date + relativedelta(months=i)\n",
    "        t2 = start_date + relativedelta(months=i+1)\n",
    "        day = (t2-t).days\n",
    "        N2Oall = N2Oall + ds_term[i].values * day * 24 * 3600 * 1e-12\n",
    "        \n",
    "print(N2Oall, \"Tg/year\")"
   ]
  },
  {
   "cell_type": "code",
   "execution_count": 10,
   "id": "f30d458c-c3c9-4010-aec2-b46c3ec2e8ca",
   "metadata": {},
   "outputs": [
    {
     "name": "stdout",
     "output_type": "stream",
     "text": [
      "0.4459368177293362 Tg/year\n"
     ]
    }
   ],
   "source": [
    "N2Oall=0.0\n",
    "for gas in N2O_sector:\n",
    "    ds_term = (dsCLM[gas].fillna(0) * dsCLM['area']*dsCLM['landfrac']*1e6).sum(dim=['lat', 'lon'])\n",
    "    for i in range(len(dsCLM.time)):\n",
    "        t= start_date + relativedelta(months=i)\n",
    "        t2 = start_date + relativedelta(months=i+1)\n",
    "        day = (t2-t).days\n",
    "        N2Oall = N2Oall + ds_term[i].values * day * 24 * 3600 * 1e-12\n",
    "print(N2Oall, \"Tg/year\")"
   ]
  },
  {
   "cell_type": "code",
   "execution_count": 11,
   "id": "c33713f1-f6c5-4206-a740-db4b839b46d2",
   "metadata": {},
   "outputs": [
    {
     "name": "stdout",
     "output_type": "stream",
     "text": [
      "0.010447747922460936 Tg/year\n"
     ]
    }
   ],
   "source": [
    "N2all=0.0\n",
    "\n",
    "ds_term = (dsCLM[\"N2_TOTAL\"].fillna(0) * dsCLM['area']*dsCLM['landfrac']*1e6).sum(dim=['lat', 'lon'])\n",
    "for i in range(len(dsCLM.time)):\n",
    "    t= start_date + relativedelta(months=i)\n",
    "    t2 = start_date + relativedelta(months=i+1)\n",
    "    day = (t2-t).days\n",
    "    N2all = N2all + ds_term[i].values * day * 24 * 3600 * 1e-12\n",
    "        \n",
    "print(N2all, \"Tg/year\")"
   ]
  },
  {
   "cell_type": "code",
   "execution_count": 12,
   "id": "b32967e5-a0c3-4dec-83d8-95e383249287",
   "metadata": {},
   "outputs": [
    {
     "name": "stdout",
     "output_type": "stream",
     "text": [
      "0.010447747821294881 Tg/year\n"
     ]
    }
   ],
   "source": [
    "N2all=0.0\n",
    "for gas in N2_sector:\n",
    "    ds_term = (dsCLM[gas].fillna(0) * dsCLM['area']*dsCLM['landfrac']*1e6).sum(dim=['lat', 'lon'])\n",
    "    for i in range(len(dsCLM.time)):\n",
    "        t= start_date + relativedelta(months=i)\n",
    "        t2 = start_date + relativedelta(months=i+1)\n",
    "        day = (t2-t).days\n",
    "        N2all = N2all + ds_term[i].values * day * 24 * 3600 * 1e-12\n",
    "print(N2all, \"Tg/year\")"
   ]
  }
 ],
 "metadata": {
  "kernelspec": {
   "display_name": "NPL 2023a",
   "language": "python",
   "name": "npl-2023a"
  },
  "language_info": {
   "codemirror_mode": {
    "name": "ipython",
    "version": 3
   },
   "file_extension": ".py",
   "mimetype": "text/x-python",
   "name": "python",
   "nbconvert_exporter": "python",
   "pygments_lexer": "ipython3",
   "version": "3.9.15"
  }
 },
 "nbformat": 4,
 "nbformat_minor": 5
}
