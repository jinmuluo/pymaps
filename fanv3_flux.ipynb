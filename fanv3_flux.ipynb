{
 "cells": [
  {
   "cell_type": "code",
   "execution_count": 1,
   "id": "bbd87ff4-acbe-4039-be7d-dc19cbef67ae",
   "metadata": {},
   "outputs": [],
   "source": [
    "import xarray as xr\n",
    "import numpy as np\n",
    "import pandas as pd\n",
    "from datetime import date, timedelta\n",
    "from dateutil.relativedelta import relativedelta"
   ]
  },
  {
   "cell_type": "markdown",
   "id": "0f5ca54e-715a-41f6-a800-29aa0c16909b",
   "metadata": {},
   "source": [
    "## Define dataset and variables"
   ]
  },
  {
   "cell_type": "code",
   "execution_count": 2,
   "id": "88060191-6dc5-4cfe-8f23-721fc7e53c2e",
   "metadata": {},
   "outputs": [],
   "source": [
    "case = \"fanv3_debugging\"\n",
    "path = \"/glade/scratch/jinmuluo/archive/fanv3_debugging/lnd/hist/\" \n",
    "start_date = date(2000, 1, 1)\n",
    "end_date = date(2000, 12, 1)\n",
    "delta = end_date - start_date"
   ]
  },
  {
   "cell_type": "code",
   "execution_count": 3,
   "id": "eef138e9-a78b-4de1-ac35-4dffcc27f28f",
   "metadata": {},
   "outputs": [],
   "source": [
    "MID_TERM_FAN = [\"FERT_NO3_TO_SOIL\", \"MANURE_NO3_TO_SOIL\", 'area', 'landfrac']\n",
    "RUNOFF = [\"MANURE_NITRATE_RUNOFF\", 'FERT_NITRATE_RUNOFF', \n",
    "            \"FERT_NITRATE_TO_SOIL\", \"MANURE_NITRATE_TO_SOIL\", 'area','landfrac']\n",
    "GAS = [\"N2O_DENITRIFY_TOTAL\", \"N2O_NITRIFY_TOTAL\", \"NOx_DENITRIFY_TOTAL\", \"NOx_NITRIFY_TOTAL\", \n",
    "            \"N2_TOTAL\", \"area\", 'landfrac']\n",
    "POOLS = [\"NITRATE_TOTN\", \"NITRATE_G1\", \"NITRATE_G2\", \"NITRATE_G3\", \"NITRATE_S0\", \"NITRATE_S1\", \"NITRATE_S2\",\n",
    "            \"NITRATE_S3\", \"NITRATE_F1\", \"NITRATE_F2\",  \"NITRATE_F3\",  \"NITRATE_F4\", 'area', 'landfrac']"
   ]
  },
  {
   "cell_type": "markdown",
   "id": "ec8b6aae-3bfa-4e44-8f87-ebf3a945e20b",
   "metadata": {},
   "source": [
    "## (1) Nitrification flux from fanv2"
   ]
  },
  {
   "cell_type": "code",
   "execution_count": 4,
   "id": "e758c8f6-3ae6-4671-829b-b8dd7e6093fd",
   "metadata": {},
   "outputs": [],
   "source": [
    "fanCLM = []\n",
    "for i in range(delta.days//30 + 1):\n",
    "    month = start_date + relativedelta(months=i)\n",
    "    month = month.strftime('%Y-%m')\n",
    "    fanCLM.append(path + case + \".clm2.\" + \"h2\" + \".\" + month +\".nc\")\n",
    "# print(fanCLM)"
   ]
  },
  {
   "cell_type": "code",
   "execution_count": 5,
   "id": "28f276fd-1d6a-44a1-8952-2b345cb21b7c",
   "metadata": {},
   "outputs": [],
   "source": [
    "def preprocess(ds, fields = MID_TERM_FAN ):\n",
    "    return(ds[fields])\n",
    "\n",
    "dsCLM = xr.open_mfdataset(fanCLM, decode_times=True, preprocess=preprocess)"
   ]
  },
  {
   "cell_type": "code",
   "execution_count": 6,
   "id": "65421642-99b4-4113-a75a-275594af0d1b",
   "metadata": {},
   "outputs": [
    {
     "name": "stdout",
     "output_type": "stream",
     "text": [
      "fertilization flux: 20.680319105845314 Tg\n",
      "manure flux: 12.4287913323 Tg\n",
      "33.109110438145315 Tg\n"
     ]
    }
   ],
   "source": [
    "ds_fert = dsCLM[\"FERT_NO3_TO_SOIL\"] * dsCLM['area']*dsCLM['landfrac']*1e6\n",
    "ds_manure = dsCLM[\"MANURE_NO3_TO_SOIL\"] * dsCLM['area']*dsCLM['landfrac']*1e6\n",
    "ds_fert = ds_fert.sum(dim=['lat', 'lon'])\n",
    "ds_manure = ds_manure.sum(dim=['lat', 'lon'])\n",
    "\n",
    "fert = 0.0\n",
    "manure = 0.0\n",
    "fanv2_flux = 0.0\n",
    "\n",
    "# unit transfer form gN/s to Tg/year\n",
    "for i in range(len(ds_fert.time)):\n",
    "    t= start_date + relativedelta(months=i)\n",
    "    t2 = start_date + relativedelta(months=i+1)\n",
    "    day = (t2-t).days\n",
    "    \n",
    "    fert = fert +  ds_fert[i].values * day * 24 * 3600\n",
    "    manure = manure +  ds_manure[i].values * day * 24 * 3600\n",
    "\n",
    "fert = fert * 1e-12\n",
    "manure = manure * 1e-12\n",
    "fanv2_flux = fert + manure\n",
    "\n",
    "print(\"fertilization flux:\", fert, \"Tg\")\n",
    "print(\"manure flux:\", manure, \"Tg\")\n",
    "print(fanv2_flux, \"Tg\")"
   ]
  },
  {
   "cell_type": "markdown",
   "id": "088299fc-11e1-4f73-88b2-af74e9df15a1",
   "metadata": {},
   "source": [
    "## (2) NOx, N2O and N2 emission "
   ]
  },
  {
   "cell_type": "code",
   "execution_count": 7,
   "id": "3266a262-a932-4541-bdd0-e5c4f4aaf449",
   "metadata": {},
   "outputs": [],
   "source": [
    "fanCLM = []\n",
    "for i in range(delta.days//30 + 1):\n",
    "    month = start_date + relativedelta(months=i)\n",
    "    month = month.strftime('%Y-%m')\n",
    "    fanCLM.append(path + case + \".clm2.\" + \"h0\" + \".\" + month +\".nc\")"
   ]
  },
  {
   "cell_type": "code",
   "execution_count": 8,
   "id": "a7db26a7-c3c9-456a-bb72-1808966f548d",
   "metadata": {},
   "outputs": [],
   "source": [
    "def preprocess(ds, fields = GAS):\n",
    "    return(ds[fields])\n",
    "\n",
    "dsCLM = xr.open_mfdataset(fanCLM, decode_times=True, preprocess=preprocess)\n",
    "# dsCLM"
   ]
  },
  {
   "cell_type": "code",
   "execution_count": 9,
   "id": "e056913f-8634-40a3-92b0-2eb3ef570789",
   "metadata": {},
   "outputs": [
    {
     "name": "stdout",
     "output_type": "stream",
     "text": [
      "N2O from nitrification: 0.4453174612265625 Tg\n",
      "N2O from denitrification: 0.000619346780557251 Tg\n",
      "NOx from nitrification: 1.0596489886125 Tg\n",
      "NOx from denitrification: 0.0007439273716278077 Tg\n",
      "N2 0.010447747922460938 Tg\n"
     ]
    }
   ],
   "source": [
    "ds_n2o_nit = dsCLM[\"N2O_NITRIFY_TOTAL\"] * dsCLM['area']*dsCLM['landfrac']*1e6\n",
    "ds_n2o_denit = dsCLM[\"N2O_DENITRIFY_TOTAL\"]* dsCLM['area']*dsCLM['landfrac']*1e6\n",
    "ds_nox_nit = dsCLM[\"NOx_NITRIFY_TOTAL\"] * dsCLM['area']*dsCLM['landfrac']*1e6\n",
    "ds_nox_denit = dsCLM[\"NOx_DENITRIFY_TOTAL\"] * dsCLM['area']*dsCLM['landfrac']*1e6\n",
    "ds_n2 = dsCLM[\"N2_TOTAL\"] * dsCLM['area']*dsCLM['landfrac']*1e6\n",
    "\n",
    "ds_n2o_nit = ds_n2o_nit.fillna(0).sum(dim=['lat', 'lon'])\n",
    "ds_n2o_denit = ds_n2o_denit.fillna(0).sum(dim=['lat', 'lon'])\n",
    "ds_nox_nit = ds_nox_nit.fillna(0).sum(dim=['lat', 'lon'])\n",
    "ds_nox_denit = ds_nox_denit.fillna(0).sum(dim=['lat', 'lon'])\n",
    "ds_n2 = ds_n2.sum(dim=['lat', 'lon'])\n",
    "\n",
    "n2o_nit_total = 0.0\n",
    "n2o_denit_total = 0.0\n",
    "nox_nit_total = 0.0\n",
    "nox_denit_total = 0.0\n",
    "n2_total = 0.0\n",
    "\n",
    "# unit transfer form gN/s to Tg/year\n",
    "for i in range(len(ds_n2.time)):\n",
    "    t= start_date + relativedelta(months=i)\n",
    "    t2 = start_date + relativedelta(months=i+1)\n",
    "    day = (t2-t).days\n",
    "    n2o_nit_total = n2o_nit_total + ds_n2o_nit[i].values * day * 24 * 3600\n",
    "    n2o_denit_total = n2o_denit_total + ds_n2o_denit[i].values * day * 24 * 3600\n",
    "    nox_nit_total = nox_nit_total + ds_nox_nit[i].values * day * 24 * 3600\n",
    "    nox_denit_total = nox_denit_total + ds_nox_denit[i].values * day * 24 * 3600\n",
    "    n2_total = n2_total + ds_n2[i].values * day * 24 * 3600\n",
    "    \n",
    "n2o_nit_total = n2o_nit_total * 1e-12\n",
    "n2o_denit_total = n2o_denit_total * 1e-12\n",
    "nox_nit_total = nox_nit_total * 1e-12\n",
    "nox_denit_total = nox_denit_total * 1e-12\n",
    "n2_total = n2_total * 1e-12\n",
    "\n",
    "print('N2O from nitrification:', n2o_nit_total, \"Tg\")\n",
    "print('N2O from denitrification:', n2o_denit_total, \"Tg\")\n",
    "print('NOx from nitrification:', nox_nit_total, \"Tg\")\n",
    "print('NOx from denitrification:', nox_denit_total, \"Tg\")\n",
    "print('N2', n2_total, \"Tg\")"
   ]
  },
  {
   "cell_type": "markdown",
   "id": "58aaf6bc-91be-43b6-9b0a-33a6e163b071",
   "metadata": {},
   "source": [
    "## (3) Diffusion and Runoff"
   ]
  },
  {
   "cell_type": "code",
   "execution_count": 10,
   "id": "81f19e4e-ab26-491c-9224-9386d7141474",
   "metadata": {},
   "outputs": [],
   "source": [
    "fanCLM = []\n",
    "for i in range(delta.days//30 + 1):\n",
    "    month = start_date + relativedelta(months=i)\n",
    "    month = month.strftime('%Y-%m')\n",
    "    fanCLM.append(path + case + \".clm2.\" + \"h1\" + \".\" + month +\".nc\")"
   ]
  },
  {
   "cell_type": "code",
   "execution_count": 11,
   "id": "b76cb737-2f83-469b-b3a6-294634aa7b47",
   "metadata": {},
   "outputs": [],
   "source": [
    "def preprocess(ds, fields = RUNOFF):\n",
    "    return(ds[fields])\n",
    "\n",
    "dsCLM = xr.open_mfdataset(fanCLM, decode_times=True, preprocess=preprocess)\n",
    "#dsCLM"
   ]
  },
  {
   "cell_type": "code",
   "execution_count": 12,
   "id": "c911591f-d9a8-4158-ac2c-e239ce32efaa",
   "metadata": {},
   "outputs": [
    {
     "name": "stdout",
     "output_type": "stream",
     "text": [
      "diffusion to soil (fertilization) 17.982250123443748 Tg\n",
      "diffusion to soil (manure) 9.948862799325 Tg\n",
      "surface runoff (fertilization) 1.9538311623328124 Tg\n",
      "surface runoff (manure) 1.170666521690625 Tg\n"
     ]
    }
   ],
   "source": [
    "ds_soil_fert = dsCLM[\"FERT_NITRATE_TO_SOIL\"] * dsCLM['area']*dsCLM['landfrac']*1e6\n",
    "ds_soil_manure = dsCLM[\"MANURE_NITRATE_TO_SOIL\"] * dsCLM['area']*dsCLM['landfrac']*1e6\n",
    "ds_runoff_fert = dsCLM[\"FERT_NITRATE_RUNOFF\"] * dsCLM['area']*dsCLM['landfrac']*1e6\n",
    "ds_runoff_manure = dsCLM[\"MANURE_NITRATE_RUNOFF\"] * dsCLM['area']*dsCLM['landfrac']*1e6\n",
    "\n",
    "ds_soil_fert = ds_soil_fert.fillna(0).sum(dim=['lat', 'lon'])\n",
    "ds_soil_manure = ds_soil_manure.fillna(0).sum(dim=['lat', 'lon'])\n",
    "ds_runoff_fert = ds_runoff_fert.fillna(0).sum(dim=['lat', 'lon'])\n",
    "ds_runoff_manure = ds_runoff_manure.fillna(0).sum(dim=['lat', 'lon'])\n",
    "\n",
    "soil_fert = 0.0\n",
    "soil_manure = 0.0\n",
    "runoff_fert = 0.0\n",
    "runoff_manure = 0.0\n",
    "\n",
    "# unit transfer form gN/s to Tg/year\n",
    "for i in range(len(ds_runoff_fert.time)):\n",
    "    t= start_date + relativedelta(months=i)\n",
    "    t2 = start_date + relativedelta(months=i+1)\n",
    "    day = (t2-t).days\n",
    "    \n",
    "    soil_fert = soil_fert + ds_soil_fert[i].values * day * 24 * 3600\n",
    "    soil_manure = soil_manure + ds_soil_manure[i].values * day * 24 * 3600\n",
    "    runoff_fert = runoff_fert + ds_runoff_fert[i].values * day * 24 * 3600\n",
    "    runoff_manure = runoff_manure+ ds_runoff_manure[i].values * day * 24 * 3600\n",
    "    \n",
    "soil_fert = soil_fert * 1e-12\n",
    "soil_manure = soil_manure * 1e-12\n",
    "runoff_fert = runoff_fert * 1e-12\n",
    "runoff_manure = runoff_manure * 1e-12\n",
    "\n",
    "print(\"diffusion to soil (fertilization)\", soil_fert, \"Tg\")\n",
    "print(\"diffusion to soil (manure)\", soil_manure, \"Tg\")\n",
    "print(\"surface runoff (fertilization)\", runoff_fert, \"Tg\")\n",
    "print(\"surface runoff (manure)\", runoff_manure, \"Tg\")"
   ]
  },
  {
   "cell_type": "markdown",
   "id": "d2221166-9568-4f30-b461-1767924b360c",
   "metadata": {},
   "source": [
    "## (4) Nitrite pools"
   ]
  },
  {
   "cell_type": "code",
   "execution_count": 13,
   "id": "8c607a6f-f3a1-435a-840b-10a4daad3759",
   "metadata": {},
   "outputs": [],
   "source": [
    "fanCLM = []\n",
    "for i in range(delta.days//30 + 1):\n",
    "    if start_date.month != 1:\n",
    "        date_term = date(start_date.year, start_date.month - 1, start_date.day)\n",
    "    else:\n",
    "        date_term = start_date\n",
    "    month = date_term + relativedelta(months=i)\n",
    "    month = month.strftime('%Y-%m')\n",
    "    fanCLM.append(path + case + \".clm2.\" + \"h3\" + \".\" + month +\".nc\")"
   ]
  },
  {
   "cell_type": "code",
   "execution_count": 14,
   "id": "5437627a-965d-4381-80d1-4e855c5b8934",
   "metadata": {},
   "outputs": [],
   "source": [
    "dsCLM_end = xr.open_dataset(fanCLM[-1])\n",
    "dsCLM_begin = xr.open_dataset(fanCLM[0])"
   ]
  },
  {
   "cell_type": "code",
   "execution_count": 15,
   "id": "13884405-d8cd-4f20-ac28-73e0ea2b611b",
   "metadata": {},
   "outputs": [
    {
     "name": "stdout",
     "output_type": "stream",
     "text": [
      "nitrate pools at begin: [0.543787] [0.54378706]\n",
      "nitrate pools in the end: [0.53708804] [0.53708804]\n",
      "nitrate pools:  [-0.00669897] Tg\n"
     ]
    }
   ],
   "source": [
    "pools_end = 0.0\n",
    "pools_begin = 0.0\n",
    "\n",
    "for pool in POOLS:\n",
    "    if pool != 'area' and pool!= 'landfrac' and pool!= 'NITRATE_TOTN':\n",
    "        pools_end = pools_end + (dsCLM_end[pool].fillna(0) * dsCLM_end[\"area\"] *dsCLM_end['landfrac']* 1e6).sum(dim=['lat', 'lon']).values\n",
    "        pools_begin = pools_begin + (dsCLM_begin[pool].fillna(0) * dsCLM_begin[\"area\"] *dsCLM_begin['landfrac']* 1e6).sum(dim=['lat', 'lon']).values\n",
    "\n",
    "totn_end = (dsCLM_end[\"NITRATE_TOTN\"].fillna(0) * dsCLM_end[\"area\"] *dsCLM_end['landfrac']* 1e6).sum(dim=['lat', 'lon']).values * 1e-12\n",
    "totn_begin = (dsCLM_begin[\"NITRATE_TOTN\"].fillna(0) * dsCLM_begin[\"area\"] *dsCLM_begin['landfrac']* 1e6).sum(dim=['lat', 'lon']).values * 1e-12\n",
    "\n",
    "# g to Tg\n",
    "pools_end = pools_end * 1e-12\n",
    "pools_begin = pools_begin * 1e-12\n",
    "nitrate = pools_end - pools_begin\n",
    "print(\"nitrate pools at begin:\", pools_begin, totn_begin)\n",
    "print(\"nitrate pools in the end:\", pools_end, totn_end)\n",
    "print(\"nitrate pools: \", nitrate, \"Tg\")"
   ]
  },
  {
   "cell_type": "markdown",
   "id": "8721910c-7a9a-4311-a9d5-1b33683a08e7",
   "metadata": {},
   "source": [
    "## N Balance"
   ]
  },
  {
   "cell_type": "code",
   "execution_count": 16,
   "id": "c2292225-2236-477c-85c6-01bc07f67423",
   "metadata": {},
   "outputs": [
    {
     "name": "stdout",
     "output_type": "stream",
     "text": [
      "[0.5434213]\n"
     ]
    }
   ],
   "source": [
    "d = fanv2_flux - n2o_nit_total - nox_nit_total - n2o_denit_total - nox_denit_total - n2_total - runoff_fert - runoff_manure - soil_fert - soil_manure - nitrate\n",
    "print(d)"
   ]
  }
 ],
 "metadata": {
  "kernelspec": {
   "display_name": "CMIP6 2019.10",
   "language": "python",
   "name": "cmip6-201910"
  },
  "language_info": {
   "codemirror_mode": {
    "name": "ipython",
    "version": 3
   },
   "file_extension": ".py",
   "mimetype": "text/x-python",
   "name": "python",
   "nbconvert_exporter": "python",
   "pygments_lexer": "ipython3",
   "version": "3.7.10"
  }
 },
 "nbformat": 4,
 "nbformat_minor": 5
}
