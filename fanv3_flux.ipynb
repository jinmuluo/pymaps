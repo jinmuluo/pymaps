{
 "cells": [
  {
   "cell_type": "code",
   "execution_count": 1,
   "id": "bbd87ff4-acbe-4039-be7d-dc19cbef67ae",
   "metadata": {},
   "outputs": [],
   "source": [
    "import xarray as xr\n",
    "import numpy as np\n",
    "import pandas as pd\n",
    "from datetime import date, timedelta\n",
    "from dateutil.relativedelta import relativedelta"
   ]
  },
  {
   "cell_type": "markdown",
   "id": "0f5ca54e-715a-41f6-a800-29aa0c16909b",
   "metadata": {},
   "source": [
    "## Define dataset and variables"
   ]
  },
  {
   "cell_type": "code",
   "execution_count": 2,
   "id": "88060191-6dc5-4cfe-8f23-721fc7e53c2e",
   "metadata": {},
   "outputs": [],
   "source": [
    "case = \"fanv3_debugging\"\n",
    "path = \"/glade/scratch/jinmuluo/archive/fanv3only_clmnox_correctedsgd/lnd/hist/\" \n",
    "start_date = date(2000, 1, 1)\n",
    "end_date = date(2000, 12, 1)\n",
    "delta = end_date - start_date"
   ]
  },
  {
   "cell_type": "code",
   "execution_count": 3,
   "id": "eef138e9-a78b-4de1-ac35-4dffcc27f28f",
   "metadata": {},
   "outputs": [],
   "source": [
    "fieldsh0 = [\"FERT_NO3_TO_SOIL\", \"MANURE_NO3_TO_SOIL\", \"MANURE_NITRATE_RUNOFF\", 'FERT_NITRATE_RUNOFF', \n",
    "            \"FERT_NITRATE_TO_SOIL\", \"MANURE_NITRATE_TO_SOIL\", 'area']\n",
    "fieldsh2 = [\"N2O_DENITRIFY_TOTAL\", \"N2O_NITRIFY_TOTAL\", \"NOx_DENITRIFY_TOTAL\", \"NOx_NITRIFY_TOTAL\", \n",
    "            \"N2_TOTAL\", \"area\"]\n",
    "fieldsh3 = [\"NITRATE_G1\", \"NITRATE_G2\", \"NITRATE_G3\", \"NITRATE_S0\", \"NITRATE_S1\", \"NITRATE_S2\",\n",
    "            \"NITRATE_S3\", \"NITRATE_F1\", \"NITRATE_F2\",  \"NITRATE_F3\",  \"NITRATE_F4\", 'area']"
   ]
  },
  {
   "cell_type": "markdown",
   "id": "ec8b6aae-3bfa-4e44-8f87-ebf3a945e20b",
   "metadata": {},
   "source": [
    "## (1) Nitrification flux from fanv2"
   ]
  },
  {
   "cell_type": "code",
   "execution_count": 4,
   "id": "e758c8f6-3ae6-4671-829b-b8dd7e6093fd",
   "metadata": {},
   "outputs": [],
   "source": [
    "fanCLM = []\n",
    "for i in range(delta.days//30 + 1):\n",
    "    month = start_date + relativedelta(months=i)\n",
    "    month = month.strftime('%Y-%m')\n",
    "    fanCLM.append(path + case + \".clm2.\" + \"h0\" + \".\" + month +\".nc\")\n",
    "# print(fanCLM)"
   ]
  },
  {
   "cell_type": "code",
   "execution_count": 5,
   "id": "28f276fd-1d6a-44a1-8952-2b345cb21b7c",
   "metadata": {},
   "outputs": [],
   "source": [
    "def preprocess(ds, fields = fieldsh0):\n",
    "    return(ds[fields])\n",
    "\n",
    "dsCLM = xr.open_mfdataset(fanCLM, decode_times=True, preprocess=preprocess)"
   ]
  },
  {
   "cell_type": "code",
   "execution_count": 6,
   "id": "65421642-99b4-4113-a75a-275594af0d1b",
   "metadata": {},
   "outputs": [
    {
     "name": "stdout",
     "output_type": "stream",
     "text": [
      "18.8686563102 Tg\n"
     ]
    }
   ],
   "source": [
    "ds = (dsCLM[\"FERT_NO3_TO_SOIL\"] + dsCLM[\"MANURE_NO3_TO_SOIL\"]) * dsCLM['area']*1e6\n",
    "ds = ds.sum(dim=['lat', 'lon'])\n",
    "\n",
    "fanv2_flux = 0.0\n",
    "\n",
    "# unit transfer form gN/s to Tg/year\n",
    "for i in range(len(ds.time)):\n",
    "    t= start_date + relativedelta(months=i)\n",
    "    t2 = start_date + relativedelta(months=i+1)\n",
    "    day = (t2-t).days\n",
    "    fanv2_flux = fanv2_flux + ds[i].values * day * 24 * 3600\n",
    "    \n",
    "fanv2_flux = fanv2_flux * 1e-12\n",
    "\n",
    "print(fanv2_flux, \"Tg\")"
   ]
  },
  {
   "cell_type": "markdown",
   "id": "088299fc-11e1-4f73-88b2-af74e9df15a1",
   "metadata": {},
   "source": [
    "## (2) NOx, N2O and N2 emission "
   ]
  },
  {
   "cell_type": "code",
   "execution_count": 7,
   "id": "3266a262-a932-4541-bdd0-e5c4f4aaf449",
   "metadata": {},
   "outputs": [],
   "source": [
    "fanCLM = []\n",
    "for i in range(delta.days//30 + 1):\n",
    "    month = start_date + relativedelta(months=i)\n",
    "    month = month.strftime('%Y-%m')\n",
    "    fanCLM.append(path + case + \".clm2.\" + \"h2\" + \".\" + month +\".nc\")"
   ]
  },
  {
   "cell_type": "code",
   "execution_count": 8,
   "id": "a7db26a7-c3c9-456a-bb72-1808966f548d",
   "metadata": {},
   "outputs": [],
   "source": [
    "def preprocess(ds, fields = fieldsh2):\n",
    "    return(ds[fields])\n",
    "\n",
    "dsCLM = xr.open_mfdataset(fanCLM, decode_times=True, preprocess=preprocess)\n",
    "# dsCLM"
   ]
  },
  {
   "cell_type": "code",
   "execution_count": 9,
   "id": "e056913f-8634-40a3-92b0-2eb3ef570789",
   "metadata": {},
   "outputs": [
    {
     "name": "stdout",
     "output_type": "stream",
     "text": [
      "N2O: 0.341449600584375 Tg\n",
      "NOx: 1.4980718491875 Tg\n",
      "N2 0.008064906746044922 Tg\n"
     ]
    }
   ],
   "source": [
    "ds_n2o = (dsCLM[\"N2O_DENITRIFY_TOTAL\"] + dsCLM[\"N2O_NITRIFY_TOTAL\"]) * dsCLM['area']*1e6\n",
    "ds_nox = (dsCLM[\"NOx_DENITRIFY_TOTAL\"] + dsCLM[\"NOx_NITRIFY_TOTAL\"]) * dsCLM['area']*1e6\n",
    "ds_n2 = dsCLM[\"N2_TOTAL\"] * dsCLM['area']*1e6\n",
    "\n",
    "\n",
    "ds_n2o = ds_n2o.sum(dim=['lat', 'lon'])\n",
    "ds_nox = ds_nox.sum(dim=['lat', 'lon'])\n",
    "ds_n2 = ds_n2.sum(dim=['lat', 'lon'])\n",
    "\n",
    "n2o_total = 0.0\n",
    "nox_total = 0.0\n",
    "n2_total = 0.0\n",
    "\n",
    "# unit transfer form gN/s to Tg/year\n",
    "for i in range(len(ds.time)):\n",
    "    t= start_date + relativedelta(months=i)\n",
    "    t2 = start_date + relativedelta(months=i+1)\n",
    "    day = (t2-t).days\n",
    "    n2o_total = n2o_total + ds_n2o[i].values * day * 24 * 3600\n",
    "    nox_total = nox_total + ds_nox[i].values * day * 24 * 3600\n",
    "    n2_total = n2_total + ds_n2[i].values * day * 24 * 3600\n",
    "    \n",
    "n2o_total = n2o_total * 1e-12\n",
    "nox_total = nox_total * 1e-12\n",
    "n2_total = n2_total * 1e-12\n",
    "\n",
    "print('N2O:', n2o_total, \"Tg\")\n",
    "print('NOx:', nox_total, \"Tg\")\n",
    "print('N2', n2_total, \"Tg\")"
   ]
  },
  {
   "cell_type": "markdown",
   "id": "58aaf6bc-91be-43b6-9b0a-33a6e163b071",
   "metadata": {},
   "source": [
    "## (3) Diffusion and Runoff"
   ]
  },
  {
   "cell_type": "code",
   "execution_count": 10,
   "id": "81f19e4e-ab26-491c-9224-9386d7141474",
   "metadata": {},
   "outputs": [],
   "source": [
    "fanCLM = []\n",
    "for i in range(delta.days//30 + 1):\n",
    "    month = start_date + relativedelta(months=i)\n",
    "    month = month.strftime('%Y-%m')\n",
    "    fanCLM.append(path + case + \".clm2.\" + \"h0\" + \".\" + month +\".nc\")"
   ]
  },
  {
   "cell_type": "code",
   "execution_count": 11,
   "id": "b76cb737-2f83-469b-b3a6-294634aa7b47",
   "metadata": {},
   "outputs": [],
   "source": [
    "def preprocess(ds, fields = fieldsh0):\n",
    "    return(ds[fields])\n",
    "\n",
    "dsCLM = xr.open_mfdataset(fanCLM, decode_times=True, preprocess=preprocess)\n",
    "#dsCLM"
   ]
  },
  {
   "cell_type": "code",
   "execution_count": 12,
   "id": "c911591f-d9a8-4158-ac2c-e239ce32efaa",
   "metadata": {},
   "outputs": [
    {
     "name": "stdout",
     "output_type": "stream",
     "text": [
      "diffusion to soil 14.4116501319 Tg\n",
      "surface runoff 1.6252622730843749 Tg\n"
     ]
    }
   ],
   "source": [
    "ds_soil = (dsCLM[\"FERT_NITRATE_TO_SOIL\"] + dsCLM[\"MANURE_NITRATE_TO_SOIL\"]) * dsCLM['area']*1e6\n",
    "ds_runoff = (dsCLM[\"MANURE_NITRATE_RUNOFF\"] + dsCLM[\"FERT_NITRATE_RUNOFF\"]) * dsCLM['area']*1e6\n",
    "ds_soil = ds_soil.sum(dim=['lat', 'lon'])\n",
    "ds_runoff = ds_runoff.sum(dim=['lat', 'lon'])\n",
    "\n",
    "soil = 0.0\n",
    "runoff = 0.0\n",
    "\n",
    "# unit transfer form gN/s to Tg/year\n",
    "for i in range(len(ds.time)):\n",
    "    t= start_date + relativedelta(months=i)\n",
    "    t2 = start_date + relativedelta(months=i+1)\n",
    "    day = (t2-t).days\n",
    "    soil = soil + ds_soil[i].values * day * 24 * 3600\n",
    "    runoff = runoff + ds_runoff[i].values * day * 24 * 3600\n",
    "    \n",
    "soil = soil * 1e-12\n",
    "runoff = runoff * 1e-12\n",
    "\n",
    "print(\"diffusion to soil\", soil, \"Tg\")\n",
    "print(\"surface runoff\", runoff, \"Tg\")"
   ]
  },
  {
   "cell_type": "markdown",
   "id": "d2221166-9568-4f30-b461-1767924b360c",
   "metadata": {},
   "source": [
    "## (4) Nitrite pools"
   ]
  },
  {
   "cell_type": "code",
   "execution_count": 15,
   "id": "8c607a6f-f3a1-435a-840b-10a4daad3759",
   "metadata": {},
   "outputs": [],
   "source": [
    "fanCLM = []\n",
    "for i in range(delta.days//30 + 2):\n",
    "    if start_date.month != 1:\n",
    "        date_term = date(start_date.year, start_date.month - 1, start_date.day)\n",
    "    else:\n",
    "        date_term = start_date\n",
    "    month = date_term + relativedelta(months=i)\n",
    "    month = month.strftime('%Y-%m')\n",
    "    fanCLM.append(path + case + \".clm2.\" + \"h3\" + \".\" + month +\".nc\")"
   ]
  },
  {
   "cell_type": "code",
   "execution_count": 16,
   "id": "5437627a-965d-4381-80d1-4e855c5b8934",
   "metadata": {},
   "outputs": [],
   "source": [
    "dsCLM_end = xr.open_dataset(fanCLM[-1])\n",
    "dsCLM_begin = xr.open_dataset(fanCLM[0])\n",
    "# dsCLM_begin"
   ]
  },
  {
   "cell_type": "code",
   "execution_count": 17,
   "id": "13884405-d8cd-4f20-ac28-73e0ea2b611b",
   "metadata": {},
   "outputs": [
    {
     "name": "stdout",
     "output_type": "stream",
     "text": [
      "nitrate pools at begin: [0.324297]\n",
      "nitrate pools in the end: [0.7558494]\n",
      "nitrate pools:  [0.4315524] Tg\n"
     ]
    }
   ],
   "source": [
    "pools_end = 0.0\n",
    "pools_begin = 0.0\n",
    "\n",
    "for pool in fieldsh3:\n",
    "    if pool != 'area':\n",
    "        pools_end = pools_end + (dsCLM_end[pool] * dsCLM_end[\"area\"] * 1e6).sum(dim=['lat', 'lon']).values\n",
    "        pools_begin = pools_begin + (dsCLM_begin[pool] * dsCLM_begin[\"area\"] * 1e6).sum(dim=['lat', 'lon']).values\n",
    "\n",
    "# g to Tg\n",
    "pools_end = pools_end * 1e-12\n",
    "pools_begin = pools_begin * 1e-12\n",
    "nitrate = pools_end - pools_begin\n",
    "print(\"nitrate pools at begin:\", pools_begin)\n",
    "print(\"nitrate pools in the end:\", pools_end)\n",
    "print(\"nitrate pools: \", nitrate, \"Tg\")"
   ]
  },
  {
   "cell_type": "markdown",
   "id": "8721910c-7a9a-4311-a9d5-1b33683a08e7",
   "metadata": {},
   "source": [
    "## N Balance"
   ]
  },
  {
   "cell_type": "code",
   "execution_count": 18,
   "id": "c2292225-2236-477c-85c6-01bc07f67423",
   "metadata": {},
   "outputs": [
    {
     "name": "stdout",
     "output_type": "stream",
     "text": [
      "[0.55260515]\n"
     ]
    }
   ],
   "source": [
    "d = fanv2_flux - n2o_total - nox_total - n2_total - runoff - soil - nitrate\n",
    "print(d)"
   ]
  }
 ],
 "metadata": {
  "kernelspec": {
   "display_name": "CMIP6 2019.10",
   "language": "python",
   "name": "cmip6-201910"
  },
  "language_info": {
   "codemirror_mode": {
    "name": "ipython",
    "version": 3
   },
   "file_extension": ".py",
   "mimetype": "text/x-python",
   "name": "python",
   "nbconvert_exporter": "python",
   "pygments_lexer": "ipython3",
   "version": "3.7.10"
  }
 },
 "nbformat": 4,
 "nbformat_minor": 5
}
