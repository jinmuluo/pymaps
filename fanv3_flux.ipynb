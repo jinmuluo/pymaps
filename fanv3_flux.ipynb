{
 "cells": [
  {
   "cell_type": "code",
   "execution_count": 14,
   "id": "bbd87ff4-acbe-4039-be7d-dc19cbef67ae",
   "metadata": {},
   "outputs": [],
   "source": [
    "import xarray as xr\n",
    "import numpy as np\n",
    "import pandas as pd\n",
    "from datetime import date, timedelta\n",
    "from dateutil.relativedelta import relativedelta"
   ]
  },
  {
   "cell_type": "markdown",
   "id": "0f5ca54e-715a-41f6-a800-29aa0c16909b",
   "metadata": {},
   "source": [
    "## Define dataset and variables"
   ]
  },
  {
   "cell_type": "code",
   "execution_count": 24,
   "id": "88060191-6dc5-4cfe-8f23-721fc7e53c2e",
   "metadata": {},
   "outputs": [],
   "source": [
    "case = \"fanv3_debugging\"\n",
    "path = \"/glade/scratch/jinmuluo/archive/one_year/lnd/hist/\" \n",
    "start_date = date(2000, 1, 1)\n",
    "end_date = date(2000, 12, 1)\n",
    "delta = end_date - start_date"
   ]
  },
  {
   "cell_type": "code",
   "execution_count": 17,
   "id": "eef138e9-a78b-4de1-ac35-4dffcc27f28f",
   "metadata": {},
   "outputs": [],
   "source": [
    "fieldsh2 = [\"N2O_DENITRIFY_TOTAL\", \"N2O_NITRIFY_TOTAL\", \"NOx_DENITRIFY_TOTAL\", \"NOx_NITRIFY_TOTAL\", \"area\"]\n",
    "fieldsh1 = [\"NITRITE_G1\", \"NITRITE_G2\", \"NITRITE_G3\", \"NITRITE_S0\", \"NITRITE_S1\", \"NITRITE_S2\",\n",
    "            \"NITRITE_S3\", \"NITRITE_F1\", \"NITRITE_F2\",  \"NITRITE_F3\",  \"NITRITE_F4\",'area']\n",
    "fieldsh0 = [\"GPP\", \"FERT_NO3_TO_SOIL\", \"MANURE_NO3_TO_SOIL\", \"MANURE_NITRITE_RUNOFF\", 'FERT_NITRITE_RUNOFF', \n",
    "            \"FERT_NITRITE_TO_SOIL\", \"MANURE_NITRITE_TO_SOIL\", 'area']"
   ]
  },
  {
   "cell_type": "markdown",
   "id": "ec8b6aae-3bfa-4e44-8f87-ebf3a945e20b",
   "metadata": {},
   "source": [
    "## Nitrification flux from fanv2"
   ]
  },
  {
   "cell_type": "code",
   "execution_count": 12,
   "id": "e758c8f6-3ae6-4671-829b-b8dd7e6093fd",
   "metadata": {},
   "outputs": [],
   "source": [
    "fanCLM = []\n",
    "for i in range(delta.days//30 + 1):\n",
    "    month = start_date + relativedelta(months=i)\n",
    "    month = month.strftime('%Y-%m')\n",
    "    fanCLM.append(path + case + \".clm2.\" + \"h0\" + \".\" + month +\".nc\")"
   ]
  },
  {
   "cell_type": "code",
   "execution_count": 16,
   "id": "31e670a5-42ee-4108-a15e-8b761f6bbc1e",
   "metadata": {},
   "outputs": [],
   "source": [
    "def preprocess(ds, fields = fieldsh0):\n",
    "    return(ds[fields])\n",
    "\n",
    "def fix_time(ds):  \n",
    "    date0 = ds['time'][0].values\n",
    "    date1 = ds['time'][-1].values\n",
    "    # ds['time'] =xr.cftime_range(str(yr0),periods=ndays,freq='D')\n",
    "    ds['time'] = pd.date_range(str(date0),str(date1),freq='MS') \n",
    "    \n",
    "    return ds\n",
    "\n",
    "dsCLM = fix_time(xr.open_mfdataset(fanCLM, decode_times=True, preprocess=preprocess))\n",
    "# dsCLM"
   ]
  },
  {
   "cell_type": "code",
   "execution_count": 70,
   "id": "65421642-99b4-4113-a75a-275594af0d1b",
   "metadata": {},
   "outputs": [
    {
     "name": "stdout",
     "output_type": "stream",
     "text": [
      "43.7996411694 Tg/year\n"
     ]
    }
   ],
   "source": [
    "ds = (dsCLM[\"FERT_NO3_TO_SOIL\"] + dsCLM[\"MANURE_NO3_TO_SOIL\"]) * dsCLM['area']*1e6\n",
    "ds = ds.sum(dim=['lat', 'lon'])\n",
    "fanv2_flux = 0.0\n",
    "\n",
    "# unit transfer form gN/s to Tg/year\n",
    "for i in range(len(ds.time)):\n",
    "    t= start_date + relativedelta(months=i)\n",
    "    t2 = start_date + relativedelta(months=i+1)\n",
    "    day = (t2-t).days\n",
    "    fanv2_flux = fanv2_flux + ds[i].values * day * 24 * 3600\n",
    "fanv2_flux = fanv2_flux * 1e-12\n",
    "\n",
    "print(fanv2_flux, \"Tg/year\")"
   ]
  },
  {
   "cell_type": "markdown",
   "id": "088299fc-11e1-4f73-88b2-af74e9df15a1",
   "metadata": {},
   "source": [
    "## NOX and N2O emission "
   ]
  },
  {
   "cell_type": "code",
   "execution_count": 71,
   "id": "3266a262-a932-4541-bdd0-e5c4f4aaf449",
   "metadata": {},
   "outputs": [],
   "source": [
    "fanCLM = []\n",
    "for i in range(delta.days//30 + 1):\n",
    "    month = start_date + relativedelta(months=i)\n",
    "    month = month.strftime('%Y-%m')\n",
    "    fanCLM.append(path + case + \".clm2.\" + \"h2\" + \".\" + month +\".nc\")"
   ]
  },
  {
   "cell_type": "code",
   "execution_count": 73,
   "id": "a7db26a7-c3c9-456a-bb72-1808966f548d",
   "metadata": {},
   "outputs": [],
   "source": [
    "def preprocess(ds, fields = fieldsh2):\n",
    "    return(ds[fields])\n",
    "\n",
    "def fix_time(ds):  \n",
    "    date0 = ds['time'][0].values\n",
    "    date1 = ds['time'][-1].values\n",
    "    # ds['time'] =xr.cftime_range(str(yr0),periods=ndays,freq='D')\n",
    "    ds['time'] = pd.date_range(str(date0),str(date1),freq='MS') \n",
    "    \n",
    "    return ds\n",
    "\n",
    "dsCLM = fix_time(xr.open_mfdataset(fanCLM, decode_times=True, preprocess=preprocess))\n",
    "# dsCLM"
   ]
  },
  {
   "cell_type": "code",
   "execution_count": 83,
   "id": "e056913f-8634-40a3-92b0-2eb3ef570789",
   "metadata": {},
   "outputs": [
    {
     "name": "stdout",
     "output_type": "stream",
     "text": [
      "N2O: 0.635161109765625 Tg/year\n",
      "NOx: 0.1499394211734375 Tg/year\n"
     ]
    }
   ],
   "source": [
    "ds_n2o = (dsCLM[\"N2O_DENITRIFY_TOTAL\"] + dsCLM[\"N2O_NITRIFY_TOTAL\"]) * dsCLM['area']*1e6\n",
    "ds_nox = (dsCLM[\"NOx_DENITRIFY_TOTAL\"] + dsCLM[\"NOx_NITRIFY_TOTAL\"]) * dsCLM['area']*1e6\n",
    "\n",
    "ds_n2o = ds_n2o.sum(dim=['lat', 'lon'])\n",
    "ds_nox = ds_nox.sum(dim=['lat', 'lon'])\n",
    "\n",
    "n2o_total = 0.0\n",
    "nox_total = 0.0\n",
    "\n",
    "# unit transfer form gN/s to Tg/year\n",
    "for i in range(len(ds.time)):\n",
    "    t= start_date + relativedelta(months=i)\n",
    "    t2 = start_date + relativedelta(months=i+1)\n",
    "    day = (t2-t).days\n",
    "    n2o_total = n2o_total + ds_n2o[i].values * day * 24 * 3600\n",
    "    nox_total = nox_total + ds_nox[i].values * day * 24 * 3600\n",
    "    \n",
    "n2o_total = n2o_total * 1e-12\n",
    "nox_total = nox_total * 1e-12\n",
    "\n",
    "print('N2O:', n2o_total, \"Tg/year\")\n",
    "print('NOx:', nox_total, \"Tg/year\")"
   ]
  },
  {
   "cell_type": "markdown",
   "id": "58aaf6bc-91be-43b6-9b0a-33a6e163b071",
   "metadata": {},
   "source": [
    "## Diffusion and Runoff"
   ]
  },
  {
   "cell_type": "code",
   "execution_count": null,
   "id": "81f19e4e-ab26-491c-9224-9386d7141474",
   "metadata": {},
   "outputs": [],
   "source": []
  }
 ],
 "metadata": {
  "kernelspec": {
   "display_name": "NPL 2023a",
   "language": "python",
   "name": "npl-2023a"
  },
  "language_info": {
   "codemirror_mode": {
    "name": "ipython",
    "version": 3
   },
   "file_extension": ".py",
   "mimetype": "text/x-python",
   "name": "python",
   "nbconvert_exporter": "python",
   "pygments_lexer": "ipython3",
   "version": "3.9.15"
  }
 },
 "nbformat": 4,
 "nbformat_minor": 5
}
